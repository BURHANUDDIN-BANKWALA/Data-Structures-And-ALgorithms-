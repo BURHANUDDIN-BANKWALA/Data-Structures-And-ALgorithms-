{
 "cells": [
  {
   "cell_type": "code",
   "execution_count": 1,
   "metadata": {},
   "outputs": [],
   "source": [
    "empty_tuple=()\n",
    "numbers=tuple([1,2,3,4,5])"
   ]
  },
  {
   "cell_type": "code",
   "execution_count": 2,
   "metadata": {},
   "outputs": [
    {
     "data": {
      "text/plain": [
       "(5, 6, 7, 8, 9, 1, 2, 3, 4, 5)"
      ]
     },
     "execution_count": 2,
     "metadata": {},
     "output_type": "execute_result"
    }
   ],
   "source": [
    "tuple1=(5,6,7,8,9)\n",
    "tuple3=tuple1+numbers\n",
    "tuple3"
   ]
  },
  {
   "cell_type": "code",
   "execution_count": 4,
   "metadata": {},
   "outputs": [
    {
     "data": {
      "text/plain": [
       "0"
      ]
     },
     "execution_count": 4,
     "metadata": {},
     "output_type": "execute_result"
    }
   ],
   "source": [
    "tuple3.count(7)\n",
    "tuple3.index(5)"
   ]
  },
  {
   "cell_type": "code",
   "execution_count": 6,
   "metadata": {},
   "outputs": [
    {
     "data": {
      "text/plain": [
       "'1'"
      ]
     },
     "execution_count": 6,
     "metadata": {},
     "output_type": "execute_result"
    }
   ],
   "source": [
    "## PACKED TUPLE\n",
    "packed_tuple='1','hello','bankwala'\n",
    "## TUPLE UNPACKING\n",
    "a,b,c=packed_tuple\n",
    "a"
   ]
  },
  {
   "cell_type": "markdown",
   "metadata": {},
   "source": [
    "## VARIABLE ARGUMENTS AND KEWORD ARGUMENTS *args,**kwargs"
   ]
  },
  {
   "cell_type": "code",
   "execution_count": 7,
   "metadata": {},
   "outputs": [
    {
     "name": "stdout",
     "output_type": "stream",
     "text": [
      "1\n",
      "2\n",
      "3\n",
      "4\n",
      "5\n",
      "6\n"
     ]
    }
   ],
   "source": [
    "def print_numbers(*args):\n",
    "    for i in args:\n",
    "        print(i)\n",
    "\n",
    "print_numbers(1,2,3,4,5,6) "
   ]
  },
  {
   "cell_type": "code",
   "execution_count": 10,
   "metadata": {},
   "outputs": [
    {
     "name": "stdout",
     "output_type": "stream",
     "text": [
      "name:hello\n",
      "age:18\n",
      "grade:A+\n"
     ]
    }
   ],
   "source": [
    "def print_details(**kwargs):\n",
    "    for i,j in kwargs.items():\n",
    "        print(f'{i}:{j}')\n",
    "## REMEMBER THAT WE ARE PASSING VARIABLES AND NOT STRINGS AS KEYS\n",
    "print_details(name='hello', age=18, grade='A+')"
   ]
  },
  {
   "cell_type": "code",
   "execution_count": 12,
   "metadata": {},
   "outputs": [
    {
     "name": "stdout",
     "output_type": "stream",
     "text": [
      "1\n",
      "2\n",
      "3\n",
      "4\n",
      "4\n",
      "name:hello\n",
      "age:18\n",
      "grade:A+\n"
     ]
    }
   ],
   "source": [
    "def print_details(*args,**kwargs):\n",
    "    for i in args:\n",
    "        print(i)\n",
    "    for i,j in kwargs.items():\n",
    "        print(f'{i}:{j}')\n",
    "## REMEMBER THAT ALL THE args MUST BE GIIVEN BEFORE THE kwargs\n",
    "print_details(1,2,3,4,4,name='hello', age=18, grade='A+')"
   ]
  },
  {
   "cell_type": "code",
   "execution_count": null,
   "metadata": {},
   "outputs": [],
   "source": []
  }
 ],
 "metadata": {
  "kernelspec": {
   "display_name": "Python 3",
   "language": "python",
   "name": "python3"
  },
  "language_info": {
   "codemirror_mode": {
    "name": "ipython",
    "version": 3
   },
   "file_extension": ".py",
   "mimetype": "text/x-python",
   "name": "python",
   "nbconvert_exporter": "python",
   "pygments_lexer": "ipython3",
   "version": "3.12.4"
  }
 },
 "nbformat": 4,
 "nbformat_minor": 2
}
