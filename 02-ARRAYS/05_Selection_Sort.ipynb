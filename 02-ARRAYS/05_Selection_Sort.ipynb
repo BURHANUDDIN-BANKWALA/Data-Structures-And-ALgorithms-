{
 "cells": [
  {
   "cell_type": "markdown",
   "metadata": {},
   "source": [
    "SELECTION SORT"
   ]
  },
  {
   "cell_type": "code",
   "execution_count": 12,
   "metadata": {},
   "outputs": [],
   "source": [
    "def selection_sort(arr):\n",
    "    ## LENGTH OF THE ARRAY\n",
    "    n=len(arr)\n",
    "    \n",
    "    ## SETTING MIN EACH TIME FROM FIRST ELEMENT 0 ind TO LAST SECOND ELEMENT n-2 ind\n",
    "    ## SINCE RANGE EXCLUDES THE LAST WE TYPE n-1 AS INDEX TO EXCLUDE THE LAST ELEMENT\n",
    "    for i in range(0,n-1):\n",
    "        min_index=i\n",
    "        ## FOR COMPARING EACH ELEMENT WITH THE SET min_ind\n",
    "        ## WE START IT FROM THE INDEX NEXT TO THE MIN INDEX BECAUSE ALL THE ELEMENTS BEFORE IT ARE ALWAYS SORTED\n",
    "        for j in range(i+1,n):\n",
    "            ##COMPARING OUR SET MIN_INDEX WITH EACH ELEMENT\n",
    "            if arr[j]<arr[min_index]:\n",
    "                min_index=j\n",
    "        arr[min_index],arr[i]=arr[i],arr[min_index]\n",
    "    return arr"
   ]
  },
  {
   "cell_type": "code",
   "execution_count": 14,
   "metadata": {},
   "outputs": [
    {
     "name": "stdout",
     "output_type": "stream",
     "text": [
      "[1, 6, 12, 22, 32, 45, 78, 92]\n"
     ]
    }
   ],
   "source": [
    "arr=[12,1,45,6,78,92,32,22]\n",
    "sorted_arr=selection_sort(arr)\n",
    "print(sorted_arr)"
   ]
  },
  {
   "cell_type": "code",
   "execution_count": null,
   "metadata": {},
   "outputs": [],
   "source": []
  }
 ],
 "metadata": {
  "kernelspec": {
   "display_name": "base",
   "language": "python",
   "name": "python3"
  },
  "language_info": {
   "codemirror_mode": {
    "name": "ipython",
    "version": 3
   },
   "file_extension": ".py",
   "mimetype": "text/x-python",
   "name": "python",
   "nbconvert_exporter": "python",
   "pygments_lexer": "ipython3",
   "version": "3.12.3"
  }
 },
 "nbformat": 4,
 "nbformat_minor": 2
}
