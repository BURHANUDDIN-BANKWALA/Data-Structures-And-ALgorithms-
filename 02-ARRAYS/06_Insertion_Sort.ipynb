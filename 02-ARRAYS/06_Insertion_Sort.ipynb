{
 "cells": [
  {
   "cell_type": "markdown",
   "metadata": {},
   "source": [
    "## INSERTION SORT\n"
   ]
  },
  {
   "cell_type": "code",
   "execution_count": null,
   "metadata": {},
   "outputs": [],
   "source": [
    "##(def insertion_sort(arr):\n",
    "##    n=len(arr)\n",
    "##  \n",
    "##    ## WE WILL SELECT EACH ELEMENT TO COMPARE FROM THE SECOND ELEMEN ind 1 TILL LAST ELEMENT ind n-1 \n",
    "##    for j in range(1,n):\n",
    "##        ## NOW WE WILL COMPARE THE SELECTED ELEMENT WITH ITS PREVIOUS ELEMENT\n",
    "##        ## HERE WE NEED TO MAKE THE SELECTED ELEMENT IN TERMS OF i BECAUSE WE ARE VARIABLY MOVING ARE SELECTED ELEMENT\n",
    "##        for i in range(j,0,-1):\n",
    "##            if arr[i]<arr[i-1]:\n",
    "##                ## UPDATING THE INDEX\n",
    "##                arr[i],arr[i-1]=arr[i-1],arr[i]\n",
    "##            else:\n",
    "##                ## SINCE IF NO CHANGE IS MADE WE CAN SAY ALL THE PREVIOUS VALUES ARE SORTED\n",
    "##                ## HENCE WE BREAK\n",
    "##                break\n",
    "##    return arr\n",
    "\n",
    "\n"
   ]
  },
  {
   "cell_type": "code",
   "execution_count": 3,
   "metadata": {},
   "outputs": [],
   "source": [
    "def insertion_sort(arr):\n",
    "    n=len(arr)\n",
    "    ## SELECTIN CARD TO COMPARE\n",
    "    for i in range(1,n):\n",
    "        ## SAVING THE CARD IN A VARIABLE\n",
    "        card=arr[i]\n",
    "        ## THE FIRST POSITION TO CHECK WITH CARD\n",
    "        correct_position=i-1\n",
    "\n",
    "        while (correct_position>=0):\n",
    "            ## IF CARD IS BIG THEN PREVIOUS ELEMENT BREAK\n",
    "            if arr[correct_position]< card:\n",
    "                break\n",
    "            ## IF NOT THEN WE SHIFT THE PREVIOUS ELEMENT BY ONE POSITION TOWARDS RIGHT\n",
    "            else:\n",
    "                arr[correct_position+1]=arr[correct_position]\n",
    "                ## NOW AFTER SHIFTING TO RIGHT WE CHANGE THE ELEMENT TO COMPARE WITH CARD WITH ANOTHER PREVIOUS ELEMENT\n",
    "                correct_position-=1\n",
    "        ## AFTER ALL THE SHIFTING FOR ONE CARD WE SAVE IT TO THE LOCATION OF correct_position +1 SINCE ELEMENT AT CORRECT POSITION IS ALREADY SMALLER THAN CARD\n",
    "        arr[correct_position+1]=card\n",
    "    return arr"
   ]
  },
  {
   "cell_type": "code",
   "execution_count": 4,
   "metadata": {},
   "outputs": [
    {
     "name": "stdout",
     "output_type": "stream",
     "text": [
      "[11, 12, 22, 25, 34, 90]\n"
     ]
    }
   ],
   "source": [
    "unsorted_arr=[12,25,11,34,90,22]\n",
    "sorted_arr=insertion_sort(unsorted_arr)\n",
    "print(sorted_arr)"
   ]
  },
  {
   "cell_type": "code",
   "execution_count": null,
   "metadata": {},
   "outputs": [],
   "source": []
  }
 ],
 "metadata": {
  "kernelspec": {
   "display_name": "base",
   "language": "python",
   "name": "python3"
  },
  "language_info": {
   "codemirror_mode": {
    "name": "ipython",
    "version": 3
   },
   "file_extension": ".py",
   "mimetype": "text/x-python",
   "name": "python",
   "nbconvert_exporter": "python",
   "pygments_lexer": "ipython3",
   "version": "3.12.3"
  }
 },
 "nbformat": 4,
 "nbformat_minor": 2
}
