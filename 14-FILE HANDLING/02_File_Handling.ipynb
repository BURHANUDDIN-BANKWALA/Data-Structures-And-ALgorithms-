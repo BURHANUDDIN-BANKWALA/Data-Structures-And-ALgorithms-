{
 "cells": [
  {
   "cell_type": "markdown",
   "metadata": {},
   "source": [
    "READING A WHOLE FILE"
   ]
  },
  {
   "cell_type": "code",
   "execution_count": 3,
   "metadata": {},
   "outputs": [
    {
     "name": "stdout",
     "output_type": "stream",
     "text": [
      "\n"
     ]
    }
   ],
   "source": [
    "with open('newfile.txt','r') as file:\n",
    "    content=file.read()\n",
    "    print(content)"
   ]
  },
  {
   "cell_type": "markdown",
   "metadata": {},
   "source": [
    "READING A FILE LINE BY LINE"
   ]
  },
  {
   "cell_type": "code",
   "execution_count": 11,
   "metadata": {},
   "outputs": [
    {
     "name": "stdout",
     "output_type": "stream",
     "text": [
      "HELLO WORLD\n",
      "this is a new line\n"
     ]
    }
   ],
   "source": [
    "with open('newfile.txt','r') as file:\n",
    "    for line in file:\n",
    "        print(line.strip())\n",
    "        ''' THE .strip() REMOVES THE NEW LINE CHARACTER OUT OF IT'''"
   ]
  },
  {
   "cell_type": "markdown",
   "metadata": {},
   "source": [
    "WRITING A FILE (OVERWRITING)"
   ]
  },
  {
   "cell_type": "code",
   "execution_count": 10,
   "metadata": {},
   "outputs": [],
   "source": [
    "with open('newfile.txt','w') as file:\n",
    "    file.write('HELLO WORLD \\n')\n",
    "    file.write('this is a new line')"
   ]
  },
  {
   "cell_type": "markdown",
   "metadata": {},
   "source": [
    "WRITING IN A FILE WITHOUT OVERWRITING"
   ]
  },
  {
   "cell_type": "code",
   "execution_count": 12,
   "metadata": {},
   "outputs": [],
   "source": [
    "with open('newfile.txt','a') as file:\n",
    "    file.write('\\n THIS IS APPENDING THE ORIGINAL FILE')"
   ]
  },
  {
   "cell_type": "code",
   "execution_count": 14,
   "metadata": {},
   "outputs": [
    {
     "name": "stdout",
     "output_type": "stream",
     "text": [
      "HELLO WORLD\n",
      "this is a new line\n",
      "THIS IS APPENDING THE ORIGINAL FILE\n"
     ]
    }
   ],
   "source": [
    "with open('newfile.txt','r') as file:\n",
    "    for line in file:\n",
    "        print(line.strip())"
   ]
  },
  {
   "cell_type": "markdown",
   "metadata": {},
   "source": [
    "ADDING A LIST OF LINES IN A FILE"
   ]
  },
  {
   "cell_type": "code",
   "execution_count": 18,
   "metadata": {},
   "outputs": [],
   "source": [
    "lines=['\\n first line \\n','second line \\n','third line \\n']\n",
    "with open('newfile.txt','a') as file:\n",
    "    file.writelines(lines)"
   ]
  },
  {
   "cell_type": "code",
   "execution_count": 19,
   "metadata": {},
   "outputs": [
    {
     "name": "stdout",
     "output_type": "stream",
     "text": [
      "HELLO WORLD\n",
      "this is a new line\n",
      "THIS IS APPENDING THE ORIGINAL FILEfirst line\n",
      "second line\n",
      "third line\n",
      "\n",
      "first line\n",
      "second line\n",
      "third line\n"
     ]
    }
   ],
   "source": [
    "with open('newfile.txt','r') as file:\n",
    "    for line in file:\n",
    "        print(line.strip())"
   ]
  },
  {
   "cell_type": "markdown",
   "metadata": {},
   "source": [
    "BINARY FILES"
   ]
  },
  {
   "cell_type": "code",
   "execution_count": 20,
   "metadata": {},
   "outputs": [],
   "source": [
    "data=b'\\x00\\x01\\x02\\x03\\x04'\n",
    "with open('example.bin', 'wb') as file:\n",
    "    file.write(data)"
   ]
  },
  {
   "cell_type": "code",
   "execution_count": 21,
   "metadata": {},
   "outputs": [
    {
     "name": "stdout",
     "output_type": "stream",
     "text": [
      "b'\\x00\\x01\\x02\\x03\\x04'\n"
     ]
    }
   ],
   "source": [
    "with open('example.bin','rb') as file:\n",
    "    content=file.read()\n",
    "    print(content)"
   ]
  },
  {
   "cell_type": "markdown",
   "metadata": {},
   "source": [
    "COPYING FROM A SOURCE FILE AND PASTING IN A DESTINATION FILE"
   ]
  },
  {
   "cell_type": "code",
   "execution_count": 22,
   "metadata": {},
   "outputs": [],
   "source": [
    "with open('newfile.txt','r') as source_file:\n",
    "    content=source_file.read()\n",
    "with open('destination.txt','w') as dest_file:\n",
    "    dest_file.write(content)\n"
   ]
  },
  {
   "cell_type": "markdown",
   "metadata": {},
   "source": [
    "TO FIND NO OF LINES WORDS AND CHARACTERS IN A FILE"
   ]
  },
  {
   "cell_type": "code",
   "execution_count": 37,
   "metadata": {},
   "outputs": [],
   "source": [
    "def count_file_content(file_path):\n",
    "    with open(file_path,'r') as file:\n",
    "        lines=file.readlines()\n",
    "        num_lines=len(lines)\n",
    "        num_words=sum(len(line.split()) for line in lines)\n",
    "        num_char=sum(len(line) for line in lines )\n",
    "        return num_char,num_words, num_lines"
   ]
  },
  {
   "cell_type": "code",
   "execution_count": 38,
   "metadata": {},
   "outputs": [
    {
     "name": "stdout",
     "output_type": "stream",
     "text": [
      "(144, 24, 9)\n"
     ]
    }
   ],
   "source": [
    "print(count_file_content('newfile.txt'))"
   ]
  },
  {
   "cell_type": "code",
   "execution_count": null,
   "metadata": {},
   "outputs": [],
   "source": []
  }
 ],
 "metadata": {
  "kernelspec": {
   "display_name": "base",
   "language": "python",
   "name": "python3"
  },
  "language_info": {
   "codemirror_mode": {
    "name": "ipython",
    "version": 3
   },
   "file_extension": ".py",
   "mimetype": "text/x-python",
   "name": "python",
   "nbconvert_exporter": "python",
   "pygments_lexer": "ipython3",
   "version": "3.12.3"
  }
 },
 "nbformat": 4,
 "nbformat_minor": 2
}
