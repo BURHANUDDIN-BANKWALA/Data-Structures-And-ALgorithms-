{
 "cells": [
  {
   "cell_type": "markdown",
   "metadata": {},
   "source": [
    "WORKING WITH FILE PATHS"
   ]
  },
  {
   "cell_type": "code",
   "execution_count": 2,
   "metadata": {},
   "outputs": [],
   "source": [
    "new_directory='package'"
   ]
  },
  {
   "cell_type": "code",
   "execution_count": 3,
   "metadata": {},
   "outputs": [
    {
     "ename": "FileExistsError",
     "evalue": "[WinError 183] Cannot create a file when that file already exists: 'package'",
     "output_type": "error",
     "traceback": [
      "\u001b[1;31m---------------------------------------------------------------------------\u001b[0m",
      "\u001b[1;31mFileExistsError\u001b[0m                           Traceback (most recent call last)",
      "Cell \u001b[1;32mIn[3], line 2\u001b[0m\n\u001b[0;32m      1\u001b[0m \u001b[38;5;28;01mimport\u001b[39;00m \u001b[38;5;21;01mos\u001b[39;00m\n\u001b[1;32m----> 2\u001b[0m os\u001b[38;5;241m.\u001b[39mmkdir(new_directory)\n",
      "\u001b[1;31mFileExistsError\u001b[0m: [WinError 183] Cannot create a file when that file already exists: 'package'"
     ]
    }
   ],
   "source": [
    "import os\n",
    "os.mkdir(new_directory)\n"
   ]
  },
  {
   "cell_type": "code",
   "execution_count": 4,
   "metadata": {},
   "outputs": [
    {
     "name": "stdout",
     "output_type": "stream",
     "text": [
      "directory package created\n"
     ]
    }
   ],
   "source": [
    "print(f'directory {new_directory} created')"
   ]
  },
  {
   "cell_type": "markdown",
   "metadata": {},
   "source": [
    "LISTING FILES AND DIRECTORIES"
   ]
  },
  {
   "cell_type": "markdown",
   "metadata": {},
   "source": [
    "os.listdir('.') THIS METHOD GIVES ALL THE FILES NAME LOCATED INSIDE THE CURRENT DIRECTORY"
   ]
  },
  {
   "cell_type": "code",
   "execution_count": 5,
   "metadata": {},
   "outputs": [
    {
     "name": "stdout",
     "output_type": "stream",
     "text": [
      "['01_File_Handling.ipynb', '02_File_Handling.ipynb', '03_File_Handling.ipynb', 'destination.txt', 'example.bin', 'example.csv', 'newfile.txt', 'package', 'test_dir', '__init___.py']\n"
     ]
    }
   ],
   "source": [
    "items=os.listdir('.')\n",
    "print(items)"
   ]
  },
  {
   "cell_type": "markdown",
   "metadata": {},
   "source": [
    "JOINING PATHS"
   ]
  },
  {
   "cell_type": "code",
   "execution_count": 7,
   "metadata": {},
   "outputs": [
    {
     "name": "stdout",
     "output_type": "stream",
     "text": [
      "folder1\\file1.txt\n"
     ]
    }
   ],
   "source": [
    "dir_name='folder1'\n",
    "file_name='file1.txt'\n",
    "full_path= os.path.join(dir_name,file_name)\n",
    "print(full_path)"
   ]
  },
  {
   "cell_type": "code",
   "execution_count": 10,
   "metadata": {},
   "outputs": [
    {
     "name": "stdout",
     "output_type": "stream",
     "text": [
      "g:\\vs code coding\\python\\DATA STRUCTURES AND ALGORITHMS\\14-FILE HANDLING\\folder1\\newfile.txt\n"
     ]
    }
   ],
   "source": [
    "dir_name='folder1'\n",
    "file_name='newfile.txt'\n",
    "full_path= os.path.join(os.getcwd(),dir_name,file_name)\n",
    "print(full_path)"
   ]
  },
  {
   "cell_type": "code",
   "execution_count": 11,
   "metadata": {},
   "outputs": [
    {
     "name": "stdout",
     "output_type": "stream",
     "text": [
      "the path example.csv already exists\n"
     ]
    }
   ],
   "source": [
    "path ='example.csv'\n",
    "if os.path.exists(path):\n",
    "    print(f'the path {path} already exists')\n",
    "else:\n",
    "    print(f'path {path } created')"
   ]
  },
  {
   "cell_type": "code",
   "execution_count": 15,
   "metadata": {},
   "outputs": [
    {
     "name": "stdout",
     "output_type": "stream",
     "text": [
      "path g:\\vs code coding\\python\\DATA STRUCTURES AND ALGORITHMS\\14-FILE HANDLING is directory\n"
     ]
    }
   ],
   "source": [
    "path=os.getcwd()\n",
    "if os.path.isfile(path):\n",
    "    print(f' path {path} is file')\n",
    "elif os.path.isdir(path):\n",
    "    print(f'path {path} is directory')\n",
    "else:\n",
    "    print(f'path {path} is neither file nor directory')"
   ]
  },
  {
   "cell_type": "markdown",
   "metadata": {},
   "source": [
    "GETTING ABSOLUTE PATH OF THE FILE"
   ]
  },
  {
   "cell_type": "code",
   "execution_count": 16,
   "metadata": {},
   "outputs": [
    {
     "name": "stdout",
     "output_type": "stream",
     "text": [
      "g:\\vs code coding\\python\\DATA STRUCTURES AND ALGORITHMS\\14-FILE HANDLING\\01_File_Handling.ipynb\n"
     ]
    }
   ],
   "source": [
    "relative_path='01_File_Handling.ipynb'\n",
    "absolute_path=os.path.abspath(relative_path)\n",
    "print(absolute_path)"
   ]
  }
 ],
 "metadata": {
  "kernelspec": {
   "display_name": "base",
   "language": "python",
   "name": "python3"
  },
  "language_info": {
   "codemirror_mode": {
    "name": "ipython",
    "version": 3
   },
   "file_extension": ".py",
   "mimetype": "text/x-python",
   "name": "python",
   "nbconvert_exporter": "python",
   "pygments_lexer": "ipython3",
   "version": "3.12.3"
  }
 },
 "nbformat": 4,
 "nbformat_minor": 2
}
