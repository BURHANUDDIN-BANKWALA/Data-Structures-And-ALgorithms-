{
 "cells": [
  {
   "cell_type": "markdown",
   "metadata": {},
   "source": [
    "INHERITENCE"
   ]
  },
  {
   "cell_type": "code",
   "execution_count": 9,
   "metadata": {},
   "outputs": [],
   "source": [
    "class Car:\n",
    "    def __init__(self,windows,engineType):\n",
    "        self.windows=windows\n",
    "        self.engineType=engineType\n",
    "    \n",
    "    def drive(self):\n",
    "        print(f'this car is {self.engineType} driven')\n"
   ]
  },
  {
   "cell_type": "code",
   "execution_count": 20,
   "metadata": {},
   "outputs": [],
   "source": [
    "class Tesla(Car):\n",
    "    def __init__(self,windows,engineType,model):\n",
    "        super().__init__(windows,engineType)\n",
    "        self.model=model\n",
    "    def horn(self):\n",
    "        print('pppppeeeeppp')"
   ]
  },
  {
   "cell_type": "code",
   "execution_count": 21,
   "metadata": {},
   "outputs": [
    {
     "name": "stdout",
     "output_type": "stream",
     "text": [
      "this car is Electric driven\n",
      "pppppeeeeppp\n"
     ]
    }
   ],
   "source": [
    "car1=Tesla(4,'Electric','v5')\n",
    "car1.drive()\n",
    "car1.horn()"
   ]
  },
  {
   "cell_type": "markdown",
   "metadata": {},
   "source": [
    "MULTIPLE INHERITANCE"
   ]
  },
  {
   "cell_type": "code",
   "execution_count": 24,
   "metadata": {},
   "outputs": [
    {
     "name": "stdout",
     "output_type": "stream",
     "text": [
      "the cat says meow!!!\n"
     ]
    }
   ],
   "source": [
    "class Animal:\n",
    "    def __init__(self,name):\n",
    "        self.name=name\n",
    "    \n",
    "    def speak(self):\n",
    "        print('subclass must import this method')\n",
    "\n",
    "class Pet:\n",
    "    def __init__(self,owner):\n",
    "        self.owner=owner\n",
    "\n",
    "class Cat(Animal,Pet):\n",
    "    def __init__(self, name,owner):\n",
    "        Animal.__init__(self,name)\n",
    "        Pet.__init__(self,owner)\n",
    "    \n",
    "    def speak(self):\n",
    "        print('the cat says meow!!!')\n",
    "\n",
    "cat1=Cat('kitty','BURHANUDDIN')\n",
    "cat1.speak()\n"
   ]
  },
  {
   "cell_type": "code",
   "execution_count": 25,
   "metadata": {},
   "outputs": [
    {
     "name": "stdout",
     "output_type": "stream",
     "text": [
      "BURHANUDDIN\n"
     ]
    }
   ],
   "source": [
    "print(cat1.owner)"
   ]
  }
 ],
 "metadata": {
  "kernelspec": {
   "display_name": "base",
   "language": "python",
   "name": "python3"
  },
  "language_info": {
   "codemirror_mode": {
    "name": "ipython",
    "version": 3
   },
   "file_extension": ".py",
   "mimetype": "text/x-python",
   "name": "python",
   "nbconvert_exporter": "python",
   "pygments_lexer": "ipython3",
   "version": "3.12.3"
  }
 },
 "nbformat": 4,
 "nbformat_minor": 2
}
