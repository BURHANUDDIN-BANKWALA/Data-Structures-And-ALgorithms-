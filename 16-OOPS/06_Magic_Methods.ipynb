{
 "cells": [
  {
   "cell_type": "markdown",
   "metadata": {},
   "source": [
    "MAGIC METHODS\n"
   ]
  },
  {
   "cell_type": "code",
   "execution_count": 1,
   "metadata": {},
   "outputs": [
    {
     "name": "stdout",
     "output_type": "stream",
     "text": [
      "<__main__.Person object at 0x000002803D66B890>\n"
     ]
    }
   ],
   "source": [
    "class Person:\n",
    "    pass\n",
    "\n",
    "per=Person()\n",
    "print(per)"
   ]
  },
  {
   "cell_type": "code",
   "execution_count": 2,
   "metadata": {},
   "outputs": [
    {
     "data": {
      "text/plain": [
       "['__class__',\n",
       " '__delattr__',\n",
       " '__dict__',\n",
       " '__dir__',\n",
       " '__doc__',\n",
       " '__eq__',\n",
       " '__format__',\n",
       " '__ge__',\n",
       " '__getattribute__',\n",
       " '__getstate__',\n",
       " '__gt__',\n",
       " '__hash__',\n",
       " '__init__',\n",
       " '__init_subclass__',\n",
       " '__le__',\n",
       " '__lt__',\n",
       " '__module__',\n",
       " '__ne__',\n",
       " '__new__',\n",
       " '__reduce__',\n",
       " '__reduce_ex__',\n",
       " '__repr__',\n",
       " '__setattr__',\n",
       " '__sizeof__',\n",
       " '__str__',\n",
       " '__subclasshook__',\n",
       " '__weakref__']"
      ]
     },
     "execution_count": 2,
     "metadata": {},
     "output_type": "execute_result"
    }
   ],
   "source": [
    "dir(Person)"
   ]
  },
  {
   "cell_type": "code",
   "execution_count": 4,
   "metadata": {},
   "outputs": [
    {
     "name": "stdout",
     "output_type": "stream",
     "text": [
      "BURHANUDDIN, 18 yrs old\n"
     ]
    }
   ],
   "source": [
    "class Person:\n",
    "    def __init__(self, name,age):\n",
    "        self.name=name\n",
    "        self.age=age\n",
    "\n",
    "    ## THIS IS THE DEFAULT METHOD THAT RETURNS US WHEN WE CALL print(class or object)\n",
    "    ## HERE WE HAVE MODIFIED IT\n",
    "    def __str__(self):\n",
    "        return f'{self.name}, {self.age} yrs old'\n",
    "\n",
    "person=Person('BURHANUDDIN',18)\n",
    "print(person)\n"
   ]
  },
  {
   "cell_type": "code",
   "execution_count": 24,
   "metadata": {},
   "outputs": [
    {
     "name": "stdout",
     "output_type": "stream",
     "text": [
      "Vector(7,8)\n",
      "Vector(9,9)\n",
      "Vector(-1,-2)\n",
      "Vector(3,3)\n"
     ]
    }
   ],
   "source": [
    "## ADD MAGIC METHOD\n",
    "class Vector:\n",
    "    def __init__(self,x,y):\n",
    "        self.x=x\n",
    "        self.y=y\n",
    "    \n",
    "    def __add__(self,other):\n",
    "        return Vector(self.x +other.x, self.y+ other.y)\n",
    "    \n",
    "    def __sub__(self,other):\n",
    "        return Vector(self.x-other.x, self.y-other.y)\n",
    "    \n",
    "    def __mul__(self,other):\n",
    "        return Vector(self.x *other, self.y *other)\n",
    "    \n",
    "    def __eq__(self,other):\n",
    "        print(Vector((self.x == other.x) and (self.y == other.y)))\n",
    "    \n",
    "    def __repr__(self):\n",
    "        return f'Vector({self.x},{self.y})'\n",
    "    \n",
    "v1=Vector(3,3)\n",
    "v2=Vector(4, 5)\n",
    "print(v1 +v2)\n",
    "print(v1 * 3)\n",
    "print(v1-v2)\n",
    "print(repr(v1))\n",
    "\n"
   ]
  },
  {
   "cell_type": "markdown",
   "metadata": {},
   "source": [
    "COMPLEX NUMBERS"
   ]
  },
  {
   "cell_type": "code",
   "execution_count": 42,
   "metadata": {},
   "outputs": [],
   "source": [
    "class ComplexNumbers:\n",
    "    def __init__(self,real, imag):\n",
    "        self.real=real\n",
    "        self.imag=imag\n",
    "    \n",
    "    def __add__(self,other):\n",
    "        return ComplexNumbers(self.real +other.real, self.imag +other.imag)\n",
    "    def __sub__(self,other):\n",
    "        return ComplexNumbers(self.real - other.real, self.imag-other.imag)\n",
    "    def __mul__(self,other):\n",
    "        return ComplexNumbers(self.real*other.real -self.imag*other.imag, self.real*other.imag +self.imag*other.real)\n",
    "    \n",
    "    def __truediv__(self,other):\n",
    "        denominator=other.real**2 +other.imag**2\n",
    "        real_part=(self.real*other.real +self.imag*other.imag)/denominator\n",
    "        imag_part=(-self.real*other.imag +self.imag*other.real)/denominator\n",
    "\n",
    "        return ComplexNumbers(real_part, imag_part)\n",
    "    def __eq__(self,other):\n",
    "        return self.real==other.real and self.imag==other.imag\n",
    "    \n",
    "    def conjugate(self):\n",
    "        return ComplexNumbers(self.real,-self.imag)\n",
    "    \n",
    "    def __repr__(self):\n",
    "        return f'{self.real}+{self.imag}i'"
   ]
  },
  {
   "cell_type": "code",
   "execution_count": 43,
   "metadata": {},
   "outputs": [],
   "source": [
    "c1=ComplexNumbers(4,5)"
   ]
  },
  {
   "cell_type": "code",
   "execution_count": 44,
   "metadata": {},
   "outputs": [
    {
     "name": "stdout",
     "output_type": "stream",
     "text": [
      "4+5i\n"
     ]
    }
   ],
   "source": [
    "print(c1)"
   ]
  },
  {
   "cell_type": "code",
   "execution_count": 45,
   "metadata": {},
   "outputs": [
    {
     "name": "stdout",
     "output_type": "stream",
     "text": [
      "8+9i\n"
     ]
    }
   ],
   "source": [
    "c2=ComplexNumbers(8,9)\n",
    "print(c2)"
   ]
  },
  {
   "cell_type": "code",
   "execution_count": 46,
   "metadata": {},
   "outputs": [
    {
     "data": {
      "text/plain": [
       "0.5310344827586206+0.027586206896551724i"
      ]
     },
     "execution_count": 46,
     "metadata": {},
     "output_type": "execute_result"
    }
   ],
   "source": [
    "c1/c2"
   ]
  },
  {
   "cell_type": "code",
   "execution_count": 50,
   "metadata": {},
   "outputs": [
    {
     "name": "stdout",
     "output_type": "stream",
     "text": [
      "4+-5i\n"
     ]
    }
   ],
   "source": [
    "print(c1.conjugate())"
   ]
  },
  {
   "cell_type": "code",
   "execution_count": null,
   "metadata": {},
   "outputs": [],
   "source": []
  }
 ],
 "metadata": {
  "kernelspec": {
   "display_name": "base",
   "language": "python",
   "name": "python3"
  },
  "language_info": {
   "codemirror_mode": {
    "name": "ipython",
    "version": 3
   },
   "file_extension": ".py",
   "mimetype": "text/x-python",
   "name": "python",
   "nbconvert_exporter": "python",
   "pygments_lexer": "ipython3",
   "version": "3.12.3"
  }
 },
 "nbformat": 4,
 "nbformat_minor": 2
}
