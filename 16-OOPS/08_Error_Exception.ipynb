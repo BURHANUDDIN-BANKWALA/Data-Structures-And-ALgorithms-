{
 "cells": [
  {
   "cell_type": "code",
   "execution_count": 1,
   "metadata": {},
   "outputs": [
    {
     "name": "stdout",
     "output_type": "stream",
     "text": [
      "The age must be between 20 and 30\n"
     ]
    }
   ],
   "source": [
    "class Error(Exception):\n",
    "    pass\n",
    "\n",
    "class dobException(Error):\n",
    "    pass\n",
    "\n",
    "year=int(input('Enter a year'))\n",
    "age=2025-year\n",
    "\n",
    "try:\n",
    "    if age>=20 and age<=30:\n",
    "        print('valid')\n",
    "    else:\n",
    "        raise dobException\n",
    "\n",
    "except dobException:\n",
    "    print('The age must be between 20 and 30')\n"
   ]
  }
 ],
 "metadata": {
  "kernelspec": {
   "display_name": "base",
   "language": "python",
   "name": "python3"
  },
  "language_info": {
   "codemirror_mode": {
    "name": "ipython",
    "version": 3
   },
   "file_extension": ".py",
   "mimetype": "text/x-python",
   "name": "python",
   "nbconvert_exporter": "python",
   "pygments_lexer": "ipython3",
   "version": "3.12.3"
  }
 },
 "nbformat": 4,
 "nbformat_minor": 2
}
