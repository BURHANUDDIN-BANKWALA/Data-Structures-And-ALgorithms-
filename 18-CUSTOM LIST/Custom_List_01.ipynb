{
 "cells": [
  {
   "cell_type": "code",
   "execution_count": 1,
   "metadata": {},
   "outputs": [],
   "source": [
    "import sys"
   ]
  },
  {
   "cell_type": "code",
   "execution_count": 2,
   "metadata": {},
   "outputs": [
    {
     "name": "stdout",
     "output_type": "stream",
     "text": [
      "initialsize: 56\n",
      "0-->88\n",
      "1-->88\n",
      "2-->88\n",
      "3-->88\n",
      "4-->120\n",
      "5-->120\n",
      "6-->120\n",
      "7-->120\n",
      "8-->184\n",
      "9-->184\n",
      "10-->184\n",
      "11-->184\n",
      "12-->184\n",
      "13-->184\n",
      "14-->184\n",
      "15-->184\n",
      "16-->248\n"
     ]
    }
   ],
   "source": [
    "l1=[]\n",
    "print('initialsize:',sys.getsizeof(l1))\n",
    "for i in range(17):\n",
    "    l1.append(i)\n",
    "    print(f'{i}-->{sys.getsizeof(l1)}')\n",
    "    "
   ]
  },
  {
   "cell_type": "markdown",
   "metadata": {},
   "source": [
    "CREATING A CUSTOM LIST CLASS "
   ]
  },
  {
   "cell_type": "code",
   "execution_count": 3,
   "metadata": {},
   "outputs": [],
   "source": [
    "import ctypes"
   ]
  },
  {
   "cell_type": "code",
   "execution_count": 6,
   "metadata": {},
   "outputs": [],
   "source": [
    "\n",
    "class CustomList:\n",
    "    def __init__(self):\n",
    "        initialCapacity=1\n",
    "        ## CAPACITY MEANS HOW MANY BLOCKS ARE THERE\n",
    "        self.capacity=initialCapacity\n",
    "        ## SIZE MEANS HOW MANY BLOCKS ARE FILLED\n",
    "        self.size=0\n",
    "\n",
    "        self.array=self.__create_array(self.capacity)\n",
    "    \n",
    "    def __create_array(self,capacity):\n",
    "        ## CREATING A NEW REFRENTIAL ARRAY WITH GIVEN CAPACITY\n",
    "        return (capacity*ctypes.py_objects)\n",
    "    \n",
    "    def append(self,item):\n",
    "        if (self.size==self.capacity):\n",
    "            self.__resize(2*self.capacity)\n",
    "\n",
    "        self.array[self.size]=item\n",
    "        size+=1\n",
    "\n",
    "    def __resize(self,newCapacity):\n",
    "        new_array=self.__create_array(newCapacity)\n",
    "        for i in range(self.size):\n",
    "            new_array[i]=self.array[i]\n",
    "            self.array=new_array\n",
    "            self.capacity=newCapacity\n",
    "\n",
    "    def __len__(self):\n",
    "        return self.size\n",
    "\n",
    "    def __str__(self):\n",
    "        output=''\n",
    "        for i in range(self.size):\n",
    "            output=output + str(self.array[i]) +','\n",
    "\n",
    "        ## return output\n",
    "        ## return '[' + output + ']' \n",
    "        return '[' + output[:-1] + ']'\n",
    "    \n",
    "    def pop(self):\n",
    "        if self.size==0:\n",
    "            return 'Empty List, Index Error: pop from empty list'\n",
    "        \n",
    "        popped_item=self.array[self.size-1]\n",
    "        self.size-=1\n",
    "        return popped_item\n",
    "    \n",
    "    def __getitem(self,index):\n",
    "        if (index>=0 & index<self.size):\n",
    "            return self.array[index]\n",
    "        \n",
    "        else:\n",
    "            return 'IndexError: Invalid Error'\n",
    "        \n",
    "    def clear(self):\n",
    "        self.size=0\n",
    "\n",
    "    def insert(self,position,item):\n",
    "        if (self.size==self.capacity):\n",
    "            self.__resize(2*self.capacity)\n",
    "\n",
    "        for index in range(self.size,position,-1):\n",
    "            self.array[index]=self.array[index-1]\n",
    "            self.array[position]=item\n",
    "            self.size+=1\n",
    "\n",
    "    def remove(self,element):\n",
    "        for index in range(self.size):\n",
    "            if (self.array[index]==element):\n",
    "                for i in range(index,self.size-1):\n",
    "                    self.array[index]=self.array[index+1]\n",
    "                self.size-=1\n",
    "\n",
    "\n",
    "    "
   ]
  }
 ],
 "metadata": {
  "kernelspec": {
   "display_name": "base",
   "language": "python",
   "name": "python3"
  },
  "language_info": {
   "codemirror_mode": {
    "name": "ipython",
    "version": 3
   },
   "file_extension": ".py",
   "mimetype": "text/x-python",
   "name": "python",
   "nbconvert_exporter": "python",
   "pygments_lexer": "ipython3",
   "version": "3.12.3"
  }
 },
 "nbformat": 4,
 "nbformat_minor": 2
}
