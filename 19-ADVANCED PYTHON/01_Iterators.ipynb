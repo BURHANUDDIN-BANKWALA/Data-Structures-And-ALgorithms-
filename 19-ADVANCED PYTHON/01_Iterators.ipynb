{
 "cells": [
  {
   "cell_type": "markdown",
   "id": "f0f26f01",
   "metadata": {},
   "source": [
    "## ITERATORS\n"
   ]
  },
  {
   "cell_type": "code",
   "execution_count": 4,
   "id": "010773f2",
   "metadata": {},
   "outputs": [
    {
     "data": {
      "text/plain": [
       "1"
      ]
     },
     "execution_count": 4,
     "metadata": {},
     "output_type": "execute_result"
    }
   ],
   "source": [
    "my_list=[1,2,3,4]\n",
    "## LAZY LOADING METHOD\n",
    "iterator=iter(my_list)\n",
    "next(iterator)"
   ]
  },
  {
   "cell_type": "code",
   "execution_count": null,
   "id": "c99c53af",
   "metadata": {},
   "outputs": [
    {
     "data": {
      "text/plain": [
       "2"
      ]
     },
     "execution_count": 5,
     "metadata": {},
     "output_type": "execute_result"
    }
   ],
   "source": [
    "next(iterator)"
   ]
  },
  {
   "cell_type": "code",
   "execution_count": 10,
   "metadata": {},
   "outputs": [
    {
     "name": "stdout",
     "output_type": "stream",
     "text": [
      "There are no iterators.\n"
     ]
    }
   ],
   "source": [
    "try:\n",
    "    print(next(iterator))\n",
    "\n",
    "except StopIteration:\n",
    "    print('There are no iterators.')"
   ]
  },
  {
   "cell_type": "markdown",
   "id": "9a74e3d7",
   "metadata": {},
   "source": [
    "GENERATORS"
   ]
  },
  {
   "cell_type": "markdown",
   "id": "10fcfacc",
   "metadata": {},
   "source": [
    "THESE ARE USED TO RETRIEVE DATA ONE BY ONE INSTEAD OF GETTING IT IN WHOLE. THIS SAVES THE COMPUTER FOR MEMORY RUNNING OUT"
   ]
  },
  {
   "cell_type": "code",
   "execution_count": null,
   "id": "4a728913",
   "metadata": {},
   "outputs": [
    {
     "name": "stdout",
     "output_type": "stream",
     "text": [
      "<generator object square at 0x000001CDDFFC7D30>\n",
      "0\n",
      "1\n",
      "4\n"
     ]
    }
   ],
   "source": [
    "def square(n):\n",
    "    for i in range(3):\n",
    "        yield i**2\n",
    "\n",
    "print(square(3))\n",
    "for i in square(3):\n",
    "    print(i)\n",
    "    next(a)"
   ]
  },
  {
   "cell_type": "code",
   "execution_count": 14,
   "id": "d3862765",
   "metadata": {},
   "outputs": [
    {
     "data": {
      "text/plain": [
       "1"
      ]
     },
     "execution_count": 14,
     "metadata": {},
     "output_type": "execute_result"
    }
   ],
   "source": [
    "def square(n):\n",
    "    for i in range(3):\n",
    "        yield i\n",
    "        \n",
    "a=square(3)\n",
    "next(a)\n",
    "next(a)"
   ]
  },
  {
   "cell_type": "markdown",
   "id": "b784fbaa",
   "metadata": {},
   "source": [
    "READING LARGE FILES (FOR GENERATORS)"
   ]
  },
  {
   "cell_type": "code",
   "execution_count": 15,
   "id": "f6072546",
   "metadata": {},
   "outputs": [],
   "source": [
    "def read_large_files(file_path):\n",
    "    with open(file_path, 'r') as file:\n",
    "        for line in file:\n",
    "            yield line"
   ]
  },
  {
   "cell_type": "code",
   "execution_count": 18,
   "id": "b5fb18a1",
   "metadata": {},
   "outputs": [
    {
     "name": "stdout",
     "output_type": "stream",
     "text": [
      "alif\n",
      "be\n",
      "se\n",
      "coronary\n"
     ]
    }
   ],
   "source": [
    "file_path='names.txt'\n",
    "for line in read_large_files(file_path):\n",
    "    print(line.strip())"
   ]
  },
  {
   "cell_type": "markdown",
   "id": "acafd561",
   "metadata": {},
   "source": [
    "FUNCTION COPY\n"
   ]
  },
  {
   "cell_type": "code",
   "execution_count": 19,
   "metadata": {},
   "outputs": [
    {
     "data": {
      "text/plain": [
       "'welcome to advanced python'"
      ]
     },
     "execution_count": 19,
     "metadata": {},
     "output_type": "execute_result"
    }
   ],
   "source": [
    "def welcome():\n",
    "    return 'welcome to advanced python'\n",
    "\n",
    "wel=welcome()\n",
    "wel"
   ]
  },
  {
   "cell_type": "code",
   "execution_count": 21,
   "id": "2c166467",
   "metadata": {},
   "outputs": [],
   "source": [
    "del welcome\n"
   ]
  },
  {
   "cell_type": "code",
   "execution_count": 22,
   "id": "6f2e44a8",
   "metadata": {},
   "outputs": [
    {
     "data": {
      "text/plain": [
       "'welcome to advanced python'"
      ]
     },
     "execution_count": 22,
     "metadata": {},
     "output_type": "execute_result"
    }
   ],
   "source": [
    "wel"
   ]
  },
  {
   "cell_type": "markdown",
   "id": "ae346ce7",
   "metadata": {},
   "source": [
    "CLOSURES: FUNCTION INSIDE FUNCTIONS"
   ]
  },
  {
   "cell_type": "code",
   "execution_count": 24,
   "id": "0a1e72ef",
   "metadata": {},
   "outputs": [],
   "source": [
    "def main_welcome():\n",
    "    msg='welcome'\n",
    "    ## THIS msg CAN BE USED INSIDE THE NEXT METHOD\n",
    "    def sub_welcome():\n",
    "        print('welcome to the adv python course')\n",
    "        print(msg)\n",
    "    return sub_welcome()"
   ]
  },
  {
   "cell_type": "code",
   "execution_count": 25,
   "id": "09889b63",
   "metadata": {},
   "outputs": [
    {
     "name": "stdout",
     "output_type": "stream",
     "text": [
      "welcome to the adv python course\n",
      "welcome\n"
     ]
    }
   ],
   "source": [
    "main_welcome()"
   ]
  },
  {
   "cell_type": "markdown",
   "id": "391a56b8",
   "metadata": {},
   "source": [
    "WE CAN SEND FUNCTION IN AS ARGUMENTS INSIDE FUNCTIONS"
   ]
  },
  {
   "cell_type": "code",
   "execution_count": 27,
   "id": "41daecb0",
   "metadata": {},
   "outputs": [
    {
     "name": "stdout",
     "output_type": "stream",
     "text": [
      "welcome to my place\n"
     ]
    }
   ],
   "source": [
    "def main_welcome(func):\n",
    "    def sub_welcome():\n",
    "        func('welcome to my place')\n",
    "    \n",
    "    return sub_welcome()\n",
    "\n",
    "main_welcome(print)"
   ]
  },
  {
   "cell_type": "code",
   "execution_count": 29,
   "id": "1a1f429f",
   "metadata": {},
   "outputs": [
    {
     "name": "stdout",
     "output_type": "stream",
     "text": [
      "5\n"
     ]
    }
   ],
   "source": [
    "def main_welcome(func, lst):\n",
    "    def sub_welcome():\n",
    "        print(func(lst))\n",
    "    \n",
    "    return sub_welcome()\n",
    "\n",
    "main_welcome(len,[1,2,3,4,5])"
   ]
  },
  {
   "cell_type": "markdown",
   "id": "ed33b046",
   "metadata": {},
   "source": [
    "DECORATORS"
   ]
  },
  {
   "cell_type": "code",
   "execution_count": 51,
   "id": "b94a8e69",
   "metadata": {},
   "outputs": [],
   "source": [
    "def main_welcome(func):\n",
    "    def sub_welcome():\n",
    "        func()\n",
    "    \n",
    "    return sub_welcome()\n",
    "\n",
    "\n"
   ]
  },
  {
   "cell_type": "code",
   "execution_count": 52,
   "id": "57ad0c4c",
   "metadata": {},
   "outputs": [
    {
     "name": "stdout",
     "output_type": "stream",
     "text": [
      "welcome to course\n"
     ]
    }
   ],
   "source": [
    "@main_welcome\n",
    "def course ():\n",
    "    print('welcome to course')"
   ]
  },
  {
   "cell_type": "code",
   "execution_count": 45,
   "id": "b630410d",
   "metadata": {},
   "outputs": [],
   "source": [
    "def repeat(n):\n",
    "    def decorator(func):\n",
    "        def wrapper(*args,**kwargs):\n",
    "            for _ in range(n):\n",
    "                func(*args,**kwargs)\n",
    "        return wrapper\n",
    "    return decorator"
   ]
  },
  {
   "cell_type": "code",
   "execution_count": 46,
   "id": "cd2658a1",
   "metadata": {},
   "outputs": [],
   "source": [
    "@repeat(3)\n",
    "def say_hello():\n",
    "    print('hello')"
   ]
  },
  {
   "cell_type": "code",
   "execution_count": 48,
   "id": "04faae02",
   "metadata": {},
   "outputs": [
    {
     "name": "stdout",
     "output_type": "stream",
     "text": [
      "hello\n",
      "hello\n",
      "hello\n"
     ]
    }
   ],
   "source": [
    "say_hello()"
   ]
  },
  {
   "cell_type": "code",
   "execution_count": null,
   "id": "715f6ef2",
   "metadata": {},
   "outputs": [],
   "source": []
  }
 ],
 "metadata": {
  "kernelspec": {
   "display_name": "base",
   "language": "python",
   "name": "python3"
  },
  "language_info": {
   "codemirror_mode": {
    "name": "ipython",
    "version": 3
   },
   "file_extension": ".py",
   "mimetype": "text/x-python",
   "name": "python",
   "nbconvert_exporter": "python",
   "pygments_lexer": "ipython3",
   "version": "3.12.3"
  }
 },
 "nbformat": 4,
 "nbformat_minor": 5
}
