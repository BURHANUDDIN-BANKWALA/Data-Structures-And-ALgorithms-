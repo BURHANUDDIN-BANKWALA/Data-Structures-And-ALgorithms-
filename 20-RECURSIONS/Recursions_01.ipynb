{
 "cells": [
  {
   "cell_type": "code",
   "execution_count": 1,
   "id": "8f402fb7",
   "metadata": {},
   "outputs": [],
   "source": [
    "def fact(num):\n",
    "    if num>1:\n",
    "        return num*fact(num-1)\n",
    "    elif num<=0:\n",
    "        return 'invalid num'\n",
    "    else:\n",
    "        return 1"
   ]
  },
  {
   "cell_type": "code",
   "execution_count": 2,
   "id": "770a5e01",
   "metadata": {},
   "outputs": [
    {
     "data": {
      "text/plain": [
       "1307674368000"
      ]
     },
     "execution_count": 2,
     "metadata": {},
     "output_type": "execute_result"
    }
   ],
   "source": [
    "fact(15)"
   ]
  },
  {
   "cell_type": "markdown",
   "id": "df7ea1bb",
   "metadata": {},
   "source": [
    "TO CHECK THE RECURSION LIMIT OF THE PYTHON"
   ]
  },
  {
   "cell_type": "markdown",
   "id": "91eb2514",
   "metadata": {},
   "source": [
    "WE USE sys.getrecursionlimit() TO CHECK THE LIMIT"
   ]
  },
  {
   "cell_type": "code",
   "execution_count": 5,
   "id": "3fe737e5",
   "metadata": {},
   "outputs": [
    {
     "name": "stdout",
     "output_type": "stream",
     "text": [
      "100\n"
     ]
    }
   ],
   "source": [
    "import sys\n",
    "print(sys.getrecursionlimit())"
   ]
  },
  {
   "cell_type": "markdown",
   "id": "bd05c287",
   "metadata": {},
   "source": [
    "WE CAN SET NEW RECURSION LIMINT BY USING sys.setrecursionlimit(1000) METHOD"
   ]
  },
  {
   "cell_type": "code",
   "execution_count": 4,
   "metadata": {},
   "outputs": [],
   "source": [
    "sys.setrecursionlimit(100)"
   ]
  },
  {
   "cell_type": "markdown",
   "id": "9c7c3cc0",
   "metadata": {},
   "source": [
    "FINDING THE 2^n FOR A GIVEN n"
   ]
  },
  {
   "cell_type": "code",
   "execution_count": 6,
   "id": "2dbe7aa9",
   "metadata": {},
   "outputs": [],
   "source": [
    "def power(n):\n",
    "    if n==1:\n",
    "        return 2\n",
    "    else:\n",
    "        return 2*power(n-1)\n",
    "    "
   ]
  },
  {
   "cell_type": "code",
   "execution_count": 8,
   "id": "b4dea6ff",
   "metadata": {},
   "outputs": [
    {
     "data": {
      "text/plain": [
       "4"
      ]
     },
     "execution_count": 8,
     "metadata": {},
     "output_type": "execute_result"
    }
   ],
   "source": [
    "power(2)"
   ]
  },
  {
   "cell_type": "markdown",
   "id": "06e3b5f0",
   "metadata": {},
   "source": [
    "SUM OF ALL NATURAL NUM FROM 1 TO N"
   ]
  },
  {
   "cell_type": "code",
   "execution_count": 9,
   "id": "c2fb052a",
   "metadata": {},
   "outputs": [],
   "source": [
    "def sum(n):\n",
    "    if n==1:\n",
    "        return 1\n",
    "    \n",
    "    return n+sum(n-1)"
   ]
  },
  {
   "cell_type": "code",
   "execution_count": 10,
   "id": "4aa385a7",
   "metadata": {},
   "outputs": [
    {
     "data": {
      "text/plain": [
       "10"
      ]
     },
     "execution_count": 10,
     "metadata": {},
     "output_type": "execute_result"
    }
   ],
   "source": [
    "sum(4)"
   ]
  },
  {
   "cell_type": "markdown",
   "id": "0710d4d2",
   "metadata": {},
   "source": [
    "TO FUND THE NO. OF DIGITS IN A NUMBER"
   ]
  },
  {
   "cell_type": "code",
   "execution_count": 12,
   "id": "5e3f064f",
   "metadata": {},
   "outputs": [],
   "source": [
    "def digits(n):\n",
    "    if n==0:\n",
    "        return 1\n",
    "    elif (n >=1 and n<=9):\n",
    "        return 1\n",
    "    \n",
    "    return 1+digits(n/10)\n",
    "\n"
   ]
  },
  {
   "cell_type": "code",
   "execution_count": 19,
   "id": "82da4315",
   "metadata": {},
   "outputs": [
    {
     "data": {
      "text/plain": [
       "7"
      ]
     },
     "execution_count": 19,
     "metadata": {},
     "output_type": "execute_result"
    }
   ],
   "source": [
    "digits(1990879)"
   ]
  },
  {
   "cell_type": "markdown",
   "id": "effab168",
   "metadata": {},
   "source": [
    "FIBBONACCI"
   ]
  },
  {
   "cell_type": "code",
   "execution_count": 24,
   "id": "dcd208c2",
   "metadata": {},
   "outputs": [],
   "source": [
    "def fib(num):\n",
    "    if num==1 or num==0:\n",
    "        return 1\n",
    "    return fib(num-1) +fib(num-2)"
   ]
  },
  {
   "cell_type": "code",
   "execution_count": 29,
   "id": "c2fb20ec",
   "metadata": {},
   "outputs": [
    {
     "name": "stdout",
     "output_type": "stream",
     "text": [
      "1\n",
      "2\n",
      "3\n",
      "5\n",
      "8\n",
      "13\n",
      "21\n",
      "34\n",
      "55\n",
      "89\n"
     ]
    }
   ],
   "source": [
    "for i in range(10):\n",
    "    print(fib(i+1))"
   ]
  }
 ],
 "metadata": {
  "kernelspec": {
   "display_name": "base",
   "language": "python",
   "name": "python3"
  },
  "language_info": {
   "codemirror_mode": {
    "name": "ipython",
    "version": 3
   },
   "file_extension": ".py",
   "mimetype": "text/x-python",
   "name": "python",
   "nbconvert_exporter": "python",
   "pygments_lexer": "ipython3",
   "version": "3.12.3"
  }
 },
 "nbformat": 4,
 "nbformat_minor": 5
}
