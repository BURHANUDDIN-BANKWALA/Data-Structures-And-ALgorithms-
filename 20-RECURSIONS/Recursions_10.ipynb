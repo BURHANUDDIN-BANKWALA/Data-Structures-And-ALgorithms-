{
 "cells": [
  {
   "cell_type": "markdown",
   "id": "4f75d59c",
   "metadata": {},
   "source": [
    "HEAD V/S TAIL RECURSIONS"
   ]
  },
  {
   "cell_type": "markdown",
   "id": "eb5d5214",
   "metadata": {},
   "source": [
    "IN HEAD WE FIRST CALL RECURSION THEN WE DO OUR WORK\n"
   ]
  },
  {
   "cell_type": "markdown",
   "id": "40120893",
   "metadata": {},
   "source": [
    "IN TAIL RECURSION WE FIRST DO OUR WORK THEN CALL RECURSIOIN.\n",
    "THIS TYPE OF RECURSIONS ARE MORE EFFICIENT."
   ]
  },
  {
   "cell_type": "code",
   "execution_count": 3,
   "id": "3637743a",
   "metadata": {},
   "outputs": [],
   "source": [
    "def fact(num, accumulator=1):\n",
    "    if num==0:\n",
    "        return accumulator\n",
    "    \n",
    "    accumulator=num*accumulator\n",
    "    return (fact(num-1,accumulator))"
   ]
  },
  {
   "cell_type": "markdown",
   "id": "3e1ae271",
   "metadata": {},
   "source": [
    "PRINT 1 TO N"
   ]
  },
  {
   "cell_type": "code",
   "execution_count": 6,
   "id": "9f1e21e0",
   "metadata": {},
   "outputs": [],
   "source": [
    "def print1_N(num,accumulator=1):\n",
    "    if accumulator==num:\n",
    "        print(accumulator)\n",
    "        return\n",
    "    print(accumulator)\n",
    "    print1_N(num,accumulator+1)"
   ]
  },
  {
   "cell_type": "code",
   "execution_count": 7,
   "id": "b205a72d",
   "metadata": {},
   "outputs": [
    {
     "name": "stdout",
     "output_type": "stream",
     "text": [
      "1\n",
      "2\n",
      "3\n",
      "4\n",
      "5\n"
     ]
    }
   ],
   "source": [
    "print1_N(5)"
   ]
  },
  {
   "cell_type": "markdown",
   "id": "e231a0db",
   "metadata": {},
   "source": [
    "PRINT N TO 1"
   ]
  },
  {
   "cell_type": "code",
   "execution_count": 9,
   "id": "2c0ac377",
   "metadata": {},
   "outputs": [],
   "source": [
    "def prin_N_1(num):\n",
    "    if num<=0:\n",
    "        return\n",
    "    print(num)\n",
    "    prin_N_1(num-1)"
   ]
  },
  {
   "cell_type": "code",
   "execution_count": 10,
   "id": "d050d215",
   "metadata": {},
   "outputs": [
    {
     "name": "stdout",
     "output_type": "stream",
     "text": [
      "8\n",
      "7\n",
      "6\n",
      "5\n",
      "4\n",
      "3\n",
      "2\n",
      "1\n"
     ]
    }
   ],
   "source": [
    "prin_N_1(8)"
   ]
  },
  {
   "cell_type": "markdown",
   "id": "4502f027",
   "metadata": {},
   "source": [
    "SUM OF ALL DIGITS OF A NUM"
   ]
  },
  {
   "cell_type": "code",
   "execution_count": 19,
   "id": "2abcae7d",
   "metadata": {},
   "outputs": [],
   "source": [
    "def Sum(num,acc=0):\n",
    "    if num%10==0:\n",
    "        return acc\n",
    "    \n",
    "    acc=acc+(num%10)\n",
    "    return Sum(int(num/10),acc)"
   ]
  },
  {
   "cell_type": "code",
   "execution_count": 18,
   "id": "815116d6",
   "metadata": {},
   "outputs": [
    {
     "name": "stdout",
     "output_type": "stream",
     "text": [
      "8\n",
      "16\n",
      "16\n"
     ]
    }
   ],
   "source": [
    "print(Sum(88))"
   ]
  },
  {
   "cell_type": "code",
   "execution_count": 33,
   "id": "5406af31",
   "metadata": {},
   "outputs": [],
   "source": [
    "def powe(base,power,acc=1):\n",
    "    if power==1:\n",
    "        return base*acc\n",
    "    \n",
    "    acc= acc * base\n",
    "    return powe(base,power-1,acc)"
   ]
  },
  {
   "cell_type": "code",
   "execution_count": 34,
   "metadata": {},
   "outputs": [
    {
     "data": {
      "text/plain": [
       "8"
      ]
     },
     "execution_count": 34,
     "metadata": {},
     "output_type": "execute_result"
    }
   ],
   "source": [
    "powe(2,3)"
   ]
  }
 ],
 "metadata": {
  "kernelspec": {
   "display_name": "base",
   "language": "python",
   "name": "python3"
  },
  "language_info": {
   "codemirror_mode": {
    "name": "ipython",
    "version": 3
   },
   "file_extension": ".py",
   "mimetype": "text/x-python",
   "name": "python",
   "nbconvert_exporter": "python",
   "pygments_lexer": "ipython3",
   "version": "3.12.3"
  }
 },
 "nbformat": 4,
 "nbformat_minor": 5
}
