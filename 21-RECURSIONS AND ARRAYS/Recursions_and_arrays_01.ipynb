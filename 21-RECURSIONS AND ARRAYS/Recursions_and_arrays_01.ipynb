{
 "cells": [
  {
   "cell_type": "markdown",
   "id": "354635b5",
   "metadata": {},
   "source": [
    "##TO CHECK IF ARRAY IS SORTED"
   ]
  },
  {
   "cell_type": "code",
   "execution_count": 4,
   "id": "6ffc1926",
   "metadata": {},
   "outputs": [],
   "source": [
    "def check(lst):\n",
    "    if len(lst)==0:\n",
    "        return 'EMPTY LIST'\n",
    "    elif len(lst)==1:\n",
    "        return True\n",
    "    \n",
    "    if lst[0]>lst[1]:\n",
    "        return False\n",
    "    \n",
    "    return check(lst[1:])"
   ]
  },
  {
   "cell_type": "code",
   "execution_count": 6,
   "metadata": {},
   "outputs": [
    {
     "data": {
      "text/plain": [
       "False"
      ]
     },
     "execution_count": 6,
     "metadata": {},
     "output_type": "execute_result"
    }
   ],
   "source": [
    "check([90,29,30])"
   ]
  },
  {
   "cell_type": "markdown",
   "id": "083b1b3a",
   "metadata": {},
   "source": [
    "SUM OF ARRAY"
   ]
  },
  {
   "cell_type": "code",
   "execution_count": 7,
   "metadata": {},
   "outputs": [],
   "source": [
    "def sum(lst,acc=0):\n",
    "    if len(lst)==0:\n",
    "        return acc\n",
    "    acc+=lst[0]\n",
    "    return sum(lst[1:],acc)"
   ]
  },
  {
   "cell_type": "code",
   "execution_count": 8,
   "metadata": {},
   "outputs": [
    {
     "data": {
      "text/plain": [
       "10"
      ]
     },
     "execution_count": 8,
     "metadata": {},
     "output_type": "execute_result"
    }
   ],
   "source": [
    "sum([1,2,3,4])"
   ]
  },
  {
   "cell_type": "markdown",
   "id": "9254fdb9",
   "metadata": {},
   "source": [
    "TO FIND THE FIRST AND THE LAST INDEX OF AN ELEMENT IN A LIST"
   ]
  },
  {
   "cell_type": "code",
   "execution_count": 9,
   "metadata": {},
   "outputs": [],
   "source": [
    "def first(lst,ele,acc=0):\n",
    "    if len(lst)==acc:\n",
    "        return 'element not found'\n",
    "    if len(lst)==0:\n",
    "        return 'empty list' \n",
    "    \n",
    "    if lst[acc]==ele:\n",
    "        return acc\n",
    "    return first(lst,ele,acc+1)\n"
   ]
  },
  {
   "cell_type": "code",
   "execution_count": 10,
   "metadata": {},
   "outputs": [
    {
     "data": {
      "text/plain": [
       "4"
      ]
     },
     "execution_count": 10,
     "metadata": {},
     "output_type": "execute_result"
    }
   ],
   "source": [
    "first([1,2,2,3,4,5,6],4)"
   ]
  },
  {
   "cell_type": "code",
   "execution_count": 18,
   "id": "ee192b7e",
   "metadata": {},
   "outputs": [],
   "source": [
    "def las(lst,ele,acc=-1):\n",
    "    if len(lst)+acc<0:\n",
    "        return 'element not found'\n",
    "    if len(lst)==0:\n",
    "        return 'empty list' \n",
    "    \n",
    "    if lst[acc]==ele:\n",
    "        return(  acc +len(lst))\n",
    "    return las(lst,ele,acc-1)\n"
   ]
  },
  {
   "cell_type": "code",
   "execution_count": 19,
   "metadata": {},
   "outputs": [
    {
     "data": {
      "text/plain": [
       "5"
      ]
     },
     "execution_count": 19,
     "metadata": {},
     "output_type": "execute_result"
    }
   ],
   "source": [
    "las([1,2,3,4,6,3,2],3)"
   ]
  },
  {
   "cell_type": "markdown",
   "id": "dd918b56",
   "metadata": {},
   "source": [
    "PRINT ALL THE INDEX WHERE ELEMENT OCCURS IN A LIST\n"
   ]
  },
  {
   "cell_type": "code",
   "execution_count": 20,
   "id": "308301b2",
   "metadata": {},
   "outputs": [],
   "source": [
    "def index(lst,ele,acc=0):\n",
    "    if len(lst)==0:\n",
    "        return 'Empty List'\n",
    "    if len(lst)==acc:\n",
    "        return\n",
    "    if lst[acc]==ele:\n",
    "        print(acc)\n",
    "    return index(lst,ele,acc+1)"
   ]
  },
  {
   "cell_type": "code",
   "execution_count": 21,
   "metadata": {},
   "outputs": [
    {
     "name": "stdout",
     "output_type": "stream",
     "text": [
      "1\n",
      "4\n",
      "5\n",
      "6\n"
     ]
    }
   ],
   "source": [
    "index([1,2,3,4,2,2,2,],2)"
   ]
  },
  {
   "cell_type": "markdown",
   "id": "11df0a53",
   "metadata": {},
   "source": [
    "UPDATE INDEX"
   ]
  },
  {
   "cell_type": "code",
   "execution_count": 24,
   "metadata": {},
   "outputs": [],
   "source": [
    "def update(lst,ele):\n",
    "    index_lst=[]\n",
    "    def index(lst,ele,acc=0):\n",
    "        if len(lst)==0:\n",
    "            return 'Empty List'\n",
    "        if len(lst)==acc:\n",
    "            return\n",
    "        if lst[acc]==ele:\n",
    "         index_lst.append(acc)\n",
    "        return index(lst,ele,acc+1)\n",
    "    index(lst,ele)\n",
    "    return index_lst"
   ]
  },
  {
   "cell_type": "code",
   "execution_count": 25,
   "metadata": {},
   "outputs": [
    {
     "data": {
      "text/plain": [
       "[1, 2, 3, 5]"
      ]
     },
     "execution_count": 25,
     "metadata": {},
     "output_type": "execute_result"
    }
   ],
   "source": [
    "update([1,2,2,2,3,2],2)"
   ]
  }
 ],
 "metadata": {
  "kernelspec": {
   "display_name": "base",
   "language": "python",
   "name": "python3"
  },
  "language_info": {
   "codemirror_mode": {
    "name": "ipython",
    "version": 3
   },
   "file_extension": ".py",
   "mimetype": "text/x-python",
   "name": "python",
   "nbconvert_exporter": "python",
   "pygments_lexer": "ipython3",
   "version": "3.12.3"
  }
 },
 "nbformat": 4,
 "nbformat_minor": 5
}
