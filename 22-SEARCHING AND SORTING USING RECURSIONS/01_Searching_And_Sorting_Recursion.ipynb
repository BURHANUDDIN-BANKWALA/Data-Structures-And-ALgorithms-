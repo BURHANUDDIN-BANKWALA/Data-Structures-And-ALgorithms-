{
 "cells": [
  {
   "cell_type": "markdown",
   "id": "b3ae47fc",
   "metadata": {},
   "source": [
    "LINEAR SEARCH USING RECURSION"
   ]
  },
  {
   "cell_type": "markdown",
   "id": "1df872bc",
   "metadata": {},
   "source": [
    "## HERE WE HAVE USED TAIL RECURSION\n"
   ]
  },
  {
   "cell_type": "code",
   "execution_count": 8,
   "id": "70559e2d",
   "metadata": {},
   "outputs": [],
   "source": [
    "def linear_search(lst,ele,acc=0):\n",
    "    ## IF LIST IS EMPTY\n",
    "    if len(lst)==0:\n",
    "        return 'Empty List'\n",
    "    ## IF ELEMENT IS NOT THERE\n",
    "    if len(lst)==acc:\n",
    "        return 'Element Not Found!'\n",
    "    ## IF ELEMENT IS PRESENT\n",
    "    if lst[acc]==ele:\n",
    "        return acc\n",
    "    \n",
    "    return linear_search(lst,ele,acc+1)"
   ]
  },
  {
   "cell_type": "code",
   "execution_count": 9,
   "id": "11968dc1",
   "metadata": {},
   "outputs": [
    {
     "name": "stdout",
     "output_type": "stream",
     "text": [
      "6\n"
     ]
    }
   ],
   "source": [
    "print(linear_search([1,2,3,4,5,6,7,8,9,0],7))"
   ]
  },
  {
   "cell_type": "markdown",
   "id": "0deee2bb",
   "metadata": {},
   "source": [
    "BINARY SEARCH IN RECURSION"
   ]
  },
  {
   "cell_type": "code",
   "execution_count": 14,
   "id": "fceb97a1",
   "metadata": {},
   "outputs": [],
   "source": [
    "def binary_helper(lst,ele,s,e):\n",
    "    ## BASE CASE\n",
    "    ## EMPTY LIST\n",
    "    if len(lst)==0:\n",
    "        return 'Empty List!'\n",
    "    \n",
    "    ## OUT OF INDEX NOT FOUND\n",
    "    if (s>e):\n",
    "        return 'Element Not Found'\n",
    "    \n",
    "    mid=(s+e)//2\n",
    "    if lst[mid]==ele:\n",
    "        return mid\n",
    "    \n",
    "    elif lst[mid]<ele:\n",
    "       return binary_helper(lst,ele,mid+1,e)\n",
    "\n",
    "    else:\n",
    "       return binary_helper(lst,ele,s,mid-1)\n",
    "\n",
    "def binary_search(lst,ele):\n",
    "   end=len(lst)-1\n",
    "   return binary_helper(lst,ele,0,end)"
   ]
  },
  {
   "cell_type": "code",
   "execution_count": 15,
   "id": "bd0b828e",
   "metadata": {},
   "outputs": [
    {
     "name": "stdout",
     "output_type": "stream",
     "text": [
      "6\n"
     ]
    }
   ],
   "source": [
    "print(binary_search([1,2,3,4,5,6,7,8,9,0],7))"
   ]
  },
  {
   "cell_type": "markdown",
   "id": "60e415d8",
   "metadata": {},
   "source": [
    "MERGE SORT"
   ]
  },
  {
   "cell_type": "markdown",
   "id": "a58b7dba",
   "metadata": {},
   "source": [
    "## IN MERGE SORT WE USE HEAD RECURSION APPROACH"
   ]
  },
  {
   "cell_type": "markdown",
   "id": "10e8abee",
   "metadata": {},
   "source": [
    "WE FIRST BREAK THE GIVEN LIST FROM MIDDLE AND USE IT RECURSIVELY TILL WE GET SINGLE ELEMENTS AT LAST "
   ]
  },
  {
   "cell_type": "markdown",
   "id": "2932f718",
   "metadata": {},
   "source": []
  },
  {
   "cell_type": "code",
   "execution_count": 51,
   "id": "21700be1",
   "metadata": {},
   "outputs": [],
   "source": [
    "def merge_sort(lst):\n",
    "    return merge_sort_helper(lst,0,len(lst)-1)\n",
    "    "
   ]
  },
  {
   "cell_type": "code",
   "execution_count": null,
   "id": "37fa6fad",
   "metadata": {},
   "outputs": [],
   "source": [
    "\n",
    "def merge_sort_helper(lst,s,e):\n",
    "    ## BASE CASE\n",
    "    if s>=e:\n",
    "        return\n",
    "    \n",
    "    m=(s+e)//2\n",
    "    merge_sort_helper(lst,s,m)\n",
    "    merge_sort_helper(lst,m+1,e)\n",
    "\n",
    "    merge(lst,s,m,e)\n",
    "    return lst\n"
   ]
  },
  {
   "cell_type": "code",
   "execution_count": 64,
   "id": "6fdff52d",
   "metadata": {},
   "outputs": [],
   "source": [
    "def merge(lst,s,m,e):\n",
    "    i=s\n",
    "    j=m+1\n",
    "    ans=[]\n",
    "\n",
    "    while(i<=m and j<=e):\n",
    "        if lst[i]<lst[j]:\n",
    "            ans.append(lst[i])\n",
    "            i+=1\n",
    "        elif lst[i]>lst[j]:\n",
    "            ans.append(lst[j])\n",
    "            j+=1\n",
    "        elif lst[i]==lst[j]:\n",
    "            ans.append(lst[i])\n",
    "            ans.append(lst[j])\n",
    "            i+=1\n",
    "            j+=1\n",
    "    while(i<=m):\n",
    "        ans.append(lst[i])\n",
    "        i+=1\n",
    "    while(j<=e):\n",
    "        ans.append(lst[j])\n",
    "        j+=1\n",
    "\n",
    "    start_ans=0\n",
    "    start_lst=s\n",
    "    while(start_lst<=e):\n",
    "        lst[start_lst]=ans[start_ans]\n",
    "        start_ans+=1\n",
    "        start_lst+=1\n",
    "    return lst"
   ]
  },
  {
   "cell_type": "code",
   "execution_count": 65,
   "id": "07d1251d",
   "metadata": {},
   "outputs": [
    {
     "name": "stdout",
     "output_type": "stream",
     "text": [
      "[0, 1, 2, 2, 3, 3, 5, 5, 5, 7, 7, 8, 8, 9, 9, 9, 9, 9, 9, 9, 67]\n"
     ]
    }
   ],
   "source": [
    "print(merge_sort([9,7,9,1,2,3,5,7,8,9,0,3,9,9,9,9,5,5,67,8,2]))"
   ]
  },
  {
   "cell_type": "code",
   "execution_count": 8,
   "id": "004aeaa0",
   "metadata": {},
   "outputs": [],
   "source": [
    "import sys"
   ]
  },
  {
   "cell_type": "code",
   "execution_count": 22,
   "id": "197a39cd",
   "metadata": {},
   "outputs": [
    {
     "name": "stdout",
     "output_type": "stream",
     "text": [
      "3000\n"
     ]
    }
   ],
   "source": [
    "print(sys.getrecursionlimit())"
   ]
  },
  {
   "cell_type": "code",
   "execution_count": 49,
   "id": "94e0e435",
   "metadata": {},
   "outputs": [],
   "source": [
    "\n",
    "sys.setrecursionlimit(5000)"
   ]
  },
  {
   "cell_type": "markdown",
   "id": "96f97df3",
   "metadata": {},
   "source": [
    "## QUICK SORT"
   ]
  },
  {
   "cell_type": "markdown",
   "id": "d8385448",
   "metadata": {},
   "source": [
    "IN QUICK SORT FIRST WE ARRANGE THEN WE CALL RECURSION"
   ]
  },
  {
   "cell_type": "markdown",
   "id": "5e0050f9",
   "metadata": {},
   "source": [
    "IN MERGE SORT WE FIRST SELECT A PIVOT AND THEN FIND ITS RIGHT POSITION \n",
    "THEN SET ALL THE ELEMENTS SMALLER THAN THE PIVOT TO THE LEFT OF THE PIVOT"
   ]
  },
  {
   "cell_type": "code",
   "execution_count": 75,
   "id": "67ba769e",
   "metadata": {},
   "outputs": [],
   "source": [
    "def quick_sort(lst):\n",
    "    e=len(lst)-1\n",
    "    return quick_sort_helper(lst,0,e)\n",
    "\n",
    "def quick_sort_helper(lst,s,e):\n",
    "    ## BASE CASE\n",
    "    if s>=e:\n",
    "        return\n",
    "    \n",
    "    pivot_index=partition_func(lst,s,e)\n",
    "    quick_sort_helper(lst,s,pivot_index-1)\n",
    "    quick_sort_helper(lst,pivot_index+1,e)\n",
    "    return lst\n",
    "\n",
    "def partition_func(lst,s,e):\n",
    "    ## SETTING THE PIVOT\n",
    "    pivot=lst[e]\n",
    "    i=s\n",
    "    right_pos=s\n",
    "    ## TO COUNT WHERE THE RIGHT POSITION IS\n",
    "    while(i<e):\n",
    "        if lst[i]<pivot:\n",
    "            right_pos+=1\n",
    "        i+=1\n",
    "\n",
    "    ## SETTING THE PIVOT TO THE RIGHT POSITION\n",
    "    lst[right_pos],lst[e]=lst[e],lst[right_pos]\n",
    "    pivot_index=right_pos\n",
    "\n",
    "    ## SETTING ALL THE ELEMENTS SMALLER THAN PIVOT TO THE LEFT SIDE\n",
    "    start=s\n",
    "    end=e\n",
    "    while(start<pivot_index and end>pivot_index):\n",
    "        if lst[start]<pivot:\n",
    "            start+=1\n",
    "        elif lst[end]>=pivot:\n",
    "            end-=1\n",
    "        else:\n",
    "            lst[start],lst[end]=lst[end],lst[start]\n",
    "            start+=1\n",
    "            end-=1\n",
    "    return pivot_index"
   ]
  },
  {
   "cell_type": "code",
   "execution_count": 78,
   "id": "001d58cf",
   "metadata": {},
   "outputs": [
    {
     "data": {
      "text/plain": [
       "[1, 1, 2, 2, 2, 3, 3, 3, 4, 4, 4, 234]"
      ]
     },
     "execution_count": 78,
     "metadata": {},
     "output_type": "execute_result"
    }
   ],
   "source": [
    "quick_sort([1,2,3,4,1,3,4,2,4,2,3,234])"
   ]
  }
 ],
 "metadata": {
  "kernelspec": {
   "display_name": "base",
   "language": "python",
   "name": "python3"
  },
  "language_info": {
   "codemirror_mode": {
    "name": "ipython",
    "version": 3
   },
   "file_extension": ".py",
   "mimetype": "text/x-python",
   "name": "python",
   "nbconvert_exporter": "python",
   "pygments_lexer": "ipython3",
   "version": "3.12.3"
  }
 },
 "nbformat": 4,
 "nbformat_minor": 5
}
