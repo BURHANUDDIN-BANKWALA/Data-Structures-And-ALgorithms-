{
 "cells": [
  {
   "cell_type": "markdown",
   "id": "a7cf7511",
   "metadata": {},
   "source": [
    "REMOVE STRING FUNCTION THAT RETURNS AFTER REMOVING GIVEN STRING PART FROM ORIGINAL"
   ]
  },
  {
   "cell_type": "code",
   "execution_count": 17,
   "id": "ec9d6440",
   "metadata": {},
   "outputs": [],
   "source": [
    "lst=[]\n",
    "def remove_string(string, eraser):\n",
    "    if len(string)==0:\n",
    "        return \n",
    "    \n",
    "    if string[0]==eraser:\n",
    "        remove_string(string[1:],eraser)\n",
    "    else:\n",
    "        lst.append(string[0])\n",
    "        remove_string(string[1:],eraser)\n",
    "    \n",
    "    return lst\n"
   ]
  },
  {
   "cell_type": "code",
   "execution_count": 18,
   "id": "a719b9bf",
   "metadata": {},
   "outputs": [
    {
     "data": {
      "text/plain": [
       "['b', 'a']"
      ]
     },
     "execution_count": 18,
     "metadata": {},
     "output_type": "execute_result"
    }
   ],
   "source": [
    "remove_string('bat','t')"
   ]
  },
  {
   "cell_type": "markdown",
   "id": "b133aba5",
   "metadata": {},
   "source": [
    "PALINDROME FUNCTION"
   ]
  },
  {
   "cell_type": "code",
   "execution_count": 22,
   "id": "9d8394b5",
   "metadata": {},
   "outputs": [],
   "source": [
    "def palindrome(lst):\n",
    "    ## PALINDROME TAKES THE LIST\n",
    "    ## PALINDROME BASE TAKES THE LIST ALONG WITH TWO INDICES START AND END\n",
    "    def palindrome_base(lst,s,e):\n",
    "        ## WHEN THE TWO POINTERS CROSSES EACH OTHER IT HAPPENS ONLY WHEN PALINDROME IS PRESENT\n",
    "        if (s>=e):\n",
    "            return True\n",
    "        ## WHEN PALINDROME IS NOT PRESENT\n",
    "        if lst[s]!=lst[e]:\n",
    "            return False\n",
    "        \n",
    "\n",
    "        return palindrome_base(lst,s+1,e-1)\n",
    "        \n",
    "    if lst=='':\n",
    "        return 'Empty List'\n",
    "    return palindrome_base(lst,0,len(lst)-1)\n"
   ]
  },
  {
   "cell_type": "code",
   "execution_count": 23,
   "metadata": {},
   "outputs": [
    {
     "data": {
      "text/plain": [
       "True"
      ]
     },
     "execution_count": 23,
     "metadata": {},
     "output_type": "execute_result"
    }
   ],
   "source": [
    "palindrome('malayalam')"
   ]
  }
 ],
 "metadata": {
  "kernelspec": {
   "display_name": "base",
   "language": "python",
   "name": "python3"
  },
  "language_info": {
   "codemirror_mode": {
    "name": "ipython",
    "version": 3
   },
   "file_extension": ".py",
   "mimetype": "text/x-python",
   "name": "python",
   "nbconvert_exporter": "python",
   "pygments_lexer": "ipython3",
   "version": "3.12.3"
  }
 },
 "nbformat": 4,
 "nbformat_minor": 5
}
