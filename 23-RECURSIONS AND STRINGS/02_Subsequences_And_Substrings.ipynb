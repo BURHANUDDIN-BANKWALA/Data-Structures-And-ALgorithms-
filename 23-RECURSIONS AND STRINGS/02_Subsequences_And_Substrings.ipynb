{
 "cells": [
  {
   "cell_type": "code",
   "execution_count": 9,
   "id": "11947c64",
   "metadata": {},
   "outputs": [],
   "source": [
    "def subseq(lst):\n",
    "    if lst=='':\n",
    "        ans=['']\n",
    "        return ans \n",
    "    \n",
    "    small_ans=subseq(lst[1:])\n",
    "    ans=[]\n",
    "    ans.extend(small_ans)\n",
    "    my_char=lst[0]\n",
    "\n",
    "    for each_subseq in small_ans:\n",
    "        ans.append(my_char + each_subseq)\n",
    "    \n",
    "    return ans"
   ]
  },
  {
   "cell_type": "code",
   "execution_count": 18,
   "id": "7c8e5a6c",
   "metadata": {},
   "outputs": [
    {
     "name": "stdout",
     "output_type": "stream",
     "text": [
      "['', 'c', 'b', 'bc', 'a', 'ac', 'ab', 'abc']\n"
     ]
    }
   ],
   "source": [
    "print(subseq('abc'))"
   ]
  },
  {
   "cell_type": "markdown",
   "id": "092c7482",
   "metadata": {},
   "source": [
    "PRINTING SUBSEQ"
   ]
  },
  {
   "cell_type": "code",
   "execution_count": 23,
   "id": "7c67c783",
   "metadata": {},
   "outputs": [],
   "source": [
    "def print_subseq(lst):\n",
    "    if lst=='':\n",
    "        ans=['']\n",
    "        print(ans)\n",
    "\n",
    "    small_ans=subseq(lst[1:])\n",
    "    ans=[]\n",
    "    my_char=lst[0]\n",
    "    ans.extend(small_ans)\n",
    "\n",
    "    for each_subseq in small_ans:\n",
    "        ans.append(my_char + each_subseq)\n",
    "    \n",
    "    print(ans)"
   ]
  },
  {
   "cell_type": "code",
   "execution_count": 24,
   "id": "5b85138f",
   "metadata": {},
   "outputs": [
    {
     "name": "stdout",
     "output_type": "stream",
     "text": [
      "['', 'c', 'b', 'bc', 'a', 'ac', 'ab', 'abc']\n"
     ]
    }
   ],
   "source": [
    "print_subseq('abc')"
   ]
  },
  {
   "cell_type": "code",
   "execution_count": 25,
   "id": "1cd26aad",
   "metadata": {},
   "outputs": [],
   "source": [
    "def Print_subseq(lst, taken_so_far):\n",
    "    if lst=='' or len(lst)==0:\n",
    "        print(taken_so_far)\n",
    "        return\n",
    "    \n",
    "    current_char=lst[0]\n",
    "    small_input=lst[1:]\n",
    "\n",
    "    Print_subseq(small_input, taken_so_far + current_char)\n",
    "    Print_subseq(small_input, taken_so_far)\n",
    "\n",
    "    return"
   ]
  },
  {
   "cell_type": "code",
   "execution_count": 27,
   "id": "a15108a8",
   "metadata": {},
   "outputs": [
    {
     "name": "stdout",
     "output_type": "stream",
     "text": [
      "abc\n",
      "ab\n",
      "ac\n",
      "a\n",
      "bc\n",
      "b\n",
      "c\n",
      "\n"
     ]
    }
   ],
   "source": [
    "Print_subseq('abc','')"
   ]
  },
  {
   "cell_type": "markdown",
   "id": "80f34393",
   "metadata": {},
   "source": [
    "PRINTING PERMUTATIONS"
   ]
  },
  {
   "cell_type": "code",
   "execution_count": 2,
   "id": "2dedb0d8",
   "metadata": {},
   "outputs": [],
   "source": [
    "def print_permutations(lst, takensofar):\n",
    "    if len(lst)==0:\n",
    "        print(takensofar)\n",
    "        return\n",
    "    \n",
    "    our_char=lst[0]\n",
    "    small_input=lst[1:]\n",
    "\n",
    "    for i in range(0,len(takensofar)+1):\n",
    "        print_permutations(small_input, takensofar[0:i] + our_char +takensofar[i:])\n",
    "    \n",
    "    return\n"
   ]
  },
  {
   "cell_type": "code",
   "execution_count": 6,
   "id": "56d58ee0",
   "metadata": {},
   "outputs": [
    {
     "name": "stdout",
     "output_type": "stream",
     "text": [
      "4321\n",
      "3421\n",
      "3241\n",
      "3214\n",
      "4231\n",
      "2431\n",
      "2341\n",
      "2314\n",
      "4213\n",
      "2413\n",
      "2143\n",
      "2134\n",
      "4312\n",
      "3412\n",
      "3142\n",
      "3124\n",
      "4132\n",
      "1432\n",
      "1342\n",
      "1324\n",
      "4123\n",
      "1423\n",
      "1243\n",
      "1234\n"
     ]
    }
   ],
   "source": [
    "print_permutations('1234','')"
   ]
  },
  {
   "cell_type": "code",
   "execution_count": 7,
   "id": "786dcec2",
   "metadata": {},
   "outputs": [],
   "source": [
    "def ret_perm(lst):\n",
    "    if len(lst)==0:\n",
    "        return ['']\n",
    "    current_char=lst[0]\n",
    "    perm_of_small_str= ret_perm(lst[1:])\n",
    "    all_perm=[]\n",
    "\n",
    "    for each_perm in perm_of_small_str:\n",
    "        for position in range(0, len(each_perm)+1):\n",
    "            all_perm.append(each_perm[0:position] + current_char +each_perm[position:])\n",
    "\n",
    "    return  all_perm"
   ]
  },
  {
   "cell_type": "code",
   "execution_count": 9,
   "id": "8fe27312",
   "metadata": {},
   "outputs": [
    {
     "data": {
      "text/plain": [
       "['tanz',\n",
       " 'atnz',\n",
       " 'antz',\n",
       " 'anzt',\n",
       " 'tnaz',\n",
       " 'ntaz',\n",
       " 'natz',\n",
       " 'nazt',\n",
       " 'tnza',\n",
       " 'ntza',\n",
       " 'nzta',\n",
       " 'nzat',\n",
       " 'tazn',\n",
       " 'atzn',\n",
       " 'aztn',\n",
       " 'aznt',\n",
       " 'tzan',\n",
       " 'ztan',\n",
       " 'zatn',\n",
       " 'zant',\n",
       " 'tzna',\n",
       " 'ztna',\n",
       " 'znta',\n",
       " 'znat']"
      ]
     },
     "execution_count": 9,
     "metadata": {},
     "output_type": "execute_result"
    }
   ],
   "source": [
    "ret_perm('tanz')"
   ]
  },
  {
   "cell_type": "markdown",
   "id": "23341a6d",
   "metadata": {},
   "source": [
    "KEYWORDS"
   ]
  },
  {
   "cell_type": "code",
   "execution_count": 16,
   "id": "fa1b75a0",
   "metadata": {},
   "outputs": [],
   "source": [
    "keys={'1':' ','2':'abc','3':'def','4':'ghi','5':'jkl','6':'lmno','7':'pqrs','8':'tuv','9':'wxyz'}"
   ]
  },
  {
   "cell_type": "code",
   "execution_count": 19,
   "id": "2700a2f7",
   "metadata": {},
   "outputs": [],
   "source": [
    "def return_all_words(string):\n",
    "    if len(string)==0:\n",
    "        return ['']\n",
    "    \n",
    "    ans=[]\n",
    "    small_input=string[1:]\n",
    "    small_input_words=return_all_words(small_input)\n",
    "\n",
    "    key_letter=keys[string[0]]\n",
    "\n",
    "    for my_char in key_letter:\n",
    "        for word in small_input_words:\n",
    "            ans.append(my_char + word)\n",
    "    \n",
    "    return ans"
   ]
  },
  {
   "cell_type": "code",
   "execution_count": 22,
   "id": "678b81ff",
   "metadata": {},
   "outputs": [
    {
     "data": {
      "text/plain": [
       "['atp',\n",
       " 'atq',\n",
       " 'atr',\n",
       " 'ats',\n",
       " 'aup',\n",
       " 'auq',\n",
       " 'aur',\n",
       " 'aus',\n",
       " 'avp',\n",
       " 'avq',\n",
       " 'avr',\n",
       " 'avs',\n",
       " 'btp',\n",
       " 'btq',\n",
       " 'btr',\n",
       " 'bts',\n",
       " 'bup',\n",
       " 'buq',\n",
       " 'bur',\n",
       " 'bus',\n",
       " 'bvp',\n",
       " 'bvq',\n",
       " 'bvr',\n",
       " 'bvs',\n",
       " 'ctp',\n",
       " 'ctq',\n",
       " 'ctr',\n",
       " 'cts',\n",
       " 'cup',\n",
       " 'cuq',\n",
       " 'cur',\n",
       " 'cus',\n",
       " 'cvp',\n",
       " 'cvq',\n",
       " 'cvr',\n",
       " 'cvs']"
      ]
     },
     "execution_count": 22,
     "metadata": {},
     "output_type": "execute_result"
    }
   ],
   "source": [
    "return_all_words('287')"
   ]
  },
  {
   "cell_type": "markdown",
   "id": "cef1e96f",
   "metadata": {},
   "source": [
    "RETURN ALL CODES"
   ]
  },
  {
   "cell_type": "code",
   "execution_count": 23,
   "id": "62816c93",
   "metadata": {},
   "outputs": [],
   "source": [
    "def get_char(value):\n",
    "    if value<=0 or value>26:\n",
    "        return ''\n",
    "    \n",
    "    return chr(97 +value -1)"
   ]
  },
  {
   "cell_type": "code",
   "execution_count": 27,
   "id": "3c91d129",
   "metadata": {},
   "outputs": [
    {
     "data": {
      "text/plain": [
       "'e'"
      ]
     },
     "execution_count": 27,
     "metadata": {},
     "output_type": "execute_result"
    }
   ],
   "source": [
    "get_char(5)"
   ]
  },
  {
   "cell_type": "code",
   "execution_count": 28,
   "id": "551a5d6d",
   "metadata": {},
   "outputs": [],
   "source": [
    "def ret_all_codes(input):\n",
    "    if input=='':\n",
    "        return ['']\n",
    "    \n",
    "    if len(input)==1:\n",
    "        single_char=get_char(int(input))\n",
    "        return [single_char]\n",
    "    \n",
    "    single_digit= int(input[0])\n",
    "    double_digit=int(input[0:2])\n",
    "    main_ans=[]\n",
    "\n",
    "    ans_without_single_digit=ret_all_codes(input[1:])\n",
    "    for each_word in ans_without_single_digit:\n",
    "        main_ans.append(get_char(single_digit)+each_word)\n",
    "                        \n",
    "    if double_digit>=10 and double_digit<=26:\n",
    "        ans_without_double_digit=ret_all_codes(input[2:])\n",
    "        for each_word in ans_without_double_digit:\n",
    "            main_ans.append(get_char(double_digit) +each_word)\n",
    "    \n",
    "    return main_ans"
   ]
  },
  {
   "cell_type": "code",
   "execution_count": 29,
   "id": "5fe81c9f",
   "metadata": {},
   "outputs": [
    {
     "data": {
      "text/plain": [
       "['bcde', 'wde']"
      ]
     },
     "execution_count": 29,
     "metadata": {},
     "output_type": "execute_result"
    }
   ],
   "source": [
    "ret_all_codes('2345')"
   ]
  },
  {
   "cell_type": "markdown",
   "id": "e3a17229",
   "metadata": {},
   "source": [
    "TOWER OF HANOI"
   ]
  },
  {
   "cell_type": "code",
   "execution_count": 35,
   "id": "27539593",
   "metadata": {},
   "outputs": [],
   "source": [
    "def tower_of_hanoi(n,source,dest,auxilary):\n",
    "    \n",
    "    if n==0:\n",
    "        return\n",
    "    \n",
    "    if n==1:\n",
    "        print(source,'-->',dest)\n",
    "        return\n",
    "    \n",
    "    tower_of_hanoi(n-1,source,auxilary,dest)\n",
    "    print(source,'-->',dest)\n",
    "    tower_of_hanoi(n-1,auxilary,dest,source)"
   ]
  },
  {
   "cell_type": "code",
   "execution_count": 39,
   "id": "e07aefb5",
   "metadata": {},
   "outputs": [
    {
     "name": "stdout",
     "output_type": "stream",
     "text": [
      "a --> c\n",
      "a --> b\n",
      "c --> b\n",
      "a --> c\n",
      "b --> a\n",
      "b --> c\n",
      "a --> c\n",
      "a --> b\n",
      "c --> b\n",
      "c --> a\n",
      "b --> a\n",
      "c --> b\n",
      "a --> c\n",
      "a --> b\n",
      "c --> b\n"
     ]
    }
   ],
   "source": [
    "tower_of_hanoi(4,'a','b','c')"
   ]
  }
 ],
 "metadata": {
  "kernelspec": {
   "display_name": "base",
   "language": "python",
   "name": "python3"
  },
  "language_info": {
   "codemirror_mode": {
    "name": "ipython",
    "version": 3
   },
   "file_extension": ".py",
   "mimetype": "text/x-python",
   "name": "python",
   "nbconvert_exporter": "python",
   "pygments_lexer": "ipython3",
   "version": "3.12.3"
  }
 },
 "nbformat": 4,
 "nbformat_minor": 5
}
