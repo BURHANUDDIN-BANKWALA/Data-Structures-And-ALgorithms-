{
 "cells": [
  {
   "cell_type": "markdown",
   "id": "72d89719",
   "metadata": {},
   "source": [
    "FIRST WE WILL A CREATE A MEMORY BLOCK FOR LINKED LIST AS NODE"
   ]
  },
  {
   "cell_type": "code",
   "execution_count": 1,
   "id": "7723057c",
   "metadata": {},
   "outputs": [],
   "source": [
    "class Node:\n",
    "    def __init__(self,value):\n",
    "        self.data=value\n",
    "        self.next=None"
   ]
  },
  {
   "cell_type": "code",
   "execution_count": 2,
   "id": "2c040717",
   "metadata": {},
   "outputs": [],
   "source": [
    "first=Node(11)\n",
    "second=Node(22)\n",
    "third=Node(33)"
   ]
  },
  {
   "cell_type": "code",
   "execution_count": 4,
   "id": "cc5ca6b0",
   "metadata": {},
   "outputs": [],
   "source": [
    "first.next=second\n",
    "second.next=third\n",
    "head=first"
   ]
  },
  {
   "cell_type": "code",
   "execution_count": 5,
   "id": "6ffbb1d1",
   "metadata": {},
   "outputs": [],
   "source": [
    "del(first)\n",
    "del(second)\n",
    "del(third)"
   ]
  },
  {
   "cell_type": "code",
   "execution_count": 8,
   "id": "3e889515",
   "metadata": {},
   "outputs": [
    {
     "data": {
      "text/plain": [
       "33"
      ]
     },
     "execution_count": 8,
     "metadata": {},
     "output_type": "execute_result"
    }
   ],
   "source": [
    "head.next.next.data"
   ]
  }
 ],
 "metadata": {
  "kernelspec": {
   "display_name": "base",
   "language": "python",
   "name": "python3"
  },
  "language_info": {
   "codemirror_mode": {
    "name": "ipython",
    "version": 3
   },
   "file_extension": ".py",
   "mimetype": "text/x-python",
   "name": "python",
   "nbconvert_exporter": "python",
   "pygments_lexer": "ipython3",
   "version": "3.12.3"
  }
 },
 "nbformat": 4,
 "nbformat_minor": 5
}
