{
 "cells": [
  {
   "cell_type": "markdown",
   "id": "22d16112",
   "metadata": {},
   "source": [
    "PRINTING A LINKED LIST"
   ]
  },
  {
   "cell_type": "code",
   "execution_count": 4,
   "id": "5323ed3c",
   "metadata": {},
   "outputs": [],
   "source": [
    "class Node:\n",
    "    def __init__(self,data):\n",
    "        self.data=data\n",
    "        self.next=None"
   ]
  },
  {
   "cell_type": "code",
   "execution_count": 5,
   "id": "4399a6e1",
   "metadata": {},
   "outputs": [],
   "source": [
    "def print_LL(head):\n",
    "    temp=head\n",
    "    while(temp!=None):\n",
    "        print(temp.data)\n",
    "        temp=temp.next\n",
    "    return"
   ]
  },
  {
   "cell_type": "code",
   "execution_count": 6,
   "id": "2e5643e4",
   "metadata": {},
   "outputs": [],
   "source": [
    "first=Node(1)\n",
    "second=Node(2)\n",
    "third=Node(3)\n",
    "head=first\n",
    "first.next=second\n",
    "second.next=third\n",
    "del(first)\n",
    "del(second)\n",
    "del(third)\n"
   ]
  },
  {
   "cell_type": "code",
   "execution_count": 7,
   "id": "fe01a195",
   "metadata": {},
   "outputs": [
    {
     "name": "stdout",
     "output_type": "stream",
     "text": [
      "1\n",
      "2\n",
      "3\n"
     ]
    }
   ],
   "source": [
    "print_LL(head)"
   ]
  },
  {
   "cell_type": "markdown",
   "id": "e010a1c1",
   "metadata": {},
   "source": [
    "PRINTING A LL RECURSIVELY"
   ]
  },
  {
   "cell_type": "code",
   "execution_count": 8,
   "metadata": {},
   "outputs": [],
   "source": [
    "def print_LL_rec(head):\n",
    "    temp=head\n",
    "    if temp==None:\n",
    "        return\n",
    "    \n",
    "    print(temp.data)\n",
    "    print_LL_rec(temp.next)"
   ]
  },
  {
   "cell_type": "code",
   "execution_count": 9,
   "id": "afdbdd1b",
   "metadata": {},
   "outputs": [
    {
     "name": "stdout",
     "output_type": "stream",
     "text": [
      "1\n",
      "2\n",
      "3\n"
     ]
    }
   ],
   "source": [
    "print_LL_rec(head)"
   ]
  }
 ],
 "metadata": {
  "kernelspec": {
   "display_name": "base",
   "language": "python",
   "name": "python3"
  },
  "language_info": {
   "codemirror_mode": {
    "name": "ipython",
    "version": 3
   },
   "file_extension": ".py",
   "mimetype": "text/x-python",
   "name": "python",
   "nbconvert_exporter": "python",
   "pygments_lexer": "ipython3",
   "version": "3.12.3"
  }
 },
 "nbformat": 4,
 "nbformat_minor": 5
}
