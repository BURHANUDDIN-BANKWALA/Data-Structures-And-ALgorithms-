{
 "cells": [
  {
   "cell_type": "code",
   "execution_count": 2,
   "id": "ed6cda90",
   "metadata": {},
   "outputs": [],
   "source": [
    "class Node:\n",
    "    def __init__(self,data):\n",
    "        self.data=data\n",
    "        self.next=None"
   ]
  },
  {
   "cell_type": "code",
   "execution_count": 3,
   "id": "6733ff60",
   "metadata": {},
   "outputs": [],
   "source": [
    "first=Node(1)\n",
    "second=Node(2)\n",
    "third=Node(3)\n",
    "head=first\n",
    "first.next=second\n",
    "second.next=third\n",
    "del(first)\n",
    "del(second)\n",
    "del(third)\n"
   ]
  },
  {
   "cell_type": "markdown",
   "id": "2dff190c",
   "metadata": {},
   "source": [
    "LENGTH OF A LINKED LIST"
   ]
  },
  {
   "cell_type": "code",
   "execution_count": 5,
   "id": "bab18a7b",
   "metadata": {},
   "outputs": [],
   "source": [
    "def len_of_LL(head):\n",
    "    temp=head\n",
    "    ans=0\n",
    "    while(temp!=None):\n",
    "        ans+=1\n",
    "        temp=temp.next\n",
    "    return ans"
   ]
  },
  {
   "cell_type": "code",
   "execution_count": 6,
   "id": "4f6e8eb9",
   "metadata": {},
   "outputs": [
    {
     "data": {
      "text/plain": [
       "3"
      ]
     },
     "execution_count": 6,
     "metadata": {},
     "output_type": "execute_result"
    }
   ],
   "source": [
    "len_of_LL(head)"
   ]
  },
  {
   "cell_type": "markdown",
   "id": "7ca62c62",
   "metadata": {},
   "source": [
    "LENGTH OF A LINKED LIST RECURSIVELY"
   ]
  },
  {
   "cell_type": "code",
   "execution_count": 8,
   "id": "1aa8de72",
   "metadata": {},
   "outputs": [],
   "source": [
    "## TAIL RECURSION\n",
    "def len_of_LL_rec(head,ans=0):\n",
    "    temp=head\n",
    "    if temp==None:\n",
    "        return ans\n",
    "    \n",
    "    return len_of_LL_rec(temp.next,ans+1)"
   ]
  },
  {
   "cell_type": "code",
   "execution_count": 11,
   "id": "0a54d44f",
   "metadata": {},
   "outputs": [
    {
     "data": {
      "text/plain": [
       "3"
      ]
     },
     "execution_count": 11,
     "metadata": {},
     "output_type": "execute_result"
    }
   ],
   "source": [
    "len_of_LL_rec(head)"
   ]
  },
  {
   "cell_type": "code",
   "execution_count": 10,
   "id": "1661cd9b",
   "metadata": {},
   "outputs": [],
   "source": [
    "## HEAD RECURSION\n",
    "def len_of_LL_rec_head(head):\n",
    "    temp=head\n",
    "    if temp==None:\n",
    "        return 0\n",
    "    \n",
    "    recursion_len=len_of_LL_rec_head(head.next)\n",
    "    return recursion_len+1"
   ]
  },
  {
   "cell_type": "code",
   "execution_count": 12,
   "id": "d07053e9",
   "metadata": {},
   "outputs": [
    {
     "data": {
      "text/plain": [
       "3"
      ]
     },
     "execution_count": 12,
     "metadata": {},
     "output_type": "execute_result"
    }
   ],
   "source": [
    "len_of_LL_rec_head(head)"
   ]
  }
 ],
 "metadata": {
  "kernelspec": {
   "display_name": "base",
   "language": "python",
   "name": "python3"
  },
  "language_info": {
   "codemirror_mode": {
    "name": "ipython",
    "version": 3
   },
   "file_extension": ".py",
   "mimetype": "text/x-python",
   "name": "python",
   "nbconvert_exporter": "python",
   "pygments_lexer": "ipython3",
   "version": "3.12.3"
  }
 },
 "nbformat": 4,
 "nbformat_minor": 5
}
