{
 "cells": [
  {
   "cell_type": "code",
   "execution_count": 1,
   "id": "65deeaff",
   "metadata": {},
   "outputs": [],
   "source": [
    "class Node:\n",
    "    def __init__(self,data):\n",
    "        self.data=data\n",
    "        self.next=None"
   ]
  },
  {
   "cell_type": "code",
   "execution_count": 3,
   "id": "4c80247b",
   "metadata": {},
   "outputs": [],
   "source": [
    "def take_input():\n",
    "    value=int(input('Enter The Value Of Node-->'))\n",
    "    head=None\n",
    "    \n",
    "    while(value!=-1):\n",
    "        newNode=Node(value)\n",
    "        if head==None:\n",
    "            head=newNode\n",
    "        else:\n",
    "            temp=head\n",
    "            while(temp.next!=None):\n",
    "                temp=temp.next\n",
    "            temp.next=newNode\n",
    "        value=int(input('Enter The Value Of New Node-->'))\n",
    "    \n",
    "    return head\n"
   ]
  },
  {
   "cell_type": "code",
   "execution_count": 2,
   "id": "d7634194",
   "metadata": {},
   "outputs": [],
   "source": [
    "def print_LL_rec(head):\n",
    "    temp=head\n",
    "    if temp==None:\n",
    "        return\n",
    "    \n",
    "    print(temp.data)\n",
    "    print_LL_rec(temp.next)"
   ]
  },
  {
   "cell_type": "markdown",
   "id": "7744dbfb",
   "metadata": {},
   "source": [
    "INSERTION AT HEAD"
   ]
  },
  {
   "cell_type": "code",
   "execution_count": 6,
   "id": "1ea397ec",
   "metadata": {},
   "outputs": [],
   "source": [
    "head=take_input()"
   ]
  },
  {
   "cell_type": "code",
   "execution_count": 5,
   "metadata": {},
   "outputs": [],
   "source": [
    "def insertion_at_head(head,data):\n",
    "    newNode=Node(data)\n",
    "    newNode.next=head\n",
    "    head=newNode\n",
    "    return head\n",
    "\n"
   ]
  },
  {
   "cell_type": "code",
   "execution_count": 7,
   "id": "3d8c4665",
   "metadata": {},
   "outputs": [
    {
     "name": "stdout",
     "output_type": "stream",
     "text": [
      "10\n",
      "1\n",
      "2\n",
      "3\n",
      "4\n",
      "5\n",
      "6\n",
      "7\n",
      "8\n",
      "9\n"
     ]
    }
   ],
   "source": [
    "head=insertion_at_head(head,10)\n",
    "print_LL_rec(head)"
   ]
  }
 ],
 "metadata": {
  "kernelspec": {
   "display_name": "base",
   "language": "python",
   "name": "python3"
  },
  "language_info": {
   "codemirror_mode": {
    "name": "ipython",
    "version": 3
   },
   "file_extension": ".py",
   "mimetype": "text/x-python",
   "name": "python",
   "nbconvert_exporter": "python",
   "pygments_lexer": "ipython3",
   "version": "3.12.3"
  }
 },
 "nbformat": 4,
 "nbformat_minor": 5
}
