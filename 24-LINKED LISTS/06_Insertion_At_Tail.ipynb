{
 "cells": [
  {
   "cell_type": "code",
   "execution_count": 2,
   "id": "cc313d1d",
   "metadata": {},
   "outputs": [],
   "source": [
    "class Node:\n",
    "    def __init__(self,data):\n",
    "        self.data=data\n",
    "        self.next=None"
   ]
  },
  {
   "cell_type": "code",
   "execution_count": 3,
   "id": "f0b273de",
   "metadata": {},
   "outputs": [],
   "source": [
    "def take_input():\n",
    "    value=int(input('Enter The Value Of Node-->'))\n",
    "    head=None\n",
    "    \n",
    "    while(value!=-1):\n",
    "        newNode=Node(value)\n",
    "        if head==None:\n",
    "            head=newNode\n",
    "        else:\n",
    "            temp=head\n",
    "            while(temp.next!=None):\n",
    "                temp=temp.next\n",
    "            temp.next=newNode\n",
    "        value=int(input('Enter The Value Of New Node-->'))\n",
    "    \n",
    "    return head\n"
   ]
  },
  {
   "cell_type": "code",
   "execution_count": 10,
   "id": "77bcbce5",
   "metadata": {},
   "outputs": [],
   "source": [
    "def print_LL_rec(head):\n",
    "    temp=head\n",
    "    if temp==None:\n",
    "        return\n",
    "    \n",
    "    print(temp.data)\n",
    "    print_LL_rec(temp.next)"
   ]
  },
  {
   "cell_type": "markdown",
   "id": "5d8a9965",
   "metadata": {},
   "source": [
    "INSERTION AT TAIL"
   ]
  },
  {
   "cell_type": "code",
   "execution_count": 15,
   "id": "98efb655",
   "metadata": {},
   "outputs": [],
   "source": [
    "def insertion_at_tail(head,data):\n",
    "    newNode=Node(data)\n",
    "    if head==None:\n",
    "        return newNode\n",
    "\n",
    "    temp=head\n",
    "    while(temp.next!=None):\n",
    "        temp=temp.next\n",
    "\n",
    "    temp.next=newNode\n",
    "    \n",
    "    return head\n",
    "\n"
   ]
  },
  {
   "cell_type": "code",
   "execution_count": 18,
   "id": "9979b3ca",
   "metadata": {},
   "outputs": [],
   "source": [
    "head=take_input()"
   ]
  },
  {
   "cell_type": "code",
   "execution_count": 19,
   "id": "2c986a77",
   "metadata": {},
   "outputs": [],
   "source": [
    "head=insertion_at_tail(head,9)"
   ]
  },
  {
   "cell_type": "code",
   "execution_count": 20,
   "id": "c5d30641",
   "metadata": {},
   "outputs": [
    {
     "name": "stdout",
     "output_type": "stream",
     "text": [
      "1\n",
      "2\n",
      "3\n",
      "4\n",
      "5\n",
      "9\n"
     ]
    }
   ],
   "source": [
    "print_LL_rec(head)"
   ]
  },
  {
   "cell_type": "markdown",
   "id": "df338697",
   "metadata": {},
   "source": [
    "INSERTION AT TAIL RECURSIVELY"
   ]
  },
  {
   "cell_type": "code",
   "execution_count": 21,
   "id": "d4556c11",
   "metadata": {},
   "outputs": [],
   "source": [
    "def insertion_at_tail_rec(head,data):\n",
    "    if head==None:\n",
    "        newNode=Node(data)\n",
    "        return newNode\n",
    "    \n",
    "    if head.next==None:\n",
    "        newNode=Node(data)\n",
    "        head.next=newNode\n",
    "        return head\n",
    "    \n",
    "    head.next=insertion_at_tail_rec(head.next,data)\n",
    "    return head"
   ]
  },
  {
   "cell_type": "code",
   "execution_count": 23,
   "id": "5147d079",
   "metadata": {},
   "outputs": [],
   "source": [
    "head=insertion_at_tail_rec(head,100)"
   ]
  },
  {
   "cell_type": "code",
   "execution_count": 24,
   "id": "2aadea68",
   "metadata": {},
   "outputs": [
    {
     "name": "stdout",
     "output_type": "stream",
     "text": [
      "1\n",
      "2\n",
      "3\n",
      "4\n",
      "5\n",
      "9\n",
      "100\n",
      "100\n"
     ]
    }
   ],
   "source": [
    "print_LL_rec(head)"
   ]
  }
 ],
 "metadata": {
  "kernelspec": {
   "display_name": "base",
   "language": "python",
   "name": "python3"
  },
  "language_info": {
   "codemirror_mode": {
    "name": "ipython",
    "version": 3
   },
   "file_extension": ".py",
   "mimetype": "text/x-python",
   "name": "python",
   "nbconvert_exporter": "python",
   "pygments_lexer": "ipython3",
   "version": "3.12.3"
  }
 },
 "nbformat": 4,
 "nbformat_minor": 5
}
