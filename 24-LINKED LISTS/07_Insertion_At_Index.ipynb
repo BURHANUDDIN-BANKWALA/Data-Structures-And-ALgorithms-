{
 "cells": [
  {
   "cell_type": "code",
   "execution_count": 3,
   "id": "8c5ccd3f",
   "metadata": {},
   "outputs": [],
   "source": [
    "class Node:\n",
    "    def __init__(self,data):\n",
    "        self.data=data\n",
    "        self.next=None\n",
    "\n",
    "def take_input():\n",
    "    value=int(input('Enter The Value Of Node-->'))\n",
    "    head=None\n",
    "    \n",
    "    while(value!=-1):\n",
    "        newNode=Node(value)\n",
    "        if head==None:\n",
    "            head=newNode\n",
    "        else:\n",
    "            temp=head\n",
    "            while(temp.next!=None):\n",
    "                temp=temp.next\n",
    "            temp.next=newNode\n",
    "        value=int(input('Enter The Value Of New Node-->'))\n",
    "    \n",
    "    return head\n",
    "\n",
    "def print_LL_rec(head):\n",
    "    temp=head\n",
    "    if temp==None:\n",
    "        return\n",
    "    \n",
    "    print(temp.data)\n",
    "    print_LL_rec(temp.next)\n",
    "\n",
    "def insertion_at_head(head,data):\n",
    "    newNode=Node(data)\n",
    "    newNode.next=head\n",
    "    head=newNode\n",
    "    return head\n",
    "\n",
    "def insertion_at_tail_rec(head,data):\n",
    "    if head==None:\n",
    "        newNode=Node(data)\n",
    "        return newNode\n",
    "    \n",
    "    if head.next==None:\n",
    "        newNode=Node(data)\n",
    "        head.next=newNode\n",
    "        return head\n",
    "    \n",
    "    head.next=insertion_at_tail_rec(head.next,data)\n",
    "    return head"
   ]
  },
  {
   "cell_type": "code",
   "execution_count": 16,
   "id": "b20947b6",
   "metadata": {},
   "outputs": [],
   "source": [
    "def insert_at_index(head,data,index):\n",
    "    ## BASE CASE\n",
    "    ## IF INDEX IS 0\n",
    "    if index==0:\n",
    "        return insertion_at_head(head,data)\n",
    "    \n",
    "    newNode=Node(data)\n",
    "    temp=head\n",
    "    count=0\n",
    "\n",
    "    while(temp!=None and count<index-1):\n",
    "        temp=temp.next\n",
    "        count+=1\n",
    "    \n",
    "    if temp==None:\n",
    "        print('List Index Out Of Bounds!')\n",
    "        return head\n",
    "\n",
    "    newNode.next=temp.next\n",
    "    temp.next=newNode\n",
    "    return head\n"
   ]
  },
  {
   "cell_type": "code",
   "execution_count": 11,
   "id": "b1db3b7f",
   "metadata": {},
   "outputs": [],
   "source": [
    "head=take_input()"
   ]
  },
  {
   "cell_type": "code",
   "execution_count": 21,
   "metadata": {},
   "outputs": [
    {
     "name": "stdout",
     "output_type": "stream",
     "text": [
      "List Index Out Of Bounds!\n"
     ]
    }
   ],
   "source": [
    "head=insert_at_index(head,1,8)"
   ]
  },
  {
   "cell_type": "code",
   "execution_count": 20,
   "id": "6ddd5c86",
   "metadata": {},
   "outputs": [
    {
     "name": "stdout",
     "output_type": "stream",
     "text": [
      "11\n",
      "1\n",
      "2\n",
      "3\n",
      "4\n",
      "5\n",
      "1\n"
     ]
    }
   ],
   "source": [
    "print_LL_rec(head)"
   ]
  },
  {
   "cell_type": "markdown",
   "id": "971cfdca",
   "metadata": {},
   "source": [
    "INSERTION AT INDEX RECURSIVELY"
   ]
  },
  {
   "cell_type": "code",
   "execution_count": 22,
   "id": "8ede73dd",
   "metadata": {},
   "outputs": [],
   "source": [
    "def insertion_at_index_rec(head,data,index):\n",
    "    ## BASE CASE\n",
    "    if index==0:\n",
    "        return insertion_at_head(head,data)\n",
    "    \n",
    "    if head==None:\n",
    "        print('List Index Out Of Bounds')\n",
    "        return head\n",
    "    \n",
    "    head.next=insertion_at_index_rec(head.next,data,index-1)\n",
    "    return head"
   ]
  },
  {
   "cell_type": "code",
   "execution_count": 23,
   "metadata": {},
   "outputs": [],
   "source": [
    "head=insertion_at_index_rec(head,35,7)"
   ]
  },
  {
   "cell_type": "code",
   "execution_count": 24,
   "metadata": {},
   "outputs": [
    {
     "name": "stdout",
     "output_type": "stream",
     "text": [
      "11\n",
      "1\n",
      "2\n",
      "3\n",
      "4\n",
      "5\n",
      "1\n",
      "35\n"
     ]
    }
   ],
   "source": [
    "print_LL_rec(head)"
   ]
  },
  {
   "cell_type": "code",
   "execution_count": null,
   "id": "5e01dc6d",
   "metadata": {},
   "outputs": [],
   "source": []
  }
 ],
 "metadata": {
  "kernelspec": {
   "display_name": "base",
   "language": "python",
   "name": "python3"
  },
  "language_info": {
   "codemirror_mode": {
    "name": "ipython",
    "version": 3
   },
   "file_extension": ".py",
   "mimetype": "text/x-python",
   "name": "python",
   "nbconvert_exporter": "python",
   "pygments_lexer": "ipython3",
   "version": "3.12.3"
  }
 },
 "nbformat": 4,
 "nbformat_minor": 5
}
