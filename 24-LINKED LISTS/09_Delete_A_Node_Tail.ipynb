{
 "cells": [
  {
   "cell_type": "code",
   "execution_count": 1,
   "id": "a042fcc9",
   "metadata": {},
   "outputs": [],
   "source": [
    "class Node:\n",
    "    def __init__(self,data):\n",
    "        self.data=data\n",
    "        self.next=None\n",
    "\n",
    "def take_input():\n",
    "    value=int(input('Enter The Value Of Node-->'))\n",
    "    head=None\n",
    "    \n",
    "    while(value!=-1):\n",
    "        newNode=Node(value)\n",
    "        if head==None:\n",
    "            head=newNode\n",
    "        else:\n",
    "            temp=head\n",
    "            while(temp.next!=None):\n",
    "                temp=temp.next\n",
    "            temp.next=newNode\n",
    "        value=int(input('Enter The Value Of New Node-->'))\n",
    "    \n",
    "    return head\n",
    "\n",
    "def print_LL_rec(head):\n",
    "    temp=head\n",
    "    if temp==None:\n",
    "        return\n",
    "    \n",
    "    print(temp.data)\n",
    "    print_LL_rec(temp.next)\n",
    "\n",
    "def insertion_at_head(head,data):\n",
    "    newNode=Node(data)\n",
    "    newNode.next=head\n",
    "    head=newNode\n",
    "    return head\n",
    "\n",
    "def insertion_at_tail_rec(head,data):\n",
    "    if head==None:\n",
    "        newNode=Node(data)\n",
    "        return newNode\n",
    "    \n",
    "    if head.next==None:\n",
    "        newNode=Node(data)\n",
    "        head.next=newNode\n",
    "        return head\n",
    "    \n",
    "    head.next=insertion_at_tail_rec(head.next,data)\n",
    "    return head"
   ]
  },
  {
   "cell_type": "code",
   "execution_count": 2,
   "id": "6e67758f",
   "metadata": {},
   "outputs": [],
   "source": [
    "def del_a_node_tail(head):\n",
    "    if head==None or head.next==None:\n",
    "        return None\n",
    "    temp=head\n",
    "    while(temp.next.next!=None):\n",
    "        temp=temp.next\n",
    "    temp.next=None\n",
    "    return head"
   ]
  },
  {
   "cell_type": "code",
   "execution_count": 3,
   "metadata": {},
   "outputs": [],
   "source": [
    "head=take_input()"
   ]
  },
  {
   "cell_type": "code",
   "execution_count": 4,
   "id": "68bad657",
   "metadata": {},
   "outputs": [],
   "source": [
    "head=del_a_node_tail(head)"
   ]
  },
  {
   "cell_type": "code",
   "execution_count": 5,
   "id": "35666f20",
   "metadata": {},
   "outputs": [
    {
     "name": "stdout",
     "output_type": "stream",
     "text": [
      "1\n",
      "2\n",
      "3\n",
      "4\n"
     ]
    }
   ],
   "source": [
    "print_LL_rec(head)"
   ]
  },
  {
   "cell_type": "markdown",
   "id": "c502df97",
   "metadata": {},
   "source": [
    "DELETE A NODE FROM TAIL WITH RECURSION"
   ]
  },
  {
   "cell_type": "code",
   "execution_count": 6,
   "id": "0c2bd777",
   "metadata": {},
   "outputs": [],
   "source": [
    "def del_a_node_tail_rec(head):\n",
    "    ## BASE CASE\n",
    "    if head==None or head.next==None:\n",
    "        return None\n",
    "    \n",
    "    head.next=del_a_node_tail_rec(head.next)\n",
    "    return head"
   ]
  },
  {
   "cell_type": "code",
   "execution_count": 7,
   "id": "bd810bb2",
   "metadata": {},
   "outputs": [],
   "source": [
    "head=del_a_node_tail_rec(head)"
   ]
  },
  {
   "cell_type": "code",
   "execution_count": 8,
   "id": "e3db26f8",
   "metadata": {},
   "outputs": [
    {
     "name": "stdout",
     "output_type": "stream",
     "text": [
      "1\n",
      "2\n",
      "3\n"
     ]
    }
   ],
   "source": [
    "print_LL_rec(head)"
   ]
  }
 ],
 "metadata": {
  "kernelspec": {
   "display_name": "base",
   "language": "python",
   "name": "python3"
  },
  "language_info": {
   "codemirror_mode": {
    "name": "ipython",
    "version": 3
   },
   "file_extension": ".py",
   "mimetype": "text/x-python",
   "name": "python",
   "nbconvert_exporter": "python",
   "pygments_lexer": "ipython3",
   "version": "3.12.3"
  }
 },
 "nbformat": 4,
 "nbformat_minor": 5
}
