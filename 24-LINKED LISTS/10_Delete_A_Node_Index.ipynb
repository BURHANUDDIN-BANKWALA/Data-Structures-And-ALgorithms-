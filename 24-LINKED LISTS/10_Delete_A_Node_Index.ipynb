{
 "cells": [
  {
   "cell_type": "code",
   "execution_count": 2,
   "id": "ffedba5f",
   "metadata": {},
   "outputs": [],
   "source": [
    "class Node:\n",
    "    def __init__(self,data):\n",
    "        self.data=data\n",
    "        self.next=None\n",
    "\n",
    "def take_input():\n",
    "    value=int(input('Enter The Value Of Node-->'))\n",
    "    head=None\n",
    "    \n",
    "    while(value!=-1):\n",
    "        newNode=Node(value)\n",
    "        if head==None:\n",
    "            head=newNode\n",
    "        else:\n",
    "            temp=head\n",
    "            while(temp.next!=None):\n",
    "                temp=temp.next\n",
    "            temp.next=newNode\n",
    "        value=int(input('Enter The Value Of New Node-->'))\n",
    "    \n",
    "    return head\n",
    "\n",
    "def print_LL_rec(head):\n",
    "    temp=head\n",
    "    if temp==None:\n",
    "        return\n",
    "    \n",
    "    print(temp.data)\n",
    "    print_LL_rec(temp.next)\n",
    "\n",
    "def insertion_at_head(head,data):\n",
    "    newNode=Node(data)\n",
    "    newNode.next=head\n",
    "    head=newNode\n",
    "    return head\n",
    "\n",
    "def insertion_at_tail_rec(head,data):\n",
    "    if head==None:\n",
    "        newNode=Node(data)\n",
    "        return newNode\n",
    "    \n",
    "    if head.next==None:\n",
    "        newNode=Node(data)\n",
    "        head.next=newNode\n",
    "        return head\n",
    "    \n",
    "    head.next=insertion_at_tail_rec(head.next,data)\n",
    "    return head\n",
    "\n",
    "def del_node_head(head):\n",
    "    newHead=head.next\n",
    "    return newHead\n",
    "\n",
    "def del_a_node_tail_rec(head):\n",
    "    ## BASE CASE\n",
    "    if head==None or head.next==None:\n",
    "        return None\n",
    "    \n",
    "    head.next=del_a_node_tail_rec(head.next)\n",
    "    return head"
   ]
  },
  {
   "cell_type": "markdown",
   "id": "3fefee37",
   "metadata": {},
   "source": [
    "DELETE A NODE FROM INDEX"
   ]
  },
  {
   "cell_type": "code",
   "execution_count": 3,
   "metadata": {},
   "outputs": [],
   "source": [
    "def del_a_node_index(head,index):\n",
    "    if head==None:\n",
    "        return head\n",
    "    if index==0:\n",
    "        return head.next\n",
    "    \n",
    "    temp=head\n",
    "    count=0\n",
    "\n",
    "    while(temp!=None and count<index-1):\n",
    "        count+=1\n",
    "        temp=temp.next\n",
    "\n",
    "    if temp==None or temp.next==None:\n",
    "        print('List Index Out Of Bounds')\n",
    "        return head\n",
    "    \n",
    "    temp.next=temp.next.next\n",
    "    return head"
   ]
  },
  {
   "cell_type": "code",
   "execution_count": 4,
   "id": "cfaa4695",
   "metadata": {},
   "outputs": [],
   "source": [
    "head=take_input()"
   ]
  },
  {
   "cell_type": "code",
   "execution_count": 5,
   "id": "b399d7d4",
   "metadata": {},
   "outputs": [
    {
     "name": "stdout",
     "output_type": "stream",
     "text": [
      "1\n",
      "2\n",
      "3\n",
      "4\n",
      "5\n",
      "6\n"
     ]
    }
   ],
   "source": [
    "print_LL_rec(head)"
   ]
  },
  {
   "cell_type": "code",
   "execution_count": 6,
   "metadata": {},
   "outputs": [],
   "source": [
    "head=del_a_node_index(head,3)"
   ]
  },
  {
   "cell_type": "code",
   "execution_count": 7,
   "id": "f663ad37",
   "metadata": {},
   "outputs": [
    {
     "name": "stdout",
     "output_type": "stream",
     "text": [
      "1\n",
      "2\n",
      "3\n",
      "5\n",
      "6\n"
     ]
    }
   ],
   "source": [
    "print_LL_rec(head)"
   ]
  },
  {
   "cell_type": "markdown",
   "id": "884dbfe4",
   "metadata": {},
   "source": [
    "DELETE A NODE FROM INDEX RECURSIVELY"
   ]
  },
  {
   "cell_type": "code",
   "execution_count": 8,
   "metadata": {},
   "outputs": [],
   "source": [
    "def del_a_node_index_rec(head,index):\n",
    "    if head==None:\n",
    "        print('List Index Out Of Bounds')\n",
    "        return None\n",
    "    if index==0:\n",
    "        return head.next\n",
    "    \n",
    "    head.next=del_a_node_index_rec(head.next,index-1)\n",
    "    return head"
   ]
  },
  {
   "cell_type": "code",
   "execution_count": 9,
   "id": "b6146be5",
   "metadata": {},
   "outputs": [],
   "source": [
    "head=del_a_node_index_rec(head,3)"
   ]
  },
  {
   "cell_type": "code",
   "execution_count": 10,
   "metadata": {},
   "outputs": [
    {
     "name": "stdout",
     "output_type": "stream",
     "text": [
      "1\n",
      "2\n",
      "3\n",
      "6\n"
     ]
    }
   ],
   "source": [
    "print_LL_rec(head)"
   ]
  },
  {
   "cell_type": "markdown",
   "id": "7f1d9242",
   "metadata": {},
   "source": [
    "DELETE NODE BY VALUE"
   ]
  },
  {
   "cell_type": "code",
   "execution_count": 11,
   "id": "7cb85f33",
   "metadata": {},
   "outputs": [],
   "source": [
    "def del_node_by_value(head,value):\n",
    "    if head==None:\n",
    "        print('Empty List')\n",
    "        return None\n",
    "    \n",
    "    if head.data==value:\n",
    "        return head.next\n",
    "    \n",
    "    temp=head\n",
    "    while(temp.next!=None and temp.next.data!=value):\n",
    "        temp=temp.next\n",
    "\n",
    "    temp.next=temp.next.next\n",
    "\n",
    "    if temp.next==None:\n",
    "        print('Element Not Found')\n",
    "    \n",
    "    return head"
   ]
  },
  {
   "cell_type": "code",
   "execution_count": 13,
   "metadata": {},
   "outputs": [],
   "source": [
    "head=del_node_by_value(head,2)"
   ]
  },
  {
   "cell_type": "code",
   "execution_count": 14,
   "id": "f91ad5ef",
   "metadata": {},
   "outputs": [
    {
     "name": "stdout",
     "output_type": "stream",
     "text": [
      "1\n",
      "3\n",
      "6\n"
     ]
    }
   ],
   "source": [
    "print_LL_rec(head)"
   ]
  },
  {
   "cell_type": "markdown",
   "id": "5ba7fc5b",
   "metadata": {},
   "source": [
    "DELETE A NODE BY VALUE RECURSIVELY"
   ]
  },
  {
   "cell_type": "code",
   "execution_count": null,
   "id": "48d84b04",
   "metadata": {},
   "outputs": [],
   "source": [
    "def del_node_by_value_rec(head,value):\n",
    "    ## BASE CASE\n",
    "    if head==None:\n",
    "        print('NOT FOUND')\n",
    "        return head\n",
    "    if head.data==value:\n",
    "        return head.next \n",
    "    \n",
    "    \n",
    "    \n",
    "    if head.next.data==value:\n",
    "        head.next=head.next.next\n",
    "        return head.next\n",
    "        \n",
    "    head.next=del_node_by_value_rec(head.next,value)\n",
    "    return head\n",
    "\n",
    "    "
   ]
  },
  {
   "cell_type": "code",
   "execution_count": 32,
   "id": "115f4a81",
   "metadata": {},
   "outputs": [],
   "source": [
    "head=take_input()"
   ]
  },
  {
   "cell_type": "code",
   "execution_count": 33,
   "id": "ae2956c0",
   "metadata": {},
   "outputs": [
    {
     "name": "stdout",
     "output_type": "stream",
     "text": [
      "1\n",
      "2\n",
      "3\n",
      "4\n",
      "5\n",
      "6\n",
      "7\n"
     ]
    }
   ],
   "source": [
    "print_LL_rec(head)"
   ]
  },
  {
   "cell_type": "code",
   "execution_count": 36,
   "id": "25154f67",
   "metadata": {},
   "outputs": [],
   "source": [
    "head=del_node_by_value_rec(head,4)"
   ]
  },
  {
   "cell_type": "code",
   "execution_count": 37,
   "id": "bea7fc40",
   "metadata": {},
   "outputs": [
    {
     "name": "stdout",
     "output_type": "stream",
     "text": [
      "5\n",
      "6\n",
      "7\n"
     ]
    }
   ],
   "source": [
    "print_LL_rec(head)"
   ]
  },
  {
   "cell_type": "code",
   "execution_count": null,
   "id": "f08485ac",
   "metadata": {},
   "outputs": [],
   "source": []
  }
 ],
 "metadata": {
  "kernelspec": {
   "display_name": "base",
   "language": "python",
   "name": "python3"
  },
  "language_info": {
   "codemirror_mode": {
    "name": "ipython",
    "version": 3
   },
   "file_extension": ".py",
   "mimetype": "text/x-python",
   "name": "python",
   "nbconvert_exporter": "python",
   "pygments_lexer": "ipython3",
   "version": "3.12.3"
  }
 },
 "nbformat": 4,
 "nbformat_minor": 5
}
