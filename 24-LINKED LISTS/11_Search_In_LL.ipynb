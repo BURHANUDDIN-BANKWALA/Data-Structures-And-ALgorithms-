{
 "cells": [
  {
   "cell_type": "code",
   "execution_count": 3,
   "id": "a23e9d82",
   "metadata": {},
   "outputs": [],
   "source": [
    "class Node:\n",
    "    def __init__(self,data):\n",
    "        self.data=data\n",
    "        self.next=None\n",
    "\n",
    "def take_input():\n",
    "    value=int(input('Enter The Value Of Node-->'))\n",
    "    head=None\n",
    "    \n",
    "    while(value!=-1):\n",
    "        newNode=Node(value)\n",
    "        if head==None:\n",
    "            head=newNode\n",
    "        else:\n",
    "            temp=head\n",
    "            while(temp.next!=None):\n",
    "                temp=temp.next\n",
    "            temp.next=newNode\n",
    "        value=int(input('Enter The Value Of New Node-->'))\n",
    "    \n",
    "    return head\n",
    "\n",
    "def print_LL_rec(head):\n",
    "    temp=head\n",
    "    if temp==None:\n",
    "        return\n",
    "    \n",
    "    print(temp.data)\n",
    "    print_LL_rec(temp.next)\n",
    "\n",
    "def insertion_at_head(head,data):\n",
    "    newNode=Node(data)\n",
    "    newNode.next=head\n",
    "    head=newNode\n",
    "    return head\n",
    "\n",
    "def insertion_at_tail_rec(head,data):\n",
    "    if head==None:\n",
    "        newNode=Node(data)\n",
    "        return newNode\n",
    "    \n",
    "    if head.next==None:\n",
    "        newNode=Node(data)\n",
    "        head.next=newNode\n",
    "        return head\n",
    "    \n",
    "    head.next=insertion_at_tail_rec(head.next,data)\n",
    "    return head\n",
    "\n",
    "def del_node_head(head):\n",
    "    newHead=head.next\n",
    "    return newHead\n",
    "\n",
    "def del_a_node_tail_rec(head):\n",
    "    ## BASE CASE\n",
    "    if head==None or head.next==None:\n",
    "        return None\n",
    "    \n",
    "    head.next=del_a_node_tail_rec(head.next)\n",
    "    return head"
   ]
  },
  {
   "cell_type": "markdown",
   "id": "5cb1807a",
   "metadata": {},
   "source": [
    "SEARCHING IN LINKED LIST"
   ]
  },
  {
   "cell_type": "code",
   "execution_count": 2,
   "id": "2b6236b2",
   "metadata": {},
   "outputs": [],
   "source": [
    "def search_in_LL(head,value):\n",
    "    temp=head\n",
    "    index=0\n",
    "    while temp!=None:\n",
    "        if temp.data==value:\n",
    "            return index\n",
    "        index+=1\n",
    "        temp=temp.next\n",
    "    return 'Not Found'"
   ]
  },
  {
   "cell_type": "code",
   "execution_count": 4,
   "id": "b13afed7",
   "metadata": {},
   "outputs": [],
   "source": [
    "head=take_input()"
   ]
  },
  {
   "cell_type": "code",
   "execution_count": 5,
   "id": "7158b29f",
   "metadata": {},
   "outputs": [
    {
     "name": "stdout",
     "output_type": "stream",
     "text": [
      "4\n"
     ]
    }
   ],
   "source": [
    "print(search_in_LL(head,5))"
   ]
  },
  {
   "cell_type": "markdown",
   "id": "baad8d08",
   "metadata": {},
   "source": [
    "SEARCHING IN LINKED LIST RECURSIVELY"
   ]
  },
  {
   "cell_type": "code",
   "execution_count": null,
   "id": "052ee57f",
   "metadata": {},
   "outputs": [],
   "source": [
    "def search_in_LL_rec(head,value,aux=0):\n",
    "    if head==None:\n",
    "        return 'Not Found'\n",
    "    \n",
    "    if head.data==value:\n",
    "        return aux\n",
    "    \n",
    "    return search_in_LL_rec(head.next,value,aux+1)"
   ]
  },
  {
   "cell_type": "code",
   "execution_count": 8,
   "id": "0e15709c",
   "metadata": {},
   "outputs": [
    {
     "name": "stdout",
     "output_type": "stream",
     "text": [
      "4\n"
     ]
    }
   ],
   "source": [
    "print(search_in_LL_rec(head,5))"
   ]
  },
  {
   "cell_type": "markdown",
   "id": "c34281d6",
   "metadata": {},
   "source": [
    "SEARCHING WITH INDEX"
   ]
  },
  {
   "cell_type": "code",
   "execution_count": 9,
   "id": "f926f9e6",
   "metadata": {},
   "outputs": [],
   "source": [
    "def search_with_index_rec(head,index):\n",
    "    if head==None:\n",
    "        return 'List Index Out Of Bounds'\n",
    "    \n",
    "    if index==0:\n",
    "        return head.data\n",
    "    \n",
    "    return search_with_index_rec(head.next,index-1)"
   ]
  },
  {
   "cell_type": "code",
   "execution_count": 10,
   "id": "84969dab",
   "metadata": {},
   "outputs": [
    {
     "data": {
      "text/plain": [
       "5"
      ]
     },
     "execution_count": 10,
     "metadata": {},
     "output_type": "execute_result"
    }
   ],
   "source": [
    "search_with_index_rec(head,4)"
   ]
  }
 ],
 "metadata": {
  "kernelspec": {
   "display_name": "base",
   "language": "python",
   "name": "python3"
  },
  "language_info": {
   "codemirror_mode": {
    "name": "ipython",
    "version": 3
   },
   "file_extension": ".py",
   "mimetype": "text/x-python",
   "name": "python",
   "nbconvert_exporter": "python",
   "pygments_lexer": "ipython3",
   "version": "3.12.3"
  }
 },
 "nbformat": 4,
 "nbformat_minor": 5
}
