{
 "cells": [
  {
   "cell_type": "code",
   "execution_count": 2,
   "id": "d915730b",
   "metadata": {},
   "outputs": [],
   "source": [
    "class Node:\n",
    "    def __init__(self,data):\n",
    "        self.data=data\n",
    "        self.next=None\n",
    "\n",
    "def take_input():\n",
    "    value=int(input('Enter The Value Of Node-->'))\n",
    "    head=None\n",
    "    \n",
    "    while(value!=-1):\n",
    "        newNode=Node(value)\n",
    "        if head==None:\n",
    "            head=newNode\n",
    "        else:\n",
    "            temp=head\n",
    "            while(temp.next!=None):\n",
    "                temp=temp.next\n",
    "            temp.next=newNode\n",
    "        value=int(input('Enter The Value Of New Node-->'))\n",
    "    \n",
    "    return head\n",
    "\n",
    "def print_LL_rec(head):\n",
    "    temp=head\n",
    "    if temp==None:\n",
    "        return\n",
    "    \n",
    "    print(temp.data)\n",
    "    print_LL_rec(temp.next)\n",
    "\n",
    "def insertion_at_head(head,data):\n",
    "    newNode=Node(data)\n",
    "    newNode.next=head\n",
    "    head=newNode\n",
    "    return head\n",
    "\n",
    "def insertion_at_tail_rec(head,data):\n",
    "    if head==None:\n",
    "        newNode=Node(data)\n",
    "        return newNode\n",
    "    \n",
    "    if head.next==None:\n",
    "        newNode=Node(data)\n",
    "        head.next=newNode\n",
    "        return head\n",
    "    \n",
    "    head.next=insertion_at_tail_rec(head.next,data)\n",
    "    return head\n",
    "\n",
    "def del_node_head(head):\n",
    "    newHead=head.next\n",
    "    return newHead\n",
    "\n",
    "def del_a_node_tail_rec(head):\n",
    "    ## BASE CASE\n",
    "    if head==None or head.next==None:\n",
    "        return None\n",
    "    \n",
    "    head.next=del_a_node_tail_rec(head.next)\n",
    "    return head\n",
    "\n",
    "def len_of_LL(head):\n",
    "    temp=head\n",
    "    ans=0\n",
    "    while(temp!=None):\n",
    "        ans+=1\n",
    "        temp=temp.next\n",
    "    return ans"
   ]
  },
  {
   "cell_type": "markdown",
   "id": "4b13618c",
   "metadata": {},
   "source": [
    "MIDDLE OF A LINKED LIST"
   ]
  },
  {
   "cell_type": "code",
   "execution_count": 6,
   "id": "6ca97d2f",
   "metadata": {},
   "outputs": [],
   "source": [
    "def middle_of_LL(head):\n",
    "    if head==None:\n",
    "        return None\n",
    "    elif head.next==None:\n",
    "        return head\n",
    "    \n",
    "    length=len_of_LL(head)\n",
    "    middle=length//2\n",
    "\n",
    "    temp=head\n",
    "    count=0\n",
    "    while(count<middle):\n",
    "        temp=temp.next\n",
    "        count+=1\n",
    "    return temp.data"
   ]
  },
  {
   "cell_type": "code",
   "execution_count": 7,
   "id": "f7a6d03f",
   "metadata": {},
   "outputs": [
    {
     "name": "stdout",
     "output_type": "stream",
     "text": [
      "3\n"
     ]
    }
   ],
   "source": [
    "print(middle_of_LL(head))"
   ]
  },
  {
   "cell_type": "code",
   "execution_count": 4,
   "id": "ccf940ef",
   "metadata": {},
   "outputs": [],
   "source": [
    "head=take_input()"
   ]
  },
  {
   "cell_type": "markdown",
   "id": "cee20f3b",
   "metadata": {},
   "source": [
    "MIDDLE OF A LINKED LIST TWO POINTERS APPROACH"
   ]
  },
  {
   "cell_type": "code",
   "execution_count": 8,
   "id": "bee33907",
   "metadata": {},
   "outputs": [],
   "source": [
    "def middle_of_LL_two_pointers(head):\n",
    "    if head==None:\n",
    "        return None\n",
    "    slow=head\n",
    "    fast=head\n",
    "    while(fast!=None and fast.next!=None):\n",
    "        slow=slow.next\n",
    "        fast=fast.next.next\n",
    "    return slow.data  "
   ]
  },
  {
   "cell_type": "code",
   "execution_count": 10,
   "id": "9e115fa5",
   "metadata": {},
   "outputs": [],
   "source": [
    "head=take_input()"
   ]
  },
  {
   "cell_type": "code",
   "execution_count": 11,
   "metadata": {},
   "outputs": [
    {
     "name": "stdout",
     "output_type": "stream",
     "text": [
      "1\n"
     ]
    }
   ],
   "source": [
    "print(middle_of_LL_two_pointers(head))"
   ]
  },
  {
   "cell_type": "code",
   "execution_count": null,
   "id": "abf94dd4",
   "metadata": {},
   "outputs": [],
   "source": []
  },
  {
   "cell_type": "code",
   "execution_count": null,
   "id": "a6ded341",
   "metadata": {},
   "outputs": [],
   "source": []
  },
  {
   "cell_type": "code",
   "execution_count": null,
   "id": "8fc2bdc0",
   "metadata": {},
   "outputs": [],
   "source": []
  },
  {
   "cell_type": "code",
   "execution_count": null,
   "id": "477c2082",
   "metadata": {},
   "outputs": [],
   "source": []
  },
  {
   "cell_type": "code",
   "execution_count": null,
   "id": "9708097d",
   "metadata": {},
   "outputs": [],
   "source": []
  },
  {
   "cell_type": "code",
   "execution_count": null,
   "id": "f93616a0",
   "metadata": {},
   "outputs": [],
   "source": []
  },
  {
   "cell_type": "code",
   "execution_count": null,
   "id": "ebec9e2a",
   "metadata": {},
   "outputs": [],
   "source": []
  },
  {
   "cell_type": "code",
   "execution_count": null,
   "id": "38a2ff00",
   "metadata": {},
   "outputs": [],
   "source": []
  }
 ],
 "metadata": {
  "kernelspec": {
   "display_name": "base",
   "language": "python",
   "name": "python3"
  },
  "language_info": {
   "codemirror_mode": {
    "name": "ipython",
    "version": 3
   },
   "file_extension": ".py",
   "mimetype": "text/x-python",
   "name": "python",
   "nbconvert_exporter": "python",
   "pygments_lexer": "ipython3",
   "version": "3.12.3"
  }
 },
 "nbformat": 4,
 "nbformat_minor": 5
}
