{
 "cells": [
  {
   "cell_type": "markdown",
   "id": "b6e26f48",
   "metadata": {},
   "source": [
    "STACKS USING LISTS"
   ]
  },
  {
   "cell_type": "code",
   "execution_count": 36,
   "id": "1d5201e2",
   "metadata": {},
   "outputs": [],
   "source": [
    "class Stacks:\n",
    "    def __init__(self):\n",
    "        ## WE NEED TO MAKE THIS STACK LIST PRIVATE\n",
    "        self.__stack=[]\n",
    "\n",
    "    ## INSERTION\n",
    "    def push(self,data):\n",
    "        self.__stack.append(data)\n",
    "        print(f'{data} pushed in stack')\n",
    "    ## LENGTH\n",
    "    def size(self):\n",
    "        return len(self.__stack)\n",
    "    \n",
    "    ## IS EMPTY\n",
    "    def is_empty(self):\n",
    "        return len(self.__stack)==0\n",
    "    \n",
    "    ## TOP ELEMENT\n",
    "    def top(self):\n",
    "        if self.is_empty():\n",
    "            return None\n",
    "        \n",
    "        return self.__stack[-1]\n",
    "    \n",
    "    ## POP ELEMENT\n",
    "    def pop(self):\n",
    "        if self.is_empty():\n",
    "            return None\n",
    "        \n",
    "        return self.__stack.pop()\n",
    "    "
   ]
  },
  {
   "cell_type": "code",
   "execution_count": 40,
   "id": "9d82c7c6",
   "metadata": {},
   "outputs": [],
   "source": [
    "stax=Stacks()"
   ]
  },
  {
   "cell_type": "code",
   "execution_count": 45,
   "metadata": {},
   "outputs": [
    {
     "name": "stdout",
     "output_type": "stream",
     "text": [
      "5 pushed in stack\n"
     ]
    }
   ],
   "source": [
    "stax.push(5)"
   ]
  },
  {
   "cell_type": "code",
   "execution_count": 42,
   "id": "a4f5d2f8",
   "metadata": {},
   "outputs": [
    {
     "data": {
      "text/plain": [
       "1"
      ]
     },
     "execution_count": 42,
     "metadata": {},
     "output_type": "execute_result"
    }
   ],
   "source": [
    "stax.size()"
   ]
  },
  {
   "cell_type": "code",
   "execution_count": 43,
   "id": "a8ab4933",
   "metadata": {},
   "outputs": [
    {
     "data": {
      "text/plain": [
       "False"
      ]
     },
     "execution_count": 43,
     "metadata": {},
     "output_type": "execute_result"
    }
   ],
   "source": [
    "stax.is_empty()"
   ]
  },
  {
   "cell_type": "code",
   "execution_count": 44,
   "id": "3c9f4a4e",
   "metadata": {},
   "outputs": [
    {
     "data": {
      "text/plain": [
       "5"
      ]
     },
     "execution_count": 44,
     "metadata": {},
     "output_type": "execute_result"
    }
   ],
   "source": [
    "stax.pop()"
   ]
  },
  {
   "cell_type": "code",
   "execution_count": 46,
   "id": "104758d7",
   "metadata": {},
   "outputs": [
    {
     "data": {
      "text/plain": [
       "5"
      ]
     },
     "execution_count": 46,
     "metadata": {},
     "output_type": "execute_result"
    }
   ],
   "source": [
    "stax.top()"
   ]
  }
 ],
 "metadata": {
  "kernelspec": {
   "display_name": "base",
   "language": "python",
   "name": "python3"
  },
  "language_info": {
   "codemirror_mode": {
    "name": "ipython",
    "version": 3
   },
   "file_extension": ".py",
   "mimetype": "text/x-python",
   "name": "python",
   "nbconvert_exporter": "python",
   "pygments_lexer": "ipython3",
   "version": "3.12.3"
  }
 },
 "nbformat": 4,
 "nbformat_minor": 5
}
