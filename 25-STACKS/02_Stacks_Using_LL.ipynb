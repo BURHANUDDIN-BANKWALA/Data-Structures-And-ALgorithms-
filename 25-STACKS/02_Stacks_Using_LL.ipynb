{
 "cells": [
  {
   "cell_type": "markdown",
   "id": "29c20c31",
   "metadata": {},
   "source": [
    "STACKS USING LINKED LISTS"
   ]
  },
  {
   "cell_type": "code",
   "execution_count": 80,
   "id": "ce67a520",
   "metadata": {},
   "outputs": [],
   "source": [
    "import Linked_List as LL\n",
    "\n",
    "class Stack:\n",
    "    def __init__(self):\n",
    "        self.__head=None\n",
    "        self.__size=0\n",
    "    \n",
    "    def push(self,data):\n",
    "        self.__size+=1\n",
    "        newNode=LL.Node(data)\n",
    "\n",
    "        if self.__head==None:\n",
    "            self.__head=newNode\n",
    "            return f'{data} Pushed In Stack'\n",
    "        \n",
    "        newNode.next=self.__head\n",
    "        self.__head=newNode\n",
    "        return f'{data} Pushed In Stack'\n",
    "    \n",
    "    def top(self):\n",
    "        if self.__head==None or self.__size==0:\n",
    "            return 'Empty Stack'\n",
    "        \n",
    "        return self.__head.data\n",
    "    \n",
    "    def pop(self):\n",
    "        if self.__head==None or self.__size==0:\n",
    "            return 'Empty Stack'\n",
    "        \n",
    "        data_at_top=self.__head.data\n",
    "        self.__head=self.__head.next\n",
    "        self.__size-=1\n",
    "        return data_at_top\n",
    "    \n",
    "    def size(self):\n",
    "        return self.__size\n",
    "    \n",
    "    def is_empty(self):\n",
    "        return self.__size==0"
   ]
  },
  {
   "cell_type": "code",
   "execution_count": 71,
   "id": "bb3f47fe",
   "metadata": {},
   "outputs": [],
   "source": [
    "stax=Stack()"
   ]
  },
  {
   "cell_type": "code",
   "execution_count": 76,
   "id": "f684703f",
   "metadata": {},
   "outputs": [
    {
     "data": {
      "text/plain": [
       "'1 Pushed In Stack'"
      ]
     },
     "execution_count": 76,
     "metadata": {},
     "output_type": "execute_result"
    }
   ],
   "source": [
    "\n",
    "stax.push(1)"
   ]
  },
  {
   "cell_type": "code",
   "execution_count": 77,
   "metadata": {},
   "outputs": [
    {
     "data": {
      "text/plain": [
       "False"
      ]
     },
     "execution_count": 77,
     "metadata": {},
     "output_type": "execute_result"
    }
   ],
   "source": [
    "stax.is_empty()"
   ]
  },
  {
   "cell_type": "code",
   "execution_count": 78,
   "id": "aeabb01e",
   "metadata": {},
   "outputs": [
    {
     "data": {
      "text/plain": [
       "1"
      ]
     },
     "execution_count": 78,
     "metadata": {},
     "output_type": "execute_result"
    }
   ],
   "source": [
    "stax.pop()"
   ]
  },
  {
   "cell_type": "code",
   "execution_count": 79,
   "metadata": {},
   "outputs": [
    {
     "data": {
      "text/plain": [
       "2"
      ]
     },
     "execution_count": 79,
     "metadata": {},
     "output_type": "execute_result"
    }
   ],
   "source": [
    "stax.top()"
   ]
  }
 ],
 "metadata": {
  "kernelspec": {
   "display_name": "base",
   "language": "python",
   "name": "python3"
  },
  "language_info": {
   "codemirror_mode": {
    "name": "ipython",
    "version": 3
   },
   "file_extension": ".py",
   "mimetype": "text/x-python",
   "name": "python",
   "nbconvert_exporter": "python",
   "pygments_lexer": "ipython3",
   "version": "3.12.3"
  }
 },
 "nbformat": 4,
 "nbformat_minor": 5
}
