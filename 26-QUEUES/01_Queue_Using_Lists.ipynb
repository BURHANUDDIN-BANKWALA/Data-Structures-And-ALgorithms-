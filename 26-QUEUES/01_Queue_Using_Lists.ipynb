{
 "cells": [
  {
   "cell_type": "markdown",
   "id": "c3fa708a",
   "metadata": {},
   "source": [
    "QUEUES USING LISTS"
   ]
  },
  {
   "cell_type": "code",
   "execution_count": 16,
   "id": "84febcba",
   "metadata": {},
   "outputs": [],
   "source": [
    "class Queue:\n",
    "    def __init__(self):\n",
    "        self.__queue=[]\n",
    "\n",
    "    def size(self):\n",
    "        return len(self.__queue)\n",
    "    \n",
    "    def is_empty(self):\n",
    "        return len(self.__queue)==0\n",
    "    \n",
    "    def enqueue(self, data):\n",
    "        self.__queue.append(data)\n",
    "        return f'{data} Enqueued In Queue'\n",
    "    \n",
    "    def front(self):\n",
    "        if self.size==0:\n",
    "            print('Empty Queue')\n",
    "            return None\n",
    "        \n",
    "        return self.__queue[0]\n",
    "    \n",
    "    def dequeue(self):\n",
    "        if self.size==0:\n",
    "            print('Empty Queue')\n",
    "            return None\n",
    "        \n",
    "        return self.__queue.pop(0)"
   ]
  },
  {
   "cell_type": "code",
   "execution_count": 17,
   "id": "e6e96496",
   "metadata": {},
   "outputs": [],
   "source": [
    "q=Queue()"
   ]
  },
  {
   "cell_type": "code",
   "execution_count": 18,
   "metadata": {},
   "outputs": [
    {
     "data": {
      "text/plain": [
       "'1 Enqueued In Queue'"
      ]
     },
     "execution_count": 18,
     "metadata": {},
     "output_type": "execute_result"
    }
   ],
   "source": [
    "q.enqueue(1)"
   ]
  },
  {
   "cell_type": "code",
   "execution_count": 6,
   "id": "334c627b",
   "metadata": {},
   "outputs": [
    {
     "data": {
      "text/plain": [
       "'4 Enqueued In Queue'"
      ]
     },
     "execution_count": 6,
     "metadata": {},
     "output_type": "execute_result"
    }
   ],
   "source": [
    "q.enqueue(4)"
   ]
  },
  {
   "cell_type": "code",
   "execution_count": 19,
   "id": "11177cc2",
   "metadata": {},
   "outputs": [
    {
     "data": {
      "text/plain": [
       "1"
      ]
     },
     "execution_count": 19,
     "metadata": {},
     "output_type": "execute_result"
    }
   ],
   "source": [
    "q.dequeue()"
   ]
  }
 ],
 "metadata": {
  "kernelspec": {
   "display_name": "base",
   "language": "python",
   "name": "python3"
  },
  "language_info": {
   "codemirror_mode": {
    "name": "ipython",
    "version": 3
   },
   "file_extension": ".py",
   "mimetype": "text/x-python",
   "name": "python",
   "nbconvert_exporter": "python",
   "pygments_lexer": "ipython3",
   "version": "3.12.3"
  }
 },
 "nbformat": 4,
 "nbformat_minor": 5
}
