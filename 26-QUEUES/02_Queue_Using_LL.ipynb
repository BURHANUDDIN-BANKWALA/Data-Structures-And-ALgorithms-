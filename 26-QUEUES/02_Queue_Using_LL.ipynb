{
 "cells": [
  {
   "cell_type": "markdown",
   "id": "82a003ea",
   "metadata": {},
   "source": [
    "QUEUE USING LINKED LISTS"
   ]
  },
  {
   "cell_type": "code",
   "execution_count": 4,
   "id": "947c442d",
   "metadata": {},
   "outputs": [],
   "source": [
    "import Linked_List as LL"
   ]
  },
  {
   "cell_type": "code",
   "execution_count": 5,
   "id": "c2cc3806",
   "metadata": {},
   "outputs": [],
   "source": [
    "class Queue:\n",
    "    def __init__(self):\n",
    "        self.__head=None\n",
    "        self.__size=0\n",
    "        self.__tail=None\n",
    "\n",
    "    def size(self):\n",
    "        return self.__size\n",
    "    \n",
    "    def is_empty(self):\n",
    "        return self.__size==0\n",
    "    \n",
    "    def enqueue(self,data):\n",
    "        newNode=LL.Node(data)\n",
    "        self.__size=self.__size+1\n",
    "\n",
    "        if self.__head==None:\n",
    "            self.__head=newNode\n",
    "            self.__tail=newNode\n",
    "        else:\n",
    "            self.__tail.next=newNode\n",
    "            self.__tail=newNode\n",
    "        return f'{data} Enqueued'\n",
    "    \n",
    "    def front(self):\n",
    "        if self.__head==None:\n",
    "            print('Empty Queue')\n",
    "            return None\n",
    "        else:\n",
    "            return self.__head.data\n",
    "        \n",
    "    def dequeue(self):\n",
    "        if self.is_empty():\n",
    "            print('Empty Queue')\n",
    "            return None\n",
    "        \n",
    "        self.__size-=1\n",
    "        pop_data=self.__head.data\n",
    "        self.__head=self.__head.next\n",
    "\n",
    "        if self.__head==None:\n",
    "            self.__tail==None\n",
    "        \n",
    "        return pop_data\n",
    "        "
   ]
  },
  {
   "cell_type": "code",
   "execution_count": 6,
   "id": "3a28516a",
   "metadata": {},
   "outputs": [],
   "source": [
    "q=Queue()"
   ]
  },
  {
   "cell_type": "code",
   "execution_count": 7,
   "id": "3124b086",
   "metadata": {},
   "outputs": [
    {
     "data": {
      "text/plain": [
       "'1 Enqueued'"
      ]
     },
     "execution_count": 7,
     "metadata": {},
     "output_type": "execute_result"
    }
   ],
   "source": [
    "q.enqueue(1)"
   ]
  },
  {
   "cell_type": "code",
   "execution_count": 12,
   "id": "e4fb2ab9",
   "metadata": {},
   "outputs": [
    {
     "data": {
      "text/plain": [
       "0"
      ]
     },
     "execution_count": 12,
     "metadata": {},
     "output_type": "execute_result"
    }
   ],
   "source": [
    "q.size()"
   ]
  },
  {
   "cell_type": "code",
   "execution_count": 11,
   "id": "95cf508e",
   "metadata": {},
   "outputs": [
    {
     "data": {
      "text/plain": [
       "True"
      ]
     },
     "execution_count": 11,
     "metadata": {},
     "output_type": "execute_result"
    }
   ],
   "source": [
    "q.is_empty()"
   ]
  },
  {
   "cell_type": "code",
   "execution_count": 10,
   "id": "36d5f148",
   "metadata": {},
   "outputs": [
    {
     "name": "stdout",
     "output_type": "stream",
     "text": [
      "Empty Queue\n",
      "None\n"
     ]
    }
   ],
   "source": [
    "print(q.front())"
   ]
  },
  {
   "cell_type": "code",
   "execution_count": 9,
   "id": "6eb86d94",
   "metadata": {},
   "outputs": [
    {
     "data": {
      "text/plain": [
       "1"
      ]
     },
     "execution_count": 9,
     "metadata": {},
     "output_type": "execute_result"
    }
   ],
   "source": [
    "q.dequeue()"
   ]
  },
  {
   "cell_type": "code",
   "execution_count": null,
   "id": "8deff906",
   "metadata": {},
   "outputs": [],
   "source": []
  }
 ],
 "metadata": {
  "kernelspec": {
   "display_name": "base",
   "language": "python",
   "name": "python3"
  },
  "language_info": {
   "codemirror_mode": {
    "name": "ipython",
    "version": 3
   },
   "file_extension": ".py",
   "mimetype": "text/x-python",
   "name": "python",
   "nbconvert_exporter": "python",
   "pygments_lexer": "ipython3",
   "version": "3.12.3"
  }
 },
 "nbformat": 4,
 "nbformat_minor": 5
}
