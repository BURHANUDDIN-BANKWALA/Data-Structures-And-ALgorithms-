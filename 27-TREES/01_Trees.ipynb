{
 "cells": [
  {
   "cell_type": "code",
   "execution_count": null,
   "id": "f3cc5d26",
   "metadata": {},
   "outputs": [],
   "source": [
    "class TreeNode:\n",
    "    def __init__(self,data):\n",
    "        self.data=data\n",
    "        self.children=[]"
   ]
  },
  {
   "cell_type": "code",
   "execution_count": 4,
   "id": "427704f5",
   "metadata": {},
   "outputs": [],
   "source": [
    "root=TreeNode(1)"
   ]
  },
  {
   "cell_type": "code",
   "execution_count": 5,
   "id": "26813573",
   "metadata": {},
   "outputs": [],
   "source": [
    "child1=TreeNode(2)\n",
    "child2=TreeNode(3)\n",
    "child3=TreeNode(4)\n",
    "root.children.append(child1)\n",
    "root.children.append(child2)\n",
    "root.children.append(child3)"
   ]
  },
  {
   "cell_type": "markdown",
   "id": "adbcd3c0",
   "metadata": {},
   "source": [
    "PRINTING A TREE"
   ]
  },
  {
   "cell_type": "code",
   "execution_count": 5,
   "id": "bc3c6afc",
   "metadata": {},
   "outputs": [],
   "source": [
    "def print_tree(root):\n",
    "    if root==None:\n",
    "        return None\n",
    "    \n",
    "    print(root.data)\n",
    "    for each_child in root.children:\n",
    "        print_tree(each_child)"
   ]
  },
  {
   "cell_type": "code",
   "execution_count": 6,
   "id": "3c740e43",
   "metadata": {},
   "outputs": [
    {
     "name": "stdout",
     "output_type": "stream",
     "text": [
      "1\n",
      "2\n",
      "3\n",
      "4\n"
     ]
    }
   ],
   "source": [
    "print_tree(root)"
   ]
  },
  {
   "cell_type": "markdown",
   "id": "2949847a",
   "metadata": {},
   "source": [
    "PRINTING TREE DETAILED"
   ]
  },
  {
   "cell_type": "code",
   "execution_count": null,
   "id": "cc85f41f",
   "metadata": {},
   "outputs": [],
   "source": [
    "def print_tree_detailed(root):\n",
    "    if root==None:\n",
    "        return \n",
    "    \n",
    "    print(root.data,':',end='')\n",
    "    for each_child in root.children:\n",
    "        if root.children[-1]==each_child:\n",
    "            print(each_child.data, end='')\n",
    "        else:   \n",
    "            print(each_child.data, end=',')\n",
    "        \n",
    "    print()\n",
    "    \n",
    "    for each_child in root.children:\n",
    "        print_tree_detailed(each_child)"
   ]
  },
  {
   "cell_type": "code",
   "execution_count": 27,
   "id": "c461688e",
   "metadata": {},
   "outputs": [
    {
     "name": "stdout",
     "output_type": "stream",
     "text": [
      "1 :2,3,4\n",
      "2 :\n",
      "3 :\n",
      "4 :\n"
     ]
    }
   ],
   "source": [
    "print_tree_detailed(root)"
   ]
  }
 ],
 "metadata": {
  "kernelspec": {
   "display_name": "base",
   "language": "python",
   "name": "python3"
  },
  "language_info": {
   "codemirror_mode": {
    "name": "ipython",
    "version": 3
   },
   "file_extension": ".py",
   "mimetype": "text/x-python",
   "name": "python",
   "nbconvert_exporter": "python",
   "pygments_lexer": "ipython3",
   "version": "3.12.3"
  }
 },
 "nbformat": 4,
 "nbformat_minor": 5
}
