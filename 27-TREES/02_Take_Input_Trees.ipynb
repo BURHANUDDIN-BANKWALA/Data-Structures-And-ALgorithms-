{
 "cells": [
  {
   "cell_type": "code",
   "execution_count": null,
   "id": "1b13ab8b",
   "metadata": {},
   "outputs": [
    {
     "ename": "",
     "evalue": "",
     "output_type": "error",
     "traceback": [
      "\u001b[1;31mThe file 'python\\DATA STRUCTURES AND ALGORITHMS\\27-TREES\\queue.py' seems to be overriding built in modules and interfering with the startup of the kernel. Consider renaming the file and starting the kernel again.\n",
      "\u001b[1;31mClick <a href='https://aka.ms/kernelFailuresOverridingBuiltInModules'>here</a> for more info."
     ]
    }
   ],
   "source": [
    "class TreeNode:\n",
    "    def __init__(self,data):\n",
    "        self.data=data\n",
    "        self.children=[]"
   ]
  },
  {
   "cell_type": "code",
   "execution_count": null,
   "id": "d143ec09",
   "metadata": {},
   "outputs": [],
   "source": [
    "def print_tree_detailed(root):\n",
    "    if root==None:\n",
    "        return \n",
    "    \n",
    "    print(root.data,':',end='')\n",
    "    for each_child in root.children:\n",
    "        if root.children[-1]==each_child:\n",
    "            print(each_child.data, end='')\n",
    "        else:   \n",
    "            print(each_child.data, end=',')\n",
    "        \n",
    "    print()\n",
    "    \n",
    "    for each_child in root.children:\n",
    "        print_tree_detailed(each_child)"
   ]
  },
  {
   "cell_type": "markdown",
   "id": "afc506c4",
   "metadata": {},
   "source": [
    "TAKE INPUT"
   ]
  },
  {
   "cell_type": "code",
   "execution_count": null,
   "id": "18b70fd3",
   "metadata": {},
   "outputs": [],
   "source": [
    "def take_input():\n",
    "    data=int(input('Enter The Data For The Node: '))\n",
    "    newNode=TreeNode(data)\n",
    "\n",
    "    num_of_children=int(input(f'Enter The Number Of Children for {data}'))\n",
    "    for _ in range(num_of_children):\n",
    "        child=take_input()\n",
    "        newNode.children.append(child)\n",
    "    return newNode"
   ]
  },
  {
   "cell_type": "code",
   "execution_count": null,
   "id": "ee99a4bf",
   "metadata": {},
   "outputs": [],
   "source": [
    "root=take_input()"
   ]
  },
  {
   "cell_type": "code",
   "execution_count": null,
   "id": "565b718f",
   "metadata": {},
   "outputs": [],
   "source": [
    "print_tree_detailed(root)"
   ]
  },
  {
   "cell_type": "markdown",
   "id": "141e700f",
   "metadata": {},
   "source": [
    "## TAKE INPUT BETTER\n"
   ]
  },
  {
   "cell_type": "code",
   "execution_count": null,
   "id": "91a897f9",
   "metadata": {},
   "outputs": [
    {
     "ename": "",
     "evalue": "",
     "output_type": "error",
     "traceback": [
      "\u001b[1;31mThe file 'python\\DATA STRUCTURES AND ALGORITHMS\\27-TREES\\queue.py' seems to be overriding built in modules and interfering with the startup of the kernel. Consider renaming the file and starting the kernel again.\n",
      "\u001b[1;31mClick <a href='https://aka.ms/kernelFailuresOverridingBuiltInModules'>here</a> for more info."
     ]
    }
   ],
   "source": []
  },
  {
   "cell_type": "code",
   "execution_count": null,
   "id": "452afca9",
   "metadata": {},
   "outputs": [
    {
     "ename": "",
     "evalue": "",
     "output_type": "error",
     "traceback": [
      "\u001b[1;31mThe file 'python\\DATA STRUCTURES AND ALGORITHMS\\27-TREES\\queue.py' seems to be overriding built in modules and interfering with the startup of the kernel. Consider renaming the file and starting the kernel again.\n",
      "\u001b[1;31mClick <a href='https://aka.ms/kernelFailuresOverridingBuiltInModules'>here</a> for more info."
     ]
    }
   ],
   "source": [
    "\n",
    "\n",
    "    "
   ]
  },
  {
   "cell_type": "code",
   "execution_count": null,
   "id": "2d318c26",
   "metadata": {},
   "outputs": [],
   "source": []
  },
  {
   "cell_type": "code",
   "execution_count": null,
   "id": "e3bbd9dc",
   "metadata": {},
   "outputs": [],
   "source": []
  },
  {
   "cell_type": "code",
   "execution_count": null,
   "id": "3f6ea1bd",
   "metadata": {},
   "outputs": [],
   "source": []
  },
  {
   "cell_type": "code",
   "execution_count": null,
   "id": "5d57cd10",
   "metadata": {},
   "outputs": [],
   "source": []
  },
  {
   "cell_type": "code",
   "execution_count": null,
   "id": "dba74570",
   "metadata": {},
   "outputs": [],
   "source": []
  },
  {
   "cell_type": "code",
   "execution_count": null,
   "id": "3ea94f5f",
   "metadata": {},
   "outputs": [],
   "source": []
  },
  {
   "cell_type": "code",
   "execution_count": null,
   "id": "b07e2acd",
   "metadata": {},
   "outputs": [],
   "source": []
  },
  {
   "cell_type": "code",
   "execution_count": null,
   "id": "8b522899",
   "metadata": {},
   "outputs": [],
   "source": []
  }
 ],
 "metadata": {
  "kernelspec": {
   "display_name": "base",
   "language": "python",
   "name": "python3"
  },
  "language_info": {
   "codemirror_mode": {
    "name": "ipython",
    "version": 3
   },
   "file_extension": ".py",
   "mimetype": "text/x-python",
   "name": "python",
   "nbconvert_exporter": "python",
   "pygments_lexer": "ipython3",
   "version": "3.12.3"
  }
 },
 "nbformat": 4,
 "nbformat_minor": 5
}
