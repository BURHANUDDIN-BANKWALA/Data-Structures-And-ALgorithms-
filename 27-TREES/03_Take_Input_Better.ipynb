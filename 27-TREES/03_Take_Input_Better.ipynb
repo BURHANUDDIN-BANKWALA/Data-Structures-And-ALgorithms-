{
 "cells": [
  {
   "cell_type": "code",
   "execution_count": null,
   "id": "31902ead",
   "metadata": {},
   "outputs": [],
   "source": [
    "import queues "
   ]
  },
  {
   "cell_type": "code",
   "execution_count": 5,
   "id": "a9b3bb73",
   "metadata": {},
   "outputs": [],
   "source": [
    "class TreeNode:\n",
    "    def __init__(self,data):\n",
    "        self.data=data\n",
    "        self.children=[]\n",
    "\n",
    "        "
   ]
  },
  {
   "cell_type": "code",
   "execution_count": 6,
   "id": "b6d04438",
   "metadata": {},
   "outputs": [],
   "source": [
    "def take_input_better():\n",
    "    data=int(input('Enter The Root Data'))\n",
    "    root =TreeNode(data)\n",
    "    print(root)\n",
    "\n",
    "    Q=queues.Queue()\n",
    "    Q.enqueue(root)\n",
    "    \n",
    "    while(Q.size() !=0):\n",
    "        current_node=Q.dequeue()\n",
    "        \n",
    "        print(current_node.data)\n",
    "        num_children=int(input(f'Enter The Number Of Children For {str(current_node.data)}'))\n",
    "             \n",
    "        for i in range(num_children):\n",
    "            child_data=int(input(f'Emter The Data For {i} of {current_node.data}'))\n",
    "            child_node=TreeNode(child_data)\n",
    "            current_node.children.append(child_node)\n",
    "            Q.enqueue(child_node)\n",
    "            \n",
    "        \n",
    "    return root"
   ]
  },
  {
   "cell_type": "code",
   "execution_count": 11,
   "id": "d1ae0b03",
   "metadata": {},
   "outputs": [
    {
     "name": "stdout",
     "output_type": "stream",
     "text": [
      "<__main__.TreeNode object at 0x00000207466CA180>\n",
      "1\n",
      "2\n",
      "3\n",
      "4\n",
      "5\n",
      "7\n",
      "6\n",
      "8\n",
      "9\n"
     ]
    }
   ],
   "source": [
    "root=take_input_better()\n"
   ]
  },
  {
   "cell_type": "code",
   "execution_count": 12,
   "id": "62807951",
   "metadata": {},
   "outputs": [],
   "source": [
    "def print_tree_detailed(root):\n",
    "    if root==None:\n",
    "        return \n",
    "    \n",
    "    print(root.data,':',end='')\n",
    "    for each_child in root.children:\n",
    "        if root.children[-1]==each_child:\n",
    "            print(each_child.data, end='')\n",
    "        else:   \n",
    "            print(each_child.data, end=',')\n",
    "        \n",
    "    print()\n",
    "    \n",
    "    for each_child in root.children:\n",
    "        print_tree_detailed(each_child)\n",
    "        "
   ]
  },
  {
   "cell_type": "code",
   "execution_count": 13,
   "id": "bf274438",
   "metadata": {},
   "outputs": [
    {
     "name": "stdout",
     "output_type": "stream",
     "text": [
      "1 :2,3\n",
      "2 :4,5\n",
      "4 :\n",
      "5 :6\n",
      "6 :\n",
      "3 :7\n",
      "7 :8,9\n",
      "8 :\n",
      "9 :\n"
     ]
    }
   ],
   "source": [
    "print_tree_detailed(root)"
   ]
  },
  {
   "cell_type": "code",
   "execution_count": null,
   "id": "41a5d0b1",
   "metadata": {},
   "outputs": [],
   "source": []
  }
 ],
 "metadata": {
  "kernelspec": {
   "display_name": "base",
   "language": "python",
   "name": "python3"
  },
  "language_info": {
   "codemirror_mode": {
    "name": "ipython",
    "version": 3
   },
   "file_extension": ".py",
   "mimetype": "text/x-python",
   "name": "python",
   "nbconvert_exporter": "python",
   "pygments_lexer": "ipython3",
   "version": "3.12.3"
  }
 },
 "nbformat": 4,
 "nbformat_minor": 5
}
