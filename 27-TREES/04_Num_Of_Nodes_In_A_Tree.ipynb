{
 "cells": [
  {
   "cell_type": "code",
   "execution_count": 2,
   "id": "af95ee95",
   "metadata": {},
   "outputs": [],
   "source": [
    "import queues \n",
    "\n",
    "class TreeNode:\n",
    "    def __init__(self,data):\n",
    "        self.data=data\n",
    "        self.children=[]\n",
    "\n",
    "def take_input_better():\n",
    "    data=int(input('Enter The Root Data'))\n",
    "    root =TreeNode(data)\n",
    "    print(root)\n",
    "\n",
    "    Q=queues.Queue()\n",
    "    Q.enqueue(root)\n",
    "    \n",
    "    while(Q.size() !=0):\n",
    "        current_node=Q.dequeue()\n",
    "        \n",
    "        print(current_node.data)\n",
    "        num_children=int(input(f'Enter The Number Of Children For {str(current_node.data)}'))\n",
    "             \n",
    "        for i in range(num_children):\n",
    "            child_data=int(input(f'Emter The Data For {i} of {current_node.data}'))\n",
    "            child_node=TreeNode(child_data)\n",
    "            current_node.children.append(child_node)\n",
    "            Q.enqueue(child_node)\n",
    "            \n",
    "        \n",
    "    return root\n",
    "\n",
    "def print_tree_detailed(root):\n",
    "    if root==None:\n",
    "        return \n",
    "    \n",
    "    print(root.data,':',end='')\n",
    "    for each_child in root.children:\n",
    "        if root.children[-1]==each_child:\n",
    "            print(each_child.data, end='')\n",
    "        else:   \n",
    "            print(each_child.data, end=',')\n",
    "        \n",
    "    print()\n",
    "    \n",
    "    for each_child in root.children:\n",
    "        print_tree_detailed(each_child)\n",
    "        "
   ]
  },
  {
   "cell_type": "code",
   "execution_count": 3,
   "id": "25b05bf5",
   "metadata": {},
   "outputs": [
    {
     "name": "stdout",
     "output_type": "stream",
     "text": [
      "<__main__.TreeNode object at 0x00000247EA6CB950>\n",
      "1\n",
      "2\n",
      "3\n",
      "4\n",
      "5\n",
      "7\n",
      "6\n",
      "8\n",
      "9\n"
     ]
    }
   ],
   "source": [
    "root=take_input_better()\n"
   ]
  },
  {
   "cell_type": "code",
   "execution_count": 4,
   "id": "fe9e218f",
   "metadata": {},
   "outputs": [
    {
     "name": "stdout",
     "output_type": "stream",
     "text": [
      "1 :2,3\n",
      "2 :4,5\n",
      "4 :\n",
      "5 :6\n",
      "6 :\n",
      "3 :7\n",
      "7 :8,9\n",
      "8 :\n",
      "9 :\n"
     ]
    }
   ],
   "source": [
    "print_tree_detailed(root)"
   ]
  },
  {
   "cell_type": "code",
   "execution_count": 6,
   "id": "8b7d4c43",
   "metadata": {},
   "outputs": [],
   "source": [
    "def count_nodes(root):\n",
    "    if root==None:\n",
    "        return 0\n",
    "    num_of_nodes=1\n",
    "    for each_child in root.children:\n",
    "        num_of_nodes+= count_nodes(each_child)\n",
    "  \n",
    "    return num_of_nodes\n"
   ]
  },
  {
   "cell_type": "code",
   "execution_count": 7,
   "id": "df8d8186",
   "metadata": {},
   "outputs": [
    {
     "data": {
      "text/plain": [
       "9"
      ]
     },
     "execution_count": 7,
     "metadata": {},
     "output_type": "execute_result"
    }
   ],
   "source": [
    "count_nodes(root)"
   ]
  },
  {
   "cell_type": "code",
   "execution_count": null,
   "id": "ae828e82",
   "metadata": {},
   "outputs": [],
   "source": []
  },
  {
   "cell_type": "code",
   "execution_count": null,
   "metadata": {},
   "outputs": [],
   "source": []
  },
  {
   "cell_type": "code",
   "execution_count": null,
   "id": "80ea590f",
   "metadata": {},
   "outputs": [],
   "source": []
  },
  {
   "cell_type": "code",
   "execution_count": null,
   "metadata": {},
   "outputs": [],
   "source": []
  },
  {
   "cell_type": "code",
   "execution_count": null,
   "id": "9d851fe2",
   "metadata": {},
   "outputs": [],
   "source": []
  },
  {
   "cell_type": "code",
   "execution_count": null,
   "metadata": {},
   "outputs": [],
   "source": []
  }
 ],
 "metadata": {
  "kernelspec": {
   "display_name": "base",
   "language": "python",
   "name": "python3"
  },
  "language_info": {
   "codemirror_mode": {
    "name": "ipython",
    "version": 3
   },
   "file_extension": ".py",
   "mimetype": "text/x-python",
   "name": "python",
   "nbconvert_exporter": "python",
   "pygments_lexer": "ipython3",
   "version": "3.12.3"
  }
 },
 "nbformat": 4,
 "nbformat_minor": 5
}
