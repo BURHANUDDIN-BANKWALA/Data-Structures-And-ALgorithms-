{
 "cells": [
  {
   "cell_type": "code",
   "execution_count": 1,
   "id": "1c8df20a",
   "metadata": {},
   "outputs": [],
   "source": [
    "import queues \n",
    "\n",
    "class TreeNode:\n",
    "    def __init__(self,data):\n",
    "        self.data=data\n",
    "        self.children=[]\n",
    "\n",
    "def take_input_better():\n",
    "    data=int(input('Enter The Root Data'))\n",
    "    root =TreeNode(data)\n",
    "    print(root)\n",
    "\n",
    "    Q=queues.Queue()\n",
    "    Q.enqueue(root)\n",
    "    \n",
    "    while(Q.size() !=0):\n",
    "        current_node=Q.dequeue()\n",
    "        \n",
    "        print(current_node.data)\n",
    "        num_children=int(input(f'Enter The Number Of Children For {str(current_node.data)}'))\n",
    "             \n",
    "        for i in range(num_children):\n",
    "            child_data=int(input(f'Emter The Data For {i} of {current_node.data}'))\n",
    "            child_node=TreeNode(child_data)\n",
    "            current_node.children.append(child_node)\n",
    "            Q.enqueue(child_node)\n",
    "            \n",
    "        \n",
    "    return root\n",
    "\n",
    "def print_tree_detailed(root):\n",
    "    if root==None:\n",
    "        return \n",
    "    \n",
    "    print(root.data,':',end='')\n",
    "    for each_child in root.children:\n",
    "        if root.children[-1]==each_child:\n",
    "            print(each_child.data, end='')\n",
    "        else:   \n",
    "            print(each_child.data, end=',')\n",
    "        \n",
    "    print()\n",
    "    \n",
    "    for each_child in root.children:\n",
    "        print_tree_detailed(each_child)\n",
    "        "
   ]
  },
  {
   "cell_type": "code",
   "execution_count": 2,
   "id": "f442a078",
   "metadata": {},
   "outputs": [],
   "source": [
    "def height_of_a_tree(root):\n",
    "    if root== None:\n",
    "        return 0\n",
    "\n",
    "    height=1\n",
    "    max_child_height=0\n",
    "    for each_child in root.children:\n",
    "        max_child_height=max(max_child_height,height_of_a_tree(each_child))\n",
    "\n",
    "    height=height+ max_child_height\n",
    "    return height"
   ]
  },
  {
   "cell_type": "code",
   "execution_count": 3,
   "id": "b9cb01ef",
   "metadata": {},
   "outputs": [
    {
     "name": "stdout",
     "output_type": "stream",
     "text": [
      "<__main__.TreeNode object at 0x0000024842E1A990>\n",
      "1\n",
      "2\n",
      "3\n",
      "4\n"
     ]
    }
   ],
   "source": [
    "root=take_input_better()"
   ]
  },
  {
   "cell_type": "code",
   "execution_count": 4,
   "id": "b216c428",
   "metadata": {},
   "outputs": [
    {
     "data": {
      "text/plain": [
       "3"
      ]
     },
     "execution_count": 4,
     "metadata": {},
     "output_type": "execute_result"
    }
   ],
   "source": [
    "height_of_a_tree(root)"
   ]
  },
  {
   "cell_type": "code",
   "execution_count": null,
   "id": "eff6d14b",
   "metadata": {},
   "outputs": [],
   "source": []
  },
  {
   "cell_type": "code",
   "execution_count": null,
   "id": "af5a85cd",
   "metadata": {},
   "outputs": [],
   "source": []
  },
  {
   "cell_type": "code",
   "execution_count": null,
   "id": "9a669d46",
   "metadata": {},
   "outputs": [],
   "source": []
  },
  {
   "cell_type": "code",
   "execution_count": null,
   "id": "f2db7321",
   "metadata": {},
   "outputs": [],
   "source": []
  },
  {
   "cell_type": "code",
   "execution_count": null,
   "id": "4504304a",
   "metadata": {},
   "outputs": [],
   "source": []
  },
  {
   "cell_type": "code",
   "execution_count": null,
   "id": "f58c7a51",
   "metadata": {},
   "outputs": [],
   "source": []
  }
 ],
 "metadata": {
  "kernelspec": {
   "display_name": "base",
   "language": "python",
   "name": "python3"
  },
  "language_info": {
   "codemirror_mode": {
    "name": "ipython",
    "version": 3
   },
   "file_extension": ".py",
   "mimetype": "text/x-python",
   "name": "python",
   "nbconvert_exporter": "python",
   "pygments_lexer": "ipython3",
   "version": "3.12.3"
  }
 },
 "nbformat": 4,
 "nbformat_minor": 5
}
