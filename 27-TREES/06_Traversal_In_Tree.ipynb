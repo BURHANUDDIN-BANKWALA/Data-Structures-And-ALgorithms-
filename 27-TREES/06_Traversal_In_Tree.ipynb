{
 "cells": [
  {
   "cell_type": "code",
   "execution_count": 1,
   "id": "415305b8",
   "metadata": {},
   "outputs": [],
   "source": [
    "import queues \n",
    "\n",
    "class TreeNode:\n",
    "    def __init__(self,data):\n",
    "        self.data=data\n",
    "        self.children=[]\n",
    "\n",
    "def take_input_better():\n",
    "    data=int(input('Enter The Root Data'))\n",
    "    root =TreeNode(data)\n",
    "    print(root)\n",
    "\n",
    "    Q=queues.Queue()\n",
    "    Q.enqueue(root)\n",
    "    \n",
    "    while(Q.size() !=0):\n",
    "        current_node=Q.dequeue()\n",
    "        \n",
    "        print(current_node.data)\n",
    "        num_children=int(input(f'Enter The Number Of Children For {str(current_node.data)}'))\n",
    "             \n",
    "        for i in range(num_children):\n",
    "            child_data=int(input(f'Emter The Data For {i} of {current_node.data}'))\n",
    "            child_node=TreeNode(child_data)\n",
    "            current_node.children.append(child_node)\n",
    "            Q.enqueue(child_node)\n",
    "            \n",
    "        \n",
    "    return root\n",
    "\n",
    "def print_tree_detailed(root):\n",
    "    if root==None:\n",
    "        return \n",
    "    \n",
    "    print(root.data,':',end='')\n",
    "    for each_child in root.children:\n",
    "        if root.children[-1]==each_child:\n",
    "            print(each_child.data, end='')\n",
    "        else:   \n",
    "            print(each_child.data, end=',')\n",
    "        \n",
    "    print()\n",
    "    \n",
    "    for each_child in root.children:\n",
    "        print_tree_detailed(each_child)\n",
    "        "
   ]
  },
  {
   "cell_type": "markdown",
   "id": "d44c8b43",
   "metadata": {},
   "source": [
    "PREORDER TRAVESRAL\n",
    "FIRST PARENT THEN CHILDREN"
   ]
  },
  {
   "cell_type": "code",
   "execution_count": 2,
   "id": "b14ad4b5",
   "metadata": {},
   "outputs": [],
   "source": [
    "def preorder_traversal(root):\n",
    "    if root==None:\n",
    "        return\n",
    "    print(root.data, end=',')\n",
    "    for each_child in root.children:\n",
    "        preorder_traversal(each_child)"
   ]
  },
  {
   "cell_type": "code",
   "execution_count": 3,
   "id": "183c1dd8",
   "metadata": {},
   "outputs": [
    {
     "name": "stdout",
     "output_type": "stream",
     "text": [
      "<__main__.TreeNode object at 0x000002077A0209E0>\n",
      "1\n",
      "2\n",
      "3\n",
      "4\n",
      "5\n"
     ]
    }
   ],
   "source": [
    "root=take_input_better()"
   ]
  },
  {
   "cell_type": "code",
   "execution_count": 4,
   "metadata": {},
   "outputs": [
    {
     "name": "stdout",
     "output_type": "stream",
     "text": [
      "1,2,4,3,5,"
     ]
    }
   ],
   "source": [
    "preorder_traversal(root)"
   ]
  },
  {
   "cell_type": "code",
   "execution_count": 5,
   "id": "f513a3eb",
   "metadata": {},
   "outputs": [],
   "source": [
    "def postorder_traversal(root):\n",
    "    if root==None:\n",
    "        return\n",
    "\n",
    "    for each_child in root.children:\n",
    "        postorder_traversal(each_child)\n",
    "    print(root.data ,end=',')\n",
    "\n"
   ]
  },
  {
   "cell_type": "code",
   "execution_count": 6,
   "id": "de55271a",
   "metadata": {},
   "outputs": [
    {
     "name": "stdout",
     "output_type": "stream",
     "text": [
      "4,2,5,3,1,"
     ]
    }
   ],
   "source": [
    "postorder_traversal(root)"
   ]
  }
 ],
 "metadata": {
  "kernelspec": {
   "display_name": "base",
   "language": "python",
   "name": "python3"
  },
  "language_info": {
   "codemirror_mode": {
    "name": "ipython",
    "version": 3
   },
   "file_extension": ".py",
   "mimetype": "text/x-python",
   "name": "python",
   "nbconvert_exporter": "python",
   "pygments_lexer": "ipython3",
   "version": "3.12.3"
  }
 },
 "nbformat": 4,
 "nbformat_minor": 5
}
