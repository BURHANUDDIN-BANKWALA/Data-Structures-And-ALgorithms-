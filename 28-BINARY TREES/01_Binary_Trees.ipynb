{
 "cells": [
  {
   "cell_type": "code",
   "execution_count": 1,
   "id": "df8ce7ab",
   "metadata": {},
   "outputs": [],
   "source": [
    "class BinaryTreeNode:\n",
    "    def __init__(self,data):\n",
    "        self.data=data\n",
    "        self.right=None\n",
    "        self.left=None\n",
    "        "
   ]
  },
  {
   "cell_type": "code",
   "execution_count": 2,
   "id": "e21aca59",
   "metadata": {},
   "outputs": [],
   "source": [
    "root=BinaryTreeNode(1)\n",
    "root.left=BinaryTreeNode(2)\n",
    "root.right=BinaryTreeNode(3)"
   ]
  },
  {
   "cell_type": "markdown",
   "id": "9d2864d0",
   "metadata": {},
   "source": [
    "PRINTING A BINARY TREE"
   ]
  },
  {
   "cell_type": "code",
   "execution_count": 3,
   "id": "b84d298c",
   "metadata": {},
   "outputs": [],
   "source": [
    "def print_binary_tree(root):\n",
    "    if root==None:\n",
    "        return\n",
    "    print(root.data, end=':')\n",
    "\n",
    "    if root.left !=None:\n",
    "        print(f'L->{root.left.data}',end=',')\n",
    "    else:\n",
    "        print('L->None', end=',')\n",
    "\n",
    "    if root.right !=None:\n",
    "        print(f'R->{root.right.data}')\n",
    "    else:\n",
    "        print('R->None')\n",
    "    print_binary_tree(root.left)\n",
    "    print_binary_tree(root.right)\n",
    "\n"
   ]
  },
  {
   "cell_type": "code",
   "execution_count": 4,
   "id": "41ccd0a6",
   "metadata": {},
   "outputs": [
    {
     "name": "stdout",
     "output_type": "stream",
     "text": [
      "1:L->2,R->3\n",
      "2:L->None,R->None\n",
      "3:L->None,R->None\n"
     ]
    }
   ],
   "source": [
    "print_binary_tree(root)"
   ]
  },
  {
   "cell_type": "markdown",
   "id": "96ed264e",
   "metadata": {},
   "source": [
    "TAKE INPUT BINARY TREE\n"
   ]
  },
  {
   "cell_type": "code",
   "execution_count": 5,
   "id": "92febd21",
   "metadata": {},
   "outputs": [],
   "source": [
    "def take_input_binary_tree():\n",
    "    data=int(input('Enter The Data For The Node-> '))\n",
    "    if data==-1:\n",
    "        return None\n",
    "    \n",
    "    node=BinaryTreeNode(data)\n",
    "\n",
    "    print(f'Enter The Left Child For {data}-> ')\n",
    "    node.left=take_input_binary_tree()\n",
    "\n",
    "    print(f'Enter The Right Child For {data}-> ')\n",
    "    node.right=take_input_binary_tree()\n",
    "\n",
    "    return node"
   ]
  },
  {
   "cell_type": "code",
   "execution_count": 6,
   "id": "7bc11d0a",
   "metadata": {},
   "outputs": [
    {
     "name": "stdout",
     "output_type": "stream",
     "text": [
      "Enter The Left Child For 1-> \n",
      "Enter The Left Child For 2-> \n",
      "Enter The Left Child For 3-> \n",
      "Enter The Left Child For 4-> \n",
      "Enter The Left Child For 5-> \n",
      "Enter The Left Child For 6-> \n",
      "Enter The Left Child For 7-> \n",
      "Enter The Left Child For 8-> \n",
      "Enter The Left Child For 9-> \n",
      "Enter The Right Child For 9-> \n",
      "Enter The Right Child For 8-> \n",
      "Enter The Right Child For 7-> \n",
      "Enter The Right Child For 6-> \n",
      "Enter The Right Child For 5-> \n",
      "Enter The Right Child For 4-> \n",
      "Enter The Right Child For 3-> \n",
      "Enter The Right Child For 2-> \n",
      "Enter The Right Child For 1-> \n"
     ]
    }
   ],
   "source": [
    "root=take_input_binary_tree()"
   ]
  },
  {
   "cell_type": "markdown",
   "id": "0eed8388",
   "metadata": {},
   "source": [
    "TAKE INPUT LEVEL WISE\n"
   ]
  },
  {
   "cell_type": "code",
   "execution_count": 7,
   "id": "8c899617",
   "metadata": {},
   "outputs": [],
   "source": [
    "import queues "
   ]
  },
  {
   "cell_type": "code",
   "execution_count": 8,
   "id": "f59a8ce9",
   "metadata": {},
   "outputs": [],
   "source": [
    "def take_input_binary_tree_better():\n",
    "    data=int(input('Enter The Data For Root: '))\n",
    "    if data==-1:\n",
    "        return None\n",
    "    \n",
    "    root=BinaryTreeNode(data)\n",
    "    q=queues.Queue()\n",
    "    q.enqueue(root)\n",
    "    while q.size()!=0:\n",
    "        current_node=q.dequeue()\n",
    "        left_child_data=int(input(f'Enter The Left Child For {current_node.data}-> '))\n",
    "        if left_child_data !=-1:\n",
    "            left_node=BinaryTreeNode(left_child_data)\n",
    "            current_node.left=left_node\n",
    "            q.enqueue(left_node)\n",
    "\n",
    "        right_child_data=int(input(f'Enter The Right Child For {current_node.data}-> '))\n",
    "        if right_child_data !=-1:\n",
    "            right_node=BinaryTreeNode(right_child_data)\n",
    "            current_node.right=right_node\n",
    "            q.enqueue(right_node)\n",
    "\n",
    "    return root\n",
    "\n"
   ]
  },
  {
   "cell_type": "code",
   "execution_count": 33,
   "id": "34636985",
   "metadata": {},
   "outputs": [],
   "source": [
    "root=take_input_binary_tree_better()"
   ]
  },
  {
   "cell_type": "code",
   "execution_count": 34,
   "id": "aebfe6c7",
   "metadata": {},
   "outputs": [
    {
     "name": "stdout",
     "output_type": "stream",
     "text": [
      "1:L->2,R->3\n",
      "2:L->4,R->5\n",
      "4:L->8,R->9\n",
      "8:L->None,R->None\n",
      "9:L->None,R->None\n",
      "5:L->None,R->None\n",
      "3:L->6,R->7\n",
      "6:L->None,R->None\n",
      "7:L->None,R->None\n"
     ]
    }
   ],
   "source": [
    "print_binary_tree(root)"
   ]
  },
  {
   "cell_type": "markdown",
   "id": "8fbf4a6a",
   "metadata": {},
   "source": [
    "DIAMETER OF A TREE"
   ]
  },
  {
   "cell_type": "code",
   "execution_count": 35,
   "id": "c1ca323f",
   "metadata": {},
   "outputs": [],
   "source": [
    "def height(root):\n",
    "    if root==None:\n",
    "        return 0\n",
    "    \n",
    "    left_height=height(root.left)\n",
    "    right_height=height(root.right)\n",
    "\n",
    "    height_of_tree=1+max(left_height,right_height)\n",
    "    return height_of_tree"
   ]
  },
  {
   "cell_type": "code",
   "execution_count": 36,
   "id": "3b363a0f",
   "metadata": {},
   "outputs": [
    {
     "data": {
      "text/plain": [
       "4"
      ]
     },
     "execution_count": 36,
     "metadata": {},
     "output_type": "execute_result"
    }
   ],
   "source": [
    "height(root)"
   ]
  },
  {
   "cell_type": "markdown",
   "id": "be91f05f",
   "metadata": {},
   "source": [
    "DIAMETER OF A TREE"
   ]
  },
  {
   "cell_type": "code",
   "execution_count": 13,
   "id": "9cf5e4d9",
   "metadata": {},
   "outputs": [],
   "source": [
    "def diameter_of_a_tree(root):\n",
    "    if root==None:\n",
    "        return 0\n",
    "    \n",
    "    left_height=height(root.left)\n",
    "    right_height=height(root.right)\n",
    "\n",
    "    left_diameter=diameter_of_a_tree(root.left)\n",
    "    right_diameter=diameter_of_a_tree(root.right)\n",
    "\n",
    "    ans=max(left_diameter,right_diameter,left_height+right_height)\n",
    "    return ans"
   ]
  },
  {
   "cell_type": "code",
   "execution_count": 37,
   "id": "8ac6c350",
   "metadata": {},
   "outputs": [
    {
     "data": {
      "text/plain": [
       "5"
      ]
     },
     "execution_count": 37,
     "metadata": {},
     "output_type": "execute_result"
    }
   ],
   "source": [
    "diameter_of_a_tree(root)"
   ]
  },
  {
   "cell_type": "markdown",
   "id": "db5eca35",
   "metadata": {},
   "source": [
    "DIAMETER OF A TREE OPTIMIZED"
   ]
  },
  {
   "cell_type": "code",
   "execution_count": 15,
   "id": "6d490046",
   "metadata": {},
   "outputs": [],
   "source": [
    "def diameter_of_a_tree_optimized(root):\n",
    "    if root==None:\n",
    "        return 0\n",
    "    \n",
    "    left_height,left_diameter=diameter_of_a_tree(root.left)\n",
    "    right_height,right_diameter=diameter_of_a_tree(root.right)\n",
    "\n",
    "    diameter_through_root=left_height+right_height\n",
    "    ans_diameter=max(diameter_of_a_tree, left_diameter,right_diameter)\n",
    "\n",
    "    current_tree_height=1+max(left_height,right_height)\n",
    "\n",
    "    return current_tree_height,ans_diameter"
   ]
  },
  {
   "cell_type": "code",
   "execution_count": 38,
   "id": "07a29224",
   "metadata": {},
   "outputs": [
    {
     "data": {
      "text/plain": [
       "5"
      ]
     },
     "execution_count": 38,
     "metadata": {},
     "output_type": "execute_result"
    }
   ],
   "source": [
    "diameter_of_a_tree(root)\n"
   ]
  },
  {
   "cell_type": "code",
   "execution_count": 17,
   "id": "1820bab3",
   "metadata": {},
   "outputs": [],
   "source": [
    "def check_balance_and_height(root):\n",
    "    if root==None:\n",
    "        return True,0\n",
    "    \n",
    "    left_balanced,left_height=check_balance_and_height(root.left)\n",
    "    right_balanced,right_height=check_balance_and_height(root.right)\n",
    "\n",
    "    current_balanced=left_balanced and right_balanced and abs(left_height-right_height)<=1\n",
    "    current_height=1+max(left_height,right_height)\n",
    "    return current_balanced,current_height"
   ]
  },
  {
   "cell_type": "code",
   "execution_count": 39,
   "id": "b9c39b26",
   "metadata": {},
   "outputs": [
    {
     "data": {
      "text/plain": [
       "(True, 4)"
      ]
     },
     "execution_count": 39,
     "metadata": {},
     "output_type": "execute_result"
    }
   ],
   "source": [
    "check_balance_and_height(root)"
   ]
  },
  {
   "cell_type": "markdown",
   "id": "188c4e83",
   "metadata": {},
   "source": [
    "TRAVERSAL IN BINARY"
   ]
  },
  {
   "cell_type": "code",
   "execution_count": 30,
   "id": "047cf468",
   "metadata": {},
   "outputs": [],
   "source": [
    "def preorder_traversal_binary_tree(root):\n",
    "    if root==None:\n",
    "        return\n",
    "    print(root.data,end='')\n",
    "    preorder_traversal_binary_tree(root.left)\n",
    "    preorder_traversal_binary_tree(root.right)\n",
    "\n",
    "\n"
   ]
  },
  {
   "cell_type": "code",
   "execution_count": 40,
   "id": "0d4a9b99",
   "metadata": {},
   "outputs": [
    {
     "name": "stdout",
     "output_type": "stream",
     "text": [
      "124895367"
     ]
    }
   ],
   "source": [
    "preorder_traversal_binary_tree(root)"
   ]
  },
  {
   "cell_type": "code",
   "execution_count": 29,
   "id": "e5ff7a0f",
   "metadata": {},
   "outputs": [],
   "source": [
    "def postorder_traversal_binary_tree(root):\n",
    "    if root==None:\n",
    "        return \n",
    "    postorder_traversal_binary_tree(root.left)\n",
    "    postorder_traversal_binary_tree(root.right)\n",
    "\n",
    "    print(root.data, end='')\n",
    "    return"
   ]
  },
  {
   "cell_type": "code",
   "execution_count": 41,
   "id": "707fae47",
   "metadata": {},
   "outputs": [
    {
     "name": "stdout",
     "output_type": "stream",
     "text": [
      "894526731"
     ]
    }
   ],
   "source": [
    "postorder_traversal_binary_tree(root)"
   ]
  },
  {
   "cell_type": "code",
   "execution_count": 23,
   "id": "3aea6a5b",
   "metadata": {},
   "outputs": [],
   "source": [
    "def inorder_traversali_binary_tree(root):\n",
    "    if root==None:\n",
    "        return\n",
    "    \n",
    "    inorder_traversali_binary_tree(root.left)\n",
    "    print(root.data)\n",
    "    inorder_traversali_binary_tree(root.right)\n",
    "    "
   ]
  },
  {
   "cell_type": "code",
   "execution_count": 42,
   "id": "42fef3b1",
   "metadata": {},
   "outputs": [
    {
     "name": "stdout",
     "output_type": "stream",
     "text": [
      "8\n",
      "4\n",
      "9\n",
      "2\n",
      "5\n",
      "1\n",
      "6\n",
      "3\n",
      "7\n"
     ]
    }
   ],
   "source": [
    "inorder_traversali_binary_tree(root)"
   ]
  },
  {
   "cell_type": "markdown",
   "id": "1272795d",
   "metadata": {},
   "source": [
    "CONSTRUCTION OF BINARY TREE FROM PREORDER AND INORDER"
   ]
  },
  {
   "cell_type": "code",
   "execution_count": 43,
   "id": "a0b7d57b",
   "metadata": {},
   "outputs": [],
   "source": [
    "def construct_binary_tree_from_preorder_and_inorder(inorder,preorder,inS,inE,prS,prE):\n",
    "    if (inS>inE or prS>prE):\n",
    "        return None\n",
    "    \n",
    "    root_data=preorder[prS]\n",
    "    root=BinaryTreeNode(root_data)\n",
    "\n",
    "    root_index_in_inorder=-1\n",
    "    for i in range(inS,inE+1):\n",
    "        if(inorder[i]==root_data):\n",
    "            root_index_in_inorder=i\n",
    "            break\n",
    "    \n",
    "    if root_index_in_inorder==-1:\n",
    "        print(f'Root Not Found For Inorder {root.data}')\n",
    "        return None\n",
    "    \n",
    "    linS=inS\n",
    "    linE=root_index_in_inorder-1\n",
    "    lprS=prS+1\n",
    "    lprE=lprS+(linE-linS)\n",
    "\n",
    "    rinS=inE\n",
    "    rprE=lprE+1\n",
    "    rprE=prE\n",
    "    rinS=root_index_in_inorder+1\n",
    "\n",
    "    root.left=construct_binary_tree_from_preorder_and_inorder(inorder,preorder,linS,linE,lprS,lprE)\n",
    "    root.left=construct_binary_tree_from_preorder_and_inorder(inorder,preorder,rinS,rinE,rprS,rprE)\n",
    "\n",
    "    return root"
   ]
  },
  {
   "cell_type": "markdown",
   "id": "cb55e34a",
   "metadata": {},
   "source": [
    "CONSTRUCTION OF BINARY TREE FROM INORDER AND POSTORDER"
   ]
  },
  {
   "cell_type": "code",
   "execution_count": null,
   "id": "7b686f47",
   "metadata": {},
   "outputs": [],
   "source": []
  },
  {
   "cell_type": "code",
   "execution_count": null,
   "id": "1244c46a",
   "metadata": {},
   "outputs": [],
   "source": []
  },
  {
   "cell_type": "code",
   "execution_count": null,
   "id": "46d41609",
   "metadata": {},
   "outputs": [],
   "source": []
  },
  {
   "cell_type": "code",
   "execution_count": null,
   "id": "8f9f2632",
   "metadata": {},
   "outputs": [],
   "source": []
  },
  {
   "cell_type": "code",
   "execution_count": null,
   "metadata": {},
   "outputs": [],
   "source": []
  },
  {
   "cell_type": "code",
   "execution_count": null,
   "id": "b5444ece",
   "metadata": {},
   "outputs": [],
   "source": []
  },
  {
   "cell_type": "code",
   "execution_count": null,
   "id": "f1c4d27e",
   "metadata": {},
   "outputs": [],
   "source": []
  },
  {
   "cell_type": "code",
   "execution_count": null,
   "id": "a92e79d5",
   "metadata": {},
   "outputs": [],
   "source": []
  },
  {
   "cell_type": "code",
   "execution_count": null,
   "id": "a411c15f",
   "metadata": {},
   "outputs": [],
   "source": []
  },
  {
   "cell_type": "code",
   "execution_count": null,
   "id": "c32bd005",
   "metadata": {},
   "outputs": [],
   "source": []
  }
 ],
 "metadata": {
  "kernelspec": {
   "display_name": "base",
   "language": "python",
   "name": "python3"
  },
  "language_info": {
   "codemirror_mode": {
    "name": "ipython",
    "version": 3
   },
   "file_extension": ".py",
   "mimetype": "text/x-python",
   "name": "python",
   "nbconvert_exporter": "python",
   "pygments_lexer": "ipython3",
   "version": "3.12.3"
  }
 },
 "nbformat": 4,
 "nbformat_minor": 5
}
