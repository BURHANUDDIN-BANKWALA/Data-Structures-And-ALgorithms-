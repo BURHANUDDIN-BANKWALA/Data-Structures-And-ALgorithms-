{
 "cells": [
  {
   "cell_type": "code",
   "execution_count": 1,
   "id": "4023825a",
   "metadata": {},
   "outputs": [],
   "source": [
    "class BinarySearchTreeNode:\n",
    "    def __init__(self,data):\n",
    "        self.data=data\n",
    "        self.left=None\n",
    "        self.right=None\n",
    "    \n"
   ]
  },
  {
   "cell_type": "code",
   "execution_count": 2,
   "id": "7fc583a9",
   "metadata": {},
   "outputs": [],
   "source": [
    "    def print_bst(root):\n",
    "        if root==None:\n",
    "            return \n",
    "        \n",
    "        print_bst(root.left)\n",
    "        print(root.data,end='')\n",
    "        print_bst(root.right)\n",
    "\n",
    "    def print_binary_tree(root):\n",
    "        pass\n",
    "        ## PREVIOUSLY DEFINED##\n",
    "\n",
    "    def search_in_bst(root,value):\n",
    "        if root==None:\n",
    "            return value +'Not Found'\n",
    "        \n",
    "        if root.data==value:\n",
    "            print(value+' Found.')\n",
    "            return root\n",
    "        \n",
    "        if root.data>value:\n",
    "            return search_in_bst(root.left,value)\n",
    "        \n",
    "        if root.data<value:\n",
    "            return search_in_bst(root.right)\n"
   ]
  },
  {
   "cell_type": "markdown",
   "id": "53741312",
   "metadata": {},
   "source": [
    "CONVERTING SORTED ARRAY TO BST"
   ]
  },
  {
   "cell_type": "code",
   "execution_count": 3,
   "id": "09f5c24c",
   "metadata": {},
   "outputs": [],
   "source": [
    "def sorted_list_to_bst(lst):\n",
    "    if len(lst)==0:\n",
    "        return None\n",
    "    \n",
    "    mid=len(lst)//2\n",
    "\n",
    "    root_data=lst[mid]\n",
    "    root=BinarySearchTreeNode(root_data)\n",
    "\n",
    "    root.left=sorted_list_to_bst(lst[:mid])\n",
    "    root.right=sorted_list_to_bst(lst[mid+1:])\n",
    "\n",
    "    return root\n",
    "##CHECK\n"
   ]
  },
  {
   "cell_type": "markdown",
   "id": "4e8d0c04",
   "metadata": {},
   "source": [
    "TO CHECK IF BINARY TREE IS BINARY SEARCH TREE"
   ]
  },
  {
   "cell_type": "code",
   "execution_count": 4,
   "id": "577cca14",
   "metadata": {},
   "outputs": [],
   "source": [
    "def find_max(node):\n",
    "    if node==None:\n",
    "        return float('-inf')\n",
    "    \n",
    "    left_max=find_max(node.left)\n",
    "    right_max=find_max(node.right)\n",
    "\n",
    "    ans=max(left_max,right_max,node.data)\n",
    "    return ans\n",
    "\n",
    "def find_min(node):\n",
    "    if node==None:\n",
    "        return float('inf')\n",
    "    \n",
    "    left_min=find_min(node.left)\n",
    "    right_min=find_min(node.right)\n",
    "\n",
    "    ans=min(left_min,right_min,node.data)\n",
    "    return ans\n",
    "\n",
    "def checkBST(root):\n",
    "    if root==None:\n",
    "        return True\n",
    "    \n",
    "    left_max=find_max(root.left)\n",
    "    right_max=find_min(root.right)\n",
    "\n",
    "    left_BST=checkBST(root.left)\n",
    "    right_BST=checkBST(root.right)\n",
    "\n",
    "    ans=left_BST and right_BST and (left_max<root.data)and (root.data<root.min)\n",
    "\n",
    "    return ans"
   ]
  },
  {
   "cell_type": "code",
   "execution_count": 5,
   "id": "bf511f44",
   "metadata": {},
   "outputs": [],
   "source": [
    "## CHECKBST OPTIMIZED DO YOURSELF"
   ]
  },
  {
   "cell_type": "markdown",
   "id": "ac67a8d8",
   "metadata": {},
   "source": [
    "PRINT ELEMENTS IN RANGE"
   ]
  },
  {
   "cell_type": "code",
   "execution_count": 6,
   "id": "df5b7c8e",
   "metadata": {},
   "outputs": [],
   "source": [
    "def print_bst_in_range(root,low,high):\n",
    "    if root==None:\n",
    "        return\n",
    "    \n",
    "    if low<root.data:\n",
    "        print_bst_in_range(root.left,low,high)\n",
    "\n",
    "    if low<=root.data<=high:\n",
    "        print(root.data,end=',')\n",
    "\n",
    "    if high>root.data:\n",
    "        print_bst_in_range(root.right,low,high)\n",
    "\n",
    "    "
   ]
  },
  {
   "cell_type": "markdown",
   "id": "befcda0d",
   "metadata": {},
   "source": [
    "CHECK IF BST WITH RANGE"
   ]
  },
  {
   "cell_type": "code",
   "execution_count": 7,
   "id": "982ccd5f",
   "metadata": {},
   "outputs": [],
   "source": [
    "def checkBST_limit(root,minimum,maximum):\n",
    "    if root==None:\n",
    "        return True\n",
    "    \n",
    "    if root.data<minimum or root.data>maximum:\n",
    "        return False\n",
    "    \n",
    "    ans_left=checkBST_limit(root.left,minimum,maximum)\n",
    "    ans_right=checkBST_limit(root.right,minimum,maximum)\n",
    "\n",
    "    return ans_left and ans_right"
   ]
  },
  {
   "cell_type": "code",
   "execution_count": 8,
   "id": "885c390c",
   "metadata": {},
   "outputs": [
    {
     "ename": "NameError",
     "evalue": "name 'root' is not defined",
     "output_type": "error",
     "traceback": [
      "\u001b[1;31m---------------------------------------------------------------------------\u001b[0m",
      "\u001b[1;31mNameError\u001b[0m                                 Traceback (most recent call last)",
      "Cell \u001b[1;32mIn[8], line 1\u001b[0m\n\u001b[1;32m----> 1\u001b[0m \u001b[38;5;28mprint\u001b[39m(checkBST_limit(root,\u001b[38;5;28mfloat\u001b[39m(\u001b[38;5;124m'\u001b[39m\u001b[38;5;124m-inf\u001b[39m\u001b[38;5;124m'\u001b[39m),\u001b[38;5;28mfloat\u001b[39m(\u001b[38;5;124m'\u001b[39m\u001b[38;5;124minf\u001b[39m\u001b[38;5;124m'\u001b[39m)))\n",
      "\u001b[1;31mNameError\u001b[0m: name 'root' is not defined"
     ]
    }
   ],
   "source": [
    "print(checkBST_limit(root,float('-inf'),float('inf')))"
   ]
  },
  {
   "cell_type": "code",
   "execution_count": null,
   "id": "c47e8d58",
   "metadata": {},
   "outputs": [],
   "source": []
  }
 ],
 "metadata": {
  "kernelspec": {
   "display_name": "base",
   "language": "python",
   "name": "python3"
  },
  "language_info": {
   "codemirror_mode": {
    "name": "ipython",
    "version": 3
   },
   "file_extension": ".py",
   "mimetype": "text/x-python",
   "name": "python",
   "nbconvert_exporter": "python",
   "pygments_lexer": "ipython3",
   "version": "3.12.3"
  }
 },
 "nbformat": 4,
 "nbformat_minor": 5
}
